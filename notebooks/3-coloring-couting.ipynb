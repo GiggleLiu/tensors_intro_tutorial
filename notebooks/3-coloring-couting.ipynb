{
 "cells": [
  {
   "cell_type": "markdown",
   "metadata": {
    "slideshow": {
     "slide_type": "slide"
    }
   },
   "source": [
    "# 3 - Coloring problem"
   ]
  },
  {
   "cell_type": "markdown",
   "metadata": {},
   "source": [
    "#### Theorem (Planar graph 3-colorings, Penrose 1971)\n",
    "The number K of proper 3- edge-colorings of a planar 3-regular graph is obtained by replacing each node with an order-3 **epsilon tensor**, replacing each edge with a wire, and then contracting the resulting tensor network.\n",
    "\n",
    "> Roger Penrose, “Applications of negative dimensional tensors,” in Combinatorial Mathematics and its Applications, edited by D. Welsh (Academic Press, New York, 1971) pp. 221–244."
   ]
  },
  {
   "cell_type": "code",
   "execution_count": 1,
   "metadata": {
    "slideshow": {
     "slide_type": "slide"
    }
   },
   "outputs": [],
   "source": [
    "using OMEinsum, LinearAlgebra"
   ]
  },
  {
   "cell_type": "code",
   "execution_count": 31,
   "metadata": {
    "scrolled": false
   },
   "outputs": [
    {
     "data": {
      "text/plain": [
       "3×3×3 Array{Int64,3}:\n",
       "[:, :, 1] =\n",
       " 0  0  0\n",
       " 0  0  1\n",
       " 0  1  0\n",
       "\n",
       "[:, :, 2] =\n",
       " 0  0  1\n",
       " 0  0  0\n",
       " 1  0  0\n",
       "\n",
       "[:, :, 3] =\n",
       " 0  1  0\n",
       " 1  0  0\n",
       " 0  0  0"
      ]
     },
     "execution_count": 31,
     "metadata": {},
     "output_type": "execute_result"
    }
   ],
   "source": [
    "# define the symmetrizer tensor\n",
    "s_tensor(n::Int) = map(x->Int(length(unique(x.I)) == n), CartesianIndices(fill(n,n)|>Tuple))\n",
    "I3 = Matrix(I, 3,3)\n",
    "s = s_tensor(3)"
   ]
  },
  {
   "cell_type": "markdown",
   "metadata": {
    "slideshow": {
     "slide_type": "slide"
    }
   },
   "source": [
    "## A two-node 3-regular graph\n",
    "\n",
    "\n",
    "<img src=\"images/twonode.png\" width=\"200px\"/>"
   ]
  },
  {
   "cell_type": "code",
   "execution_count": 3,
   "metadata": {},
   "outputs": [
    {
     "data": {
      "text/plain": [
       "0-dimensional Array{Int64,0}:\n",
       "6"
      ]
     },
     "execution_count": 3,
     "metadata": {},
     "output_type": "execute_result"
    }
   ],
   "source": [
    "# einstein summation notation\n",
    "ein\"ijk,ijk->\"(s, s)"
   ]
  },
  {
   "cell_type": "markdown",
   "metadata": {
    "slideshow": {
     "slide_type": "slide"
    }
   },
   "source": [
    "<img src=\"images/twonode_all.png\" width=\"800px\"/>"
   ]
  },
  {
   "cell_type": "markdown",
   "metadata": {
    "slideshow": {
     "slide_type": "slide"
    }
   },
   "source": [
    "## Complete Graph $K_4$"
   ]
  },
  {
   "cell_type": "code",
   "execution_count": 4,
   "metadata": {},
   "outputs": [
    {
     "data": {
      "text/plain": [
       "0-dimensional Array{Int64,0}:\n",
       "6"
      ]
     },
     "execution_count": 4,
     "metadata": {},
     "output_type": "execute_result"
    }
   ],
   "source": [
    "ein\"ijk,klm,njo,oli->\"(s, s, s, s)"
   ]
  },
  {
   "cell_type": "markdown",
   "metadata": {
    "slideshow": {
     "slide_type": "slide"
    }
   },
   "source": [
    "## Peterson graph\n",
    "\n",
    "\n",
    "<img src=\"images/_petersenijk.png\" width=\"400px\"/>"
   ]
  },
  {
   "cell_type": "code",
   "execution_count": 60,
   "metadata": {},
   "outputs": [
    {
     "data": {
      "text/plain": [
       "0-dimensional Array{Int64,0}:\n",
       "0"
      ]
     },
     "execution_count": 60,
     "metadata": {},
     "output_type": "execute_result"
    }
   ],
   "source": [
    "ein\"afl,bhn,cjf,dlh,enj,ago,big,cki,dmk,eom->\"(fill(s, 10)...)"
   ]
  },
  {
   "cell_type": "code",
   "execution_count": 66,
   "metadata": {},
   "outputs": [
    {
     "data": {
      "text/plain": [
       "([0.0 0.0 0.0; 0.0 0.0 0.0; 0.0 0.0 0.0]\n",
       "\n",
       "[0.0 0.0 0.0; 0.0 0.0 0.0; 0.0 0.0 0.0]\n",
       "\n",
       "[0.0 0.0 0.0; 0.0 0.0 0.0; 0.0 0.0 0.0],)"
      ]
     },
     "execution_count": 66,
     "metadata": {},
     "output_type": "execute_result"
    }
   ],
   "source": [
    "using Zygote\n",
    "Zygote.gradient(x->ein\"afl,bhn,cjf,dlh,enj,ago,big,cki,dmk,eom->\"(x,s,s,s,s,s,s,s,s,s)[], s)"
   ]
  },
  {
   "cell_type": "code",
   "execution_count": 67,
   "metadata": {},
   "outputs": [
    {
     "data": {
      "text/plain": [
       "0-dimensional Array{Float64,0}:\n",
       "0.0"
      ]
     },
     "execution_count": 67,
     "metadata": {},
     "output_type": "execute_result"
    }
   ],
   "source": [
    "ein\"afl,bhn,cjf,dlh,enj,ago,big,cki,dmk,eom->\"(ones(3,3,3),s,s,s,s,s,s,s,s,s)"
   ]
  },
  {
   "cell_type": "code",
   "execution_count": 59,
   "metadata": {},
   "outputs": [
    {
     "data": {
      "text/plain": [
       "0"
      ]
     },
     "execution_count": 59,
     "metadata": {},
     "output_type": "execute_result"
    }
   ],
   "source": [
    "# naive looping\n",
    "satisfied(a, b, c) = a!=b && b!=c && c!=a ? 1 : 0\n",
    "\n",
    "function petersen_coloring()\n",
    "    res = 0\n",
    "    for a=1:3, b=1:3, c=1:3, d=1:3, e=1:3, f=1:3, g=1:3, h=1:3, i=1:3, j=1:3, k=1:3, l=1:3, m=1:3, n=1:3, o=1:3\n",
    "        res += satisfied(a,f,l)*satisfied(b,h,n)*satisfied(c,j,f)*satisfied(d,l,h)*satisfied(e,n,j)*\n",
    "        satisfied(a,g,o)*satisfied(b,i,g)*satisfied(c,k,i)*satisfied(d,m,k)*satisfied(e,o,m)\n",
    "    end\n",
    "    res\n",
    "end\n",
    "\n",
    "petersen_coloring()"
   ]
  },
  {
   "cell_type": "markdown",
   "metadata": {
    "slideshow": {
     "slide_type": "slide"
    }
   },
   "source": [
    "# properties of s tensors"
   ]
  },
  {
   "cell_type": "code",
   "execution_count": 7,
   "metadata": {},
   "outputs": [
    {
     "data": {
      "text/plain": [
       "δ (generic function with 1 method)"
      ]
     },
     "execution_count": 7,
     "metadata": {},
     "output_type": "execute_result"
    }
   ],
   "source": [
    "# define a delta tensor\n",
    "function δ(n::Int)\n",
    "    t = zeros(Int, fill(n, n) |> Tuple)\n",
    "    for i=1:n\n",
    "        t[fill(i, n)...] = 1\n",
    "    end\n",
    "    t\n",
    "end"
   ]
  },
  {
   "cell_type": "code",
   "execution_count": 8,
   "metadata": {},
   "outputs": [],
   "source": [
    "using Test"
   ]
  },
  {
   "cell_type": "code",
   "execution_count": 14,
   "metadata": {},
   "outputs": [
    {
     "data": {
      "text/plain": [
       "\u001b[32m\u001b[1mTest Passed\u001b[22m\u001b[39m"
      ]
     },
     "execution_count": 14,
     "metadata": {},
     "output_type": "execute_result"
    }
   ],
   "source": [
    "@test ein\"ijk->ikj\"(s)≈ s"
   ]
  },
  {
   "cell_type": "code",
   "execution_count": 19,
   "metadata": {},
   "outputs": [
    {
     "data": {
      "text/plain": [
       "\u001b[32m\u001b[1mTest Passed\u001b[22m\u001b[39m"
      ]
     },
     "execution_count": 19,
     "metadata": {},
     "output_type": "execute_result"
    }
   ],
   "source": [
    "@test ein\"ijk,ijk->\"(s,s)[] ≈ 6"
   ]
  },
  {
   "cell_type": "code",
   "execution_count": 21,
   "metadata": {
    "scrolled": false
   },
   "outputs": [
    {
     "data": {
      "text/plain": [
       "\u001b[32m\u001b[1mTest Passed\u001b[22m\u001b[39m"
      ]
     },
     "execution_count": 21,
     "metadata": {},
     "output_type": "execute_result"
    }
   ],
   "source": [
    "@test ein\"ijk,klm->ijlm\"(s,s) ≈\n",
    "    ein\"il,jm->ijlm\"(I3,I3) +\n",
    "    ein\"im,jl->ijlm\"(I3,I3) -\n",
    "    2*ein\"ijk,klm->ijlm\"(δ(3),δ(3))"
   ]
  },
  {
   "cell_type": "code",
   "execution_count": 41,
   "metadata": {},
   "outputs": [
    {
     "data": {
      "text/plain": [
       "\u001b[32m\u001b[1mTest Passed\u001b[22m\u001b[39m"
      ]
     },
     "execution_count": 41,
     "metadata": {},
     "output_type": "execute_result"
    }
   ],
   "source": [
    "# idempotence\n",
    "E = ein\"ijk,lmn->ijklmn\"(s, s)/factorial(3)\n",
    "@test ein\"ijklmn,lmnopq->ijkopq\"(E, E) ≈ E"
   ]
  },
  {
   "cell_type": "code",
   "execution_count": 29,
   "metadata": {},
   "outputs": [
    {
     "data": {
      "text/plain": [
       "\u001b[32m\u001b[1mTest Passed\u001b[22m\u001b[39m"
      ]
     },
     "execution_count": 29,
     "metadata": {},
     "output_type": "execute_result"
    }
   ],
   "source": [
    "@test ein\"ijk,jkl->il\"(s, s) ≈ 2*I"
   ]
  },
  {
   "cell_type": "code",
   "execution_count": 39,
   "metadata": {},
   "outputs": [
    {
     "data": {
      "text/plain": [
       "\u001b[32m\u001b[1mTest Passed\u001b[22m\u001b[39m"
      ]
     },
     "execution_count": 39,
     "metadata": {},
     "output_type": "execute_result"
    }
   ],
   "source": [
    "@test ein\"ijk,klm,mni->jln\"(s, s, s) ≈ s"
   ]
  },
  {
   "cell_type": "code",
   "execution_count": 51,
   "metadata": {},
   "outputs": [
    {
     "data": {
      "text/plain": [
       "\u001b[32m\u001b[1mTest Passed\u001b[22m\u001b[39m"
      ]
     },
     "execution_count": 51,
     "metadata": {},
     "output_type": "execute_result"
    }
   ],
   "source": [
    "@test einsum(((1,2,3), (3,4,5), (5,6,7), (7,8,1)), (s, s, s, s), (2,4,6,8)) ≈\n",
    "    einsum(((2,8),(4,6)), (I3,I3), (2,4,6,8)) +\n",
    "    einsum(((2,4),(8,6)), (I3,I3), (2,4,6,8))"
   ]
  },
  {
   "cell_type": "code",
   "execution_count": 40,
   "metadata": {},
   "outputs": [
    {
     "data": {
      "text/plain": [
       "\u001b[32m\u001b[1mTest Passed\u001b[22m\u001b[39m"
      ]
     },
     "execution_count": 40,
     "metadata": {},
     "output_type": "execute_result"
    }
   ],
   "source": [
    "@test ein\"ijk,klm,mno,opq,qsi->jlnps\"(s, s, s, s, s) ≈\n",
    "    ein\"jln,ps->jlnps\"(s,I3) +\n",
    "    ein\"jps,ln->jlnps\"(s,I3) +\n",
    "    ein\"nps,jl->jlnps\"(s,I3) -\n",
    "    ein\"sjt,tlu,unp->jlnps\"(s,s,s)"
   ]
  },
  {
   "cell_type": "markdown",
   "metadata": {
    "slideshow": {
     "slide_type": "slide"
    }
   },
   "source": [
    "# 3-SAT problem\n",
    "\n",
    "Example: $(\\lnot x_1 \\lor x_2 \\lor x_3)\\land(\\lnot x_2\\lor\\lnot x_3\\lor x_4)\\land(x_3\\lor x_1\\lor x_4)$"
   ]
  },
  {
   "cell_type": "code",
   "execution_count": 99,
   "metadata": {},
   "outputs": [],
   "source": [
    "indices = CartesianIndices((2,2,2))\n",
    "C1 = map(x-> Int(x[1]==1 || x[2]==2 || x[3]==2), indices)\n",
    "C2 = map(x-> Int(x[1]==1 || x[2]==1 || x[3]==2), indices)\n",
    "C3 = map(x-> Int(x[1]==2 || x[2]==2 || x[3]==2), indices);"
   ]
  },
  {
   "cell_type": "code",
   "execution_count": 100,
   "metadata": {},
   "outputs": [
    {
     "data": {
      "text/plain": [
       "0-dimensional Array{Int64,0}:\n",
       "10"
      ]
     },
     "execution_count": 100,
     "metadata": {},
     "output_type": "execute_result"
    }
   ],
   "source": [
    "ein\"abc,bcd,cad->\"(C1, C2, C3)"
   ]
  },
  {
   "cell_type": "code",
   "execution_count": 103,
   "metadata": {},
   "outputs": [
    {
     "name": "stdout",
     "output_type": "stream",
     "text": [
      "0011\n",
      "0100\n",
      "0101\n",
      "1000\n",
      "1010\n",
      "1011\n",
      "1100\n",
      "1101\n",
      "1110\n",
      "1111\n"
     ]
    }
   ],
   "source": [
    "sat(x1, x2, x3, x4) = any((x1,x2,x3) .== (0,1,1)) && any((x2,x3,x4) .== (0,0,1)) && any((x3,x1,x4) .== (1,1,1))\n",
    "using BitBasis\n",
    "for b in basis(4)\n",
    "    x1 = readbit(b, 1)\n",
    "    x2 = readbit(b, 2)\n",
    "    x3 = readbit(b, 3)\n",
    "    x4 = readbit(b, 4)\n",
    "    if sat(x1,x2,x3,x4)\n",
    "        println((b |> bitstring)[end-3:end])\n",
    "    end\n",
    "end"
   ]
  },
  {
   "cell_type": "code",
   "execution_count": null,
   "metadata": {},
   "outputs": [],
   "source": []
  }
 ],
 "metadata": {
  "@webio": {
   "lastCommId": null,
   "lastKernelId": null
  },
  "celltoolbar": "Slideshow",
  "kernelspec": {
   "display_name": "Julia 1.1.0",
   "language": "julia",
   "name": "julia-1.1"
  },
  "language_info": {
   "file_extension": ".jl",
   "mimetype": "application/julia",
   "name": "julia",
   "version": "1.1.0"
  }
 },
 "nbformat": 4,
 "nbformat_minor": 2
}
