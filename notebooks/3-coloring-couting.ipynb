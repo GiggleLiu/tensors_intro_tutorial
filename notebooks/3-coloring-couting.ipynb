{
 "cells": [
  {
   "cell_type": "code",
   "execution_count": 1,
   "metadata": {},
   "outputs": [],
   "source": [
    "using OMEinsum, LinearAlgebra"
   ]
  },
  {
   "cell_type": "markdown",
   "metadata": {},
   "source": [
    "# 3 - Coloring problem"
   ]
  },
  {
   "cell_type": "markdown",
   "metadata": {},
   "source": [
    "#### Theorem (Planar graph 3-colorings, Penrose 1971)\n",
    "The number K of proper 3- edge-colorings of a planar 3-regular graph is obtained by replacing each node with an order-3 **epsilon tensor**, replacing each edge with a wire, and then contracting the resulting tensor network.\n",
    "\n",
    "> Roger Penrose, “Applications of negative dimensional tensors,” in Combinatorial Mathematics and its Applications, edited by D. Welsh (Academic Press, New York, 1971) pp. 221–244."
   ]
  },
  {
   "cell_type": "code",
   "execution_count": 2,
   "metadata": {
    "scrolled": false
   },
   "outputs": [
    {
     "data": {
      "text/plain": [
       "3×3×3 Array{Int64,3}:\n",
       "[:, :, 1] =\n",
       " 0  0  0\n",
       " 0  0  1\n",
       " 0  1  0\n",
       "\n",
       "[:, :, 2] =\n",
       " 0  0  1\n",
       " 0  0  0\n",
       " 1  0  0\n",
       "\n",
       "[:, :, 3] =\n",
       " 0  1  0\n",
       " 1  0  0\n",
       " 0  0  0"
      ]
     },
     "execution_count": 2,
     "metadata": {},
     "output_type": "execute_result"
    }
   ],
   "source": [
    "# define the symmetrizer tensor\n",
    "s_tensor(n::Int) = map(x->Int(length(unique(x.I)) == n), CartesianIndices(fill(n,n)|>Tuple))\n",
    "ϵ = s_tensor(3)"
   ]
  },
  {
   "cell_type": "markdown",
   "metadata": {},
   "source": [
    "#### Properties"
   ]
  },
  {
   "cell_type": "code",
   "execution_count": 3,
   "metadata": {},
   "outputs": [],
   "source": [
    "using Test"
   ]
  },
  {
   "cell_type": "markdown",
   "metadata": {},
   "source": [
    "## A two-node 3-regular graph\n",
    "\n",
    "\n",
    "<img src=\"images/twonode.png\" width=\"200px\"/>"
   ]
  },
  {
   "cell_type": "code",
   "execution_count": 4,
   "metadata": {},
   "outputs": [
    {
     "data": {
      "text/plain": [
       "0-dimensional Array{Int64,0}:\n",
       "6"
      ]
     },
     "execution_count": 4,
     "metadata": {},
     "output_type": "execute_result"
    }
   ],
   "source": [
    "einsum(((1,2,3), (1,2,3)), (ϵ, ϵ), ())"
   ]
  },
  {
   "cell_type": "markdown",
   "metadata": {},
   "source": [
    "<img src=\"images/twonode_all.png\" width=\"800px\"/>"
   ]
  },
  {
   "cell_type": "markdown",
   "metadata": {},
   "source": [
    "## Complete Graph $K_4$"
   ]
  },
  {
   "cell_type": "code",
   "execution_count": 11,
   "metadata": {},
   "outputs": [
    {
     "data": {
      "text/plain": [
       "0-dimensional Array{Int64,0}:\n",
       "6"
      ]
     },
     "execution_count": 11,
     "metadata": {},
     "output_type": "execute_result"
    }
   ],
   "source": [
    "einsum(((1,2,3), (3,4,5), (5,2,6), (6,4,1)), (ϵ, ϵ, ϵ, ϵ), ())"
   ]
  },
  {
   "cell_type": "markdown",
   "metadata": {},
   "source": [
    "## Peterson graph\n",
    "\n",
    "\n",
    "<img src=\"images/peterson.png\" width=\"400px\"/>"
   ]
  },
  {
   "cell_type": "code",
   "execution_count": 5,
   "metadata": {},
   "outputs": [
    {
     "data": {
      "text/plain": [
       "15-element Array{Tuple{Int64,Int64},1}:\n",
       " (1, 6) \n",
       " (2, 7) \n",
       " (3, 8) \n",
       " (4, 9) \n",
       " (5, 10)\n",
       " (1, 2) \n",
       " (2, 3) \n",
       " (3, 4) \n",
       " (4, 5) \n",
       " (5, 1) \n",
       " (6, 8) \n",
       " (8, 10)\n",
       " (10, 7)\n",
       " (7, 9) \n",
       " (9, 6) "
      ]
     },
     "execution_count": 5,
     "metadata": {},
     "output_type": "execute_result"
    }
   ],
   "source": [
    "edges = [(1,6), (2,7), (3,8), (4,9), (5,10), (1,2), (2,3), (3,4), (4,5), (5,1), (6,8), (8,10), (10,7), (7,9), (9,6)]"
   ]
  },
  {
   "cell_type": "code",
   "execution_count": 6,
   "metadata": {},
   "outputs": [
    {
     "data": {
      "text/plain": [
       "dual_graph (generic function with 1 method)"
      ]
     },
     "execution_count": 6,
     "metadata": {},
     "output_type": "execute_result"
    }
   ],
   "source": [
    "# compute the edges of the dual graph\n",
    "function dual_graph(edges)\n",
    "    vertices = [Int[] for i in 1:maximum(union(edges...))]\n",
    "    for (i, edge) in enumerate(edges)\n",
    "        for v in edge\n",
    "            push!(vertices[v], i)\n",
    "        end\n",
    "    end\n",
    "    return Tuple.(vertices)\n",
    "end"
   ]
  },
  {
   "cell_type": "code",
   "execution_count": 7,
   "metadata": {},
   "outputs": [
    {
     "data": {
      "text/plain": [
       "10-element Array{Tuple{Int64,Int64,Int64},1}:\n",
       " (1, 6, 10) \n",
       " (2, 6, 7)  \n",
       " (3, 7, 8)  \n",
       " (4, 8, 9)  \n",
       " (5, 9, 10) \n",
       " (1, 11, 15)\n",
       " (2, 13, 14)\n",
       " (3, 11, 12)\n",
       " (4, 14, 15)\n",
       " (5, 12, 13)"
      ]
     },
     "execution_count": 7,
     "metadata": {},
     "output_type": "execute_result"
    }
   ],
   "source": [
    "dg = dual_graph(edges)"
   ]
  },
  {
   "cell_type": "code",
   "execution_count": 8,
   "metadata": {},
   "outputs": [
    {
     "data": {
      "text/plain": [
       "0-dimensional Array{Int64,0}:\n",
       "0"
      ]
     },
     "execution_count": 8,
     "metadata": {},
     "output_type": "execute_result"
    }
   ],
   "source": [
    "einsum(Tuple(dg), Tuple(ϵ for i=1:length(dg)), ())"
   ]
  },
  {
   "cell_type": "markdown",
   "metadata": {},
   "source": [
    "## $K_{3,3}$ Graph"
   ]
  },
  {
   "cell_type": "markdown",
   "metadata": {},
   "source": [
    "\n",
    "<img src=\"images/k33.png\" width=\"400px\"/>"
   ]
  },
  {
   "cell_type": "code",
   "execution_count": 9,
   "metadata": {},
   "outputs": [
    {
     "data": {
      "text/plain": [
       "9-element Array{Tuple{Int64,Int64},1}:\n",
       " (1, 2)\n",
       " (2, 3)\n",
       " (3, 4)\n",
       " (4, 5)\n",
       " (5, 6)\n",
       " (6, 1)\n",
       " (1, 4)\n",
       " (2, 5)\n",
       " (3, 6)"
      ]
     },
     "execution_count": 9,
     "metadata": {},
     "output_type": "execute_result"
    }
   ],
   "source": [
    "edges = [(1,2), (2,3), (3,4), (4,5), (5,6), (6,1), (1,4), (2,5), (3,6)]"
   ]
  },
  {
   "cell_type": "code",
   "execution_count": 10,
   "metadata": {},
   "outputs": [
    {
     "data": {
      "text/plain": [
       "0-dimensional Array{Int64,0}:\n",
       "12"
      ]
     },
     "execution_count": 10,
     "metadata": {},
     "output_type": "execute_result"
    }
   ],
   "source": [
    "dg = dual_graph(edges)\n",
    "einsum(Tuple(dg), Tuple(ϵ for i=1:length(dg)), ())"
   ]
  },
  {
   "cell_type": "code",
   "execution_count": null,
   "metadata": {},
   "outputs": [],
   "source": []
  }
 ],
 "metadata": {
  "@webio": {
   "lastCommId": null,
   "lastKernelId": null
  },
  "kernelspec": {
   "display_name": "Julia 1.1.0",
   "language": "julia",
   "name": "julia-1.1"
  },
  "language_info": {
   "file_extension": ".jl",
   "mimetype": "application/julia",
   "name": "julia",
   "version": "1.1.0"
  }
 },
 "nbformat": 4,
 "nbformat_minor": 2
}
