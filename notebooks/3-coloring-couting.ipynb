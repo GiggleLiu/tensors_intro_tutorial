{
 "cells": [
  {
   "cell_type": "markdown",
   "metadata": {
    "slideshow": {
     "slide_type": "slide"
    }
   },
   "source": [
    "# 3 - Coloring problem"
   ]
  },
  {
   "cell_type": "markdown",
   "metadata": {},
   "source": [
    "#### Theorem (Planar graph 3-colorings, Penrose 1971)\n",
    "The number K of proper 3- edge-colorings of a planar 3-regular graph is obtained by replacing each node with an order-3 **epsilon tensor**, replacing each edge with a wire, and then contracting the resulting tensor network.\n",
    "\n",
    "> Roger Penrose, “Applications of negative dimensional tensors,” in Combinatorial Mathematics and its Applications, edited by D. Welsh (Academic Press, New York, 1971) pp. 221–244."
   ]
  },
  {
   "cell_type": "code",
   "execution_count": 71,
   "metadata": {
    "slideshow": {
     "slide_type": "slide"
    }
   },
   "outputs": [],
   "source": [
    "using OMEinsum, LinearAlgebra"
   ]
  },
  {
   "cell_type": "code",
   "execution_count": 72,
   "metadata": {
    "scrolled": false
   },
   "outputs": [
    {
     "data": {
      "text/plain": [
       "3×3×3 Array{Int64,3}:\n",
       "[:, :, 1] =\n",
       " 0  0  0\n",
       " 0  0  1\n",
       " 0  1  0\n",
       "\n",
       "[:, :, 2] =\n",
       " 0  0  1\n",
       " 0  0  0\n",
       " 1  0  0\n",
       "\n",
       "[:, :, 3] =\n",
       " 0  1  0\n",
       " 1  0  0\n",
       " 0  0  0"
      ]
     },
     "execution_count": 72,
     "metadata": {},
     "output_type": "execute_result"
    }
   ],
   "source": [
    "# define the symmetrizer tensor\n",
    "s_tensor(n::Int) = map(x->Int(length(unique(x.I)) == n), CartesianIndices(fill(n,n)|>Tuple))\n",
    "I3 = Matrix(I, 3,3)\n",
    "ϵ = s_tensor(3)"
   ]
  },
  {
   "cell_type": "markdown",
   "metadata": {
    "slideshow": {
     "slide_type": "slide"
    }
   },
   "source": [
    "## A two-node 3-regular graph\n",
    "\n",
    "\n",
    "<img src=\"images/twonode.png\" width=\"200px\"/>"
   ]
  },
  {
   "cell_type": "code",
   "execution_count": 73,
   "metadata": {},
   "outputs": [
    {
     "data": {
      "text/plain": [
       "0-dimensional Array{Int64,0}:\n",
       "6"
      ]
     },
     "execution_count": 73,
     "metadata": {},
     "output_type": "execute_result"
    }
   ],
   "source": [
    "# einstein summation notation\n",
    "einsum(((1,2,3), (1,2,3)), (ϵ, ϵ), ())"
   ]
  },
  {
   "cell_type": "markdown",
   "metadata": {
    "slideshow": {
     "slide_type": "slide"
    }
   },
   "source": [
    "<img src=\"images/twonode_all.png\" width=\"800px\"/>"
   ]
  },
  {
   "cell_type": "markdown",
   "metadata": {
    "slideshow": {
     "slide_type": "slide"
    }
   },
   "source": [
    "## Complete Graph $K_4$"
   ]
  },
  {
   "cell_type": "code",
   "execution_count": 11,
   "metadata": {},
   "outputs": [
    {
     "data": {
      "text/plain": [
       "0-dimensional Array{Int64,0}:\n",
       "6"
      ]
     },
     "execution_count": 11,
     "metadata": {},
     "output_type": "execute_result"
    }
   ],
   "source": [
    "einsum(((1,2,3), (3,4,5), (5,2,6), (6,4,1)), (ϵ, ϵ, ϵ, ϵ), ())"
   ]
  },
  {
   "cell_type": "markdown",
   "metadata": {
    "slideshow": {
     "slide_type": "slide"
    }
   },
   "source": [
    "## Peterson graph\n",
    "\n",
    "\n",
    "<img src=\"images/peterson.png\" width=\"400px\"/>"
   ]
  },
  {
   "cell_type": "code",
   "execution_count": 69,
   "metadata": {
    "slideshow": {
     "slide_type": "slide"
    }
   },
   "outputs": [],
   "source": [
    "edges = [(1,6), (2,7), (3,8), (4,9), (5,10), (1,2), (2,3), (3,4), (4,5), (5,1), (6,8), (8,10), (10,7), (7,9), (9,6)];"
   ]
  },
  {
   "cell_type": "code",
   "execution_count": 6,
   "metadata": {
    "slideshow": {
     "slide_type": "slide"
    }
   },
   "outputs": [
    {
     "data": {
      "text/plain": [
       "dual_graph (generic function with 1 method)"
      ]
     },
     "execution_count": 6,
     "metadata": {},
     "output_type": "execute_result"
    }
   ],
   "source": [
    "# compute the edges of the dual graph\n",
    "function dual_graph(edges)\n",
    "    vertices = [Int[] for i in 1:maximum(union(edges...))]\n",
    "    for (i, edge) in enumerate(edges)\n",
    "        for v in edge\n",
    "            push!(vertices[v], i)\n",
    "        end\n",
    "    end\n",
    "    return Tuple.(vertices)\n",
    "end"
   ]
  },
  {
   "cell_type": "code",
   "execution_count": 7,
   "metadata": {},
   "outputs": [
    {
     "data": {
      "text/plain": [
       "10-element Array{Tuple{Int64,Int64,Int64},1}:\n",
       " (1, 6, 10) \n",
       " (2, 6, 7)  \n",
       " (3, 7, 8)  \n",
       " (4, 8, 9)  \n",
       " (5, 9, 10) \n",
       " (1, 11, 15)\n",
       " (2, 13, 14)\n",
       " (3, 11, 12)\n",
       " (4, 14, 15)\n",
       " (5, 12, 13)"
      ]
     },
     "execution_count": 7,
     "metadata": {},
     "output_type": "execute_result"
    }
   ],
   "source": [
    "dg = dual_graph(edges)"
   ]
  },
  {
   "cell_type": "code",
   "execution_count": 8,
   "metadata": {
    "slideshow": {
     "slide_type": "slide"
    }
   },
   "outputs": [
    {
     "data": {
      "text/plain": [
       "0-dimensional Array{Int64,0}:\n",
       "0"
      ]
     },
     "execution_count": 8,
     "metadata": {},
     "output_type": "execute_result"
    }
   ],
   "source": [
    "einsum(Tuple(dg), Tuple(ϵ for i=1:length(dg)), ())"
   ]
  },
  {
   "cell_type": "markdown",
   "metadata": {
    "slideshow": {
     "slide_type": "slide"
    }
   },
   "source": [
    "## $K_{3,3}$ Graph"
   ]
  },
  {
   "cell_type": "markdown",
   "metadata": {},
   "source": [
    "\n",
    "<img src=\"images/k33.png\" width=\"400px\"/>"
   ]
  },
  {
   "cell_type": "code",
   "execution_count": 9,
   "metadata": {
    "slideshow": {
     "slide_type": "slide"
    }
   },
   "outputs": [
    {
     "data": {
      "text/plain": [
       "9-element Array{Tuple{Int64,Int64},1}:\n",
       " (1, 2)\n",
       " (2, 3)\n",
       " (3, 4)\n",
       " (4, 5)\n",
       " (5, 6)\n",
       " (6, 1)\n",
       " (1, 4)\n",
       " (2, 5)\n",
       " (3, 6)"
      ]
     },
     "execution_count": 9,
     "metadata": {},
     "output_type": "execute_result"
    }
   ],
   "source": [
    "edges = [(1,2), (2,3), (3,4), (4,5), (5,6), (6,1), (1,4), (2,5), (3,6)]"
   ]
  },
  {
   "cell_type": "code",
   "execution_count": 10,
   "metadata": {},
   "outputs": [
    {
     "data": {
      "text/plain": [
       "0-dimensional Array{Int64,0}:\n",
       "12"
      ]
     },
     "execution_count": 10,
     "metadata": {},
     "output_type": "execute_result"
    }
   ],
   "source": [
    "dg = dual_graph(edges)\n",
    "einsum(Tuple(dg), Tuple(ϵ for i=1:length(dg)), ())"
   ]
  },
  {
   "cell_type": "code",
   "execution_count": null,
   "metadata": {
    "slideshow": {
     "slide_type": "slide"
    }
   },
   "outputs": [],
   "source": []
  },
  {
   "cell_type": "markdown",
   "metadata": {
    "slideshow": {
     "slide_type": "slide"
    }
   },
   "source": [
    "# properties of s tensors"
   ]
  },
  {
   "cell_type": "code",
   "execution_count": 70,
   "metadata": {},
   "outputs": [
    {
     "data": {
      "text/plain": [
       "δ (generic function with 1 method)"
      ]
     },
     "execution_count": 70,
     "metadata": {},
     "output_type": "execute_result"
    }
   ],
   "source": [
    "# define a delta tensor\n",
    "function δ(n::Int)\n",
    "    t = zeros(Int, fill(n, n) |> Tuple)\n",
    "    for i=1:n\n",
    "        t[fill(i, n)...] = 1\n",
    "    end\n",
    "    t\n",
    "end"
   ]
  },
  {
   "cell_type": "code",
   "execution_count": 37,
   "metadata": {},
   "outputs": [],
   "source": [
    "using Test"
   ]
  },
  {
   "cell_type": "code",
   "execution_count": 38,
   "metadata": {},
   "outputs": [
    {
     "data": {
      "text/plain": [
       "\u001b[32m\u001b[1mTest Passed\u001b[22m\u001b[39m"
      ]
     },
     "execution_count": 38,
     "metadata": {},
     "output_type": "execute_result"
    }
   ],
   "source": [
    "@test einsum(((1,2,3),), (ϵ,), (1,3,2)) ≈ ϵ"
   ]
  },
  {
   "cell_type": "code",
   "execution_count": 39,
   "metadata": {},
   "outputs": [
    {
     "data": {
      "text/plain": [
       "\u001b[32m\u001b[1mTest Passed\u001b[22m\u001b[39m"
      ]
     },
     "execution_count": 39,
     "metadata": {},
     "output_type": "execute_result"
    }
   ],
   "source": [
    "@test einsum(((1,2,3),(1,2,3)), (ϵ, ϵ), ())[] ≈ 6"
   ]
  },
  {
   "cell_type": "code",
   "execution_count": 68,
   "metadata": {
    "scrolled": true
   },
   "outputs": [
    {
     "data": {
      "text/plain": [
       "\u001b[32m\u001b[1mTest Passed\u001b[22m\u001b[39m"
      ]
     },
     "execution_count": 68,
     "metadata": {},
     "output_type": "execute_result"
    }
   ],
   "source": [
    "@test einsum(((1,2,3),(3,4,5)), (ϵ,ϵ), (1,2,4,5)) ≈\n",
    "    einsum(((1,4),(2,5)), (I3,I3), (1,2,4,5)) +\n",
    "    einsum(((1,5),(2,4)), (I3,I3), (1,2,4,5)) -\n",
    "    2*einsum(((1,2,3),(3,4,5)), (δ(3),δ(3)), (1,2,4,5))"
   ]
  },
  {
   "cell_type": "code",
   "execution_count": 42,
   "metadata": {},
   "outputs": [
    {
     "data": {
      "text/plain": [
       "\u001b[32m\u001b[1mTest Passed\u001b[22m\u001b[39m"
      ]
     },
     "execution_count": 42,
     "metadata": {},
     "output_type": "execute_result"
    }
   ],
   "source": [
    "# idempotence\n",
    "E = einsum(((1,2,3), (4,5,6)), (ϵ, ϵ), (1,2,3,4,5,6))/factorial(3)\n",
    "@test E2 = einsum(((1,2,3,4,5,6), (4,5,6,7,8,9)), (E, E), (1,2,3,7,8,9)) ≈ E"
   ]
  },
  {
   "cell_type": "code",
   "execution_count": 44,
   "metadata": {},
   "outputs": [
    {
     "data": {
      "text/plain": [
       "\u001b[32m\u001b[1mTest Passed\u001b[22m\u001b[39m"
      ]
     },
     "execution_count": 44,
     "metadata": {},
     "output_type": "execute_result"
    }
   ],
   "source": [
    "@test einsum(((1,2,3), (2,3,4)), (ϵ, ϵ), (1,4)) ≈ 2*I"
   ]
  },
  {
   "cell_type": "code",
   "execution_count": 45,
   "metadata": {},
   "outputs": [
    {
     "data": {
      "text/plain": [
       "\u001b[32m\u001b[1mTest Passed\u001b[22m\u001b[39m"
      ]
     },
     "execution_count": 45,
     "metadata": {},
     "output_type": "execute_result"
    }
   ],
   "source": [
    "@test einsum(((1,2,3), (3,4,5), (5,6,1)), (ϵ, ϵ, ϵ), (2,4,6)) ≈ ϵ"
   ]
  },
  {
   "cell_type": "code",
   "execution_count": 51,
   "metadata": {},
   "outputs": [
    {
     "data": {
      "text/plain": [
       "\u001b[32m\u001b[1mTest Passed\u001b[22m\u001b[39m"
      ]
     },
     "execution_count": 51,
     "metadata": {},
     "output_type": "execute_result"
    }
   ],
   "source": [
    "@test einsum(((1,2,3), (3,4,5), (5,6,7), (7,8,1)), (ϵ, ϵ, ϵ, ϵ), (2,4,6,8)) ≈\n",
    "    einsum(((2,8),(4,6)), (I3,I3), (2,4,6,8)) +\n",
    "    einsum(((2,4),(8,6)), (I3,I3), (2,4,6,8))"
   ]
  },
  {
   "cell_type": "code",
   "execution_count": 53,
   "metadata": {},
   "outputs": [
    {
     "data": {
      "text/plain": [
       "\u001b[32m\u001b[1mTest Passed\u001b[22m\u001b[39m"
      ]
     },
     "execution_count": 53,
     "metadata": {},
     "output_type": "execute_result"
    }
   ],
   "source": [
    "@test einsum(((1,2,3), (3,4,5), (5,6,7), (7,8,9), (9,10,1)), (ϵ, ϵ, ϵ, ϵ, ϵ), (2,4,6,8,10)) ≈\n",
    "    einsum(((2,4,6),(8,10)), (ϵ,I3), (2,4,6,8,10)) +\n",
    "    einsum(((2,8,10),(4,6)), (ϵ,I3), (2,4,6,8,10)) +\n",
    "    einsum(((6,8,10),(2,4)), (ϵ,I3), (2,4,6,8,10)) -\n",
    "    einsum(((10,2,11),(11,4,12),(12,6,8)), (ϵ,ϵ,ϵ), (2,4,6,8,10))"
   ]
  },
  {
   "cell_type": "markdown",
   "metadata": {},
   "source": [
    "## Quantum Computability"
   ]
  },
  {
   "cell_type": "code",
   "execution_count": 12,
   "metadata": {},
   "outputs": [
    {
     "data": {
      "text/plain": [
       "9×9 Array{Int64,2}:\n",
       " 0  0  0  0  1  0  0  0  1\n",
       " 0  0  0  1  0  0  0  0  0\n",
       " 0  0  0  0  0  0  1  0  0\n",
       " 0  1  0  0  0  0  0  0  0\n",
       " 1  0  0  0  0  0  0  0  1\n",
       " 0  0  0  0  0  0  0  1  0\n",
       " 0  0  1  0  0  0  0  0  0\n",
       " 0  0  0  0  0  1  0  0  0\n",
       " 1  0  0  0  1  0  0  0  0"
      ]
     },
     "execution_count": 12,
     "metadata": {},
     "output_type": "execute_result"
    }
   ],
   "source": [
    "u2 = reshape(einsum(((1,2,3), (4,2,5)), (ϵ, ϵ), (1,4,3,5)), (9,9))"
   ]
  },
  {
   "cell_type": "code",
   "execution_count": 13,
   "metadata": {},
   "outputs": [
    {
     "data": {
      "text/plain": [
       "true"
      ]
     },
     "execution_count": 13,
     "metadata": {},
     "output_type": "execute_result"
    }
   ],
   "source": [
    "u2' ≈ u2"
   ]
  },
  {
   "cell_type": "code",
   "execution_count": 15,
   "metadata": {},
   "outputs": [
    {
     "data": {
      "text/plain": [
       "9×9 Array{Int64,2}:\n",
       " 0  0  0  0  0  0  0  0  0\n",
       " 0  0  1  0  0  0  0  0  0\n",
       " 0  1  0  0  0  0  0  0  0\n",
       " 0  0  0  0  0  1  0  0  0\n",
       " 0  0  0  0  0  0  0  0  0\n",
       " 0  0  0  1  0  0  0  0  0\n",
       " 0  0  0  0  0  0  0  1  0\n",
       " 0  0  0  0  0  0  1  0  0\n",
       " 0  0  0  0  0  0  0  0  0"
      ]
     },
     "execution_count": 15,
     "metadata": {},
     "output_type": "execute_result"
    }
   ],
   "source": [
    "u1 = reshape(einsum(((1,2,3), (4,2,5)), (ϵ, δ(3)), (1,4,3,5)), (9,9))"
   ]
  },
  {
   "cell_type": "code",
   "execution_count": 32,
   "metadata": {},
   "outputs": [
    {
     "data": {
      "text/plain": [
       "9×9 Array{Int64,2}:\n",
       " 0  0  0  0  0  0  0  0  0\n",
       " 0  1  0  0  0  0  0  0  0\n",
       " 0  0  1  0  0  0  0  0  0\n",
       " 0  0  0  1  0  0  0  0  0\n",
       " 0  0  0  0  0  0  0  0  0\n",
       " 0  0  0  0  0  1  0  0  0\n",
       " 0  0  0  0  0  0  1  0  0\n",
       " 0  0  0  0  0  0  0  1  0\n",
       " 0  0  0  0  0  0  0  0  0"
      ]
     },
     "execution_count": 32,
     "metadata": {},
     "output_type": "execute_result"
    }
   ],
   "source": [
    "u1'*u1"
   ]
  },
  {
   "cell_type": "code",
   "execution_count": 16,
   "metadata": {},
   "outputs": [
    {
     "data": {
      "text/plain": [
       "true"
      ]
     },
     "execution_count": 16,
     "metadata": {},
     "output_type": "execute_result"
    }
   ],
   "source": [
    "u2' ≈ u2"
   ]
  },
  {
   "cell_type": "code",
   "execution_count": 7,
   "metadata": {},
   "outputs": [
    {
     "data": {
      "text/plain": [
       "9×9 Array{Int64,2}:\n",
       " 2  0  0  0  1  0  0  0  1\n",
       " 0  1  0  0  0  0  0  0  0\n",
       " 0  0  1  0  0  0  0  0  0\n",
       " 0  0  0  1  0  0  0  0  0\n",
       " 1  0  0  0  2  0  0  0  1\n",
       " 0  0  0  0  0  1  0  0  0\n",
       " 0  0  0  0  0  0  1  0  0\n",
       " 0  0  0  0  0  0  0  1  0\n",
       " 1  0  0  0  1  0  0  0  2"
      ]
     },
     "execution_count": 7,
     "metadata": {},
     "output_type": "execute_result"
    }
   ],
   "source": [
    " h"
   ]
  },
  {
   "cell_type": "code",
   "execution_count": 26,
   "metadata": {},
   "outputs": [
    {
     "data": {
      "text/plain": [
       "9×9 Array{Complex{Float64},2}:\n",
       " 1.0+0.0im  0.0+0.0im    0.0+0.0im    …  0.0+0.0im    0.0+0.0im    0.0+0.0im\n",
       " 0.0+0.0im  1.0+0.0im    0.0+0.011im     0.0+0.0im    0.0+0.0im    0.0+0.0im\n",
       " 0.0+0.0im  0.0+0.011im  1.0+0.0im       0.0+0.0im    0.0+0.0im    0.0+0.0im\n",
       " 0.0+0.0im  0.0+0.0im    0.0+0.0im       0.0+0.0im    0.0+0.0im    0.0+0.0im\n",
       " 0.0+0.0im  0.0+0.0im    0.0+0.0im       0.0+0.0im    0.0+0.0im    0.0+0.0im\n",
       " 0.0+0.0im  0.0+0.0im    0.0+0.0im    …  0.0+0.0im    0.0+0.0im    0.0+0.0im\n",
       " 0.0+0.0im  0.0+0.0im    0.0+0.0im       1.0+0.0im    0.0+0.011im  0.0+0.0im\n",
       " 0.0+0.0im  0.0+0.0im    0.0+0.0im       0.0+0.011im  1.0+0.0im    0.0+0.0im\n",
       " 0.0+0.0im  0.0+0.0im    0.0+0.0im       0.0+0.0im    0.0+0.0im    1.0+0.0im"
      ]
     },
     "execution_count": 26,
     "metadata": {},
     "output_type": "execute_result"
    }
   ],
   "source": [
    "U = (I+0.011im*u1)"
   ]
  },
  {
   "cell_type": "code",
   "execution_count": 25,
   "metadata": {},
   "outputs": [
    {
     "data": {
      "text/plain": [
       "9×9 Array{Complex{Int64},2}:\n",
       " 1+0im  0+0im  0+0im  0+0im  0+0im  0+0im  0+0im  0+0im  0+0im\n",
       " 0+0im  2+0im  0+0im  0+0im  0+0im  0+0im  0+0im  0+0im  0+0im\n",
       " 0+0im  0+0im  2+0im  0+0im  0+0im  0+0im  0+0im  0+0im  0+0im\n",
       " 0+0im  0+0im  0+0im  2+0im  0+0im  0+0im  0+0im  0+0im  0+0im\n",
       " 0+0im  0+0im  0+0im  0+0im  1+0im  0+0im  0+0im  0+0im  0+0im\n",
       " 0+0im  0+0im  0+0im  0+0im  0+0im  2+0im  0+0im  0+0im  0+0im\n",
       " 0+0im  0+0im  0+0im  0+0im  0+0im  0+0im  2+0im  0+0im  0+0im\n",
       " 0+0im  0+0im  0+0im  0+0im  0+0im  0+0im  0+0im  2+0im  0+0im\n",
       " 0+0im  0+0im  0+0im  0+0im  0+0im  0+0im  0+0im  0+0im  1+0im"
      ]
     },
     "execution_count": 25,
     "metadata": {},
     "output_type": "execute_result"
    }
   ],
   "source": [
    "U*U'"
   ]
  },
  {
   "cell_type": "code",
   "execution_count": null,
   "metadata": {},
   "outputs": [],
   "source": []
  }
 ],
 "metadata": {
  "@webio": {
   "lastCommId": null,
   "lastKernelId": null
  },
  "celltoolbar": "Slideshow",
  "kernelspec": {
   "display_name": "Julia 1.1.0",
   "language": "julia",
   "name": "julia-1.1"
  },
  "language_info": {
   "file_extension": ".jl",
   "mimetype": "application/julia",
   "name": "julia",
   "version": "1.1.0"
  }
 },
 "nbformat": 4,
 "nbformat_minor": 2
}
