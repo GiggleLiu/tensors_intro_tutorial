{
 "cells": [
  {
   "cell_type": "markdown",
   "metadata": {
    "slideshow": {
     "slide_type": "slide"
    }
   },
   "source": [
    "# A quick introduction to quantum computing\n",
    "<img src=\"images/logo.png\" width=\"400px\"/>\n",
    "\n",
    "Extensible, Efficient Quantum Algorithm Design for Humans.\n",
    "https://github.com/QuantumBFS/Yao.jl"
   ]
  },
  {
   "cell_type": "code",
   "execution_count": 8,
   "metadata": {},
   "outputs": [
    {
     "data": {
      "text/plain": [
       "ArrayReg{1, Complex{Float64}, Array...}\n",
       "    active qubits: 3/3"
      ]
     },
     "execution_count": 8,
     "metadata": {},
     "output_type": "execute_result"
    }
   ],
   "source": [
    "using Yao, BitBasis\n",
    "reg = product_state(3, 0b110)"
   ]
  },
  {
   "cell_type": "markdown",
   "metadata": {
    "slideshow": {
     "slide_type": "slide"
    }
   },
   "source": [
    "# classical circuits"
   ]
  },
  {
   "cell_type": "markdown",
   "metadata": {},
   "source": [
    "### Inverse Gate - X"
   ]
  },
  {
   "cell_type": "code",
   "execution_count": 33,
   "metadata": {},
   "outputs": [
    {
     "data": {
      "text/plain": [
       "\"0b111\""
      ]
     },
     "execution_count": 33,
     "metadata": {},
     "output_type": "execute_result"
    }
   ],
   "source": [
    "# |0> -----|X|-------\n",
    "#\n",
    "# |1> ---------------\n",
    "#\n",
    "# |1> ---------------\n",
    "\n",
    "function read(reg)\n",
    "    \"0b\"*prod(copy(reg) |> measure |> first |> bitarray(nqubits(reg)) .|> Int .|> string)\n",
    "end\n",
    "res = copy(reg) |> put(3, 1=>X) |> read!"
   ]
  },
  {
   "cell_type": "markdown",
   "metadata": {
    "slideshow": {
     "slide_type": "slide"
    }
   },
   "source": [
    "### XOR Gate - CNOT"
   ]
  },
  {
   "cell_type": "code",
   "execution_count": 34,
   "metadata": {},
   "outputs": [
    {
     "name": "stdout",
     "output_type": "stream",
     "text": [
      "(copy(reg) |> control(3, 2, 1 => X)) |> read = \"0b111\"\n",
      "(copy(reg) |> control(3, 1, 2 => X)) |> read = \"0b011\"\n"
     ]
    }
   ],
   "source": [
    "# |0> -----|X|-------\n",
    "#           |\n",
    "# |1> ------.--------\n",
    "#\n",
    "# |1> ---------------\n",
    "\n",
    "@show copy(reg) |> control(3, 2, 1=>X) |> read\n",
    "@show copy(reg) |> control(3, 1, 2=>X) |> read;"
   ]
  },
  {
   "attachments": {},
   "cell_type": "markdown",
   "metadata": {
    "slideshow": {
     "slide_type": "slide"
    }
   },
   "source": [
    "# Cubic or Qubic?\n",
    "<img src=\"images/cubic.jpg\" width=\"600px\"/>\n",
    "\n",
    "<img src=\"images/nd-tensors.png\" width=\"600px\"/>"
   ]
  },
  {
   "cell_type": "markdown",
   "metadata": {
    "slideshow": {
     "slide_type": "slide"
    }
   },
   "source": [
    "# What happens inside a quantum simulator"
   ]
  },
  {
   "cell_type": "code",
   "execution_count": 35,
   "metadata": {},
   "outputs": [
    {
     "data": {
      "text/plain": [
       "8-element Array{Complex{Float64},1}:\n",
       " 0.0 + 0.0im\n",
       " 0.0 + 0.0im\n",
       " 0.0 + 0.0im\n",
       " 0.0 + 0.0im\n",
       " 0.0 + 0.0im\n",
       " 0.0 + 0.0im\n",
       " 1.0 + 0.0im\n",
       " 0.0 + 0.0im"
      ]
     },
     "execution_count": 35,
     "metadata": {},
     "output_type": "execute_result"
    }
   ],
   "source": [
    "# one hot representation\n",
    "statevec(reg)"
   ]
  },
  {
   "cell_type": "markdown",
   "metadata": {
    "slideshow": {
     "slide_type": "slide"
    }
   },
   "source": [
    "# A review of X gate in Hilbert space"
   ]
  },
  {
   "cell_type": "code",
   "execution_count": 36,
   "metadata": {
    "slideshow": {
     "slide_type": "-"
    }
   },
   "outputs": [
    {
     "data": {
      "text/plain": [
       "2×2 LuxurySparse.PermMatrix{Complex{Float64},Int64,Array{Complex{Float64},1},Array{Int64,1}}:\n",
       "    0       1.0+0.0im\n",
       " 1.0+0.0im     0     "
      ]
     },
     "execution_count": 36,
     "metadata": {},
     "output_type": "execute_result"
    }
   ],
   "source": [
    "mat(X)"
   ]
  },
  {
   "cell_type": "code",
   "execution_count": 37,
   "metadata": {
    "slideshow": {
     "slide_type": "-"
    }
   },
   "outputs": [
    {
     "data": {
      "text/plain": [
       "8-element Array{Complex{Float64},1}:\n",
       " 0.0 + 0.0im\n",
       " 0.0 + 0.0im\n",
       " 0.0 + 0.0im\n",
       " 0.0 + 0.0im\n",
       " 0.0 + 0.0im\n",
       " 0.0 + 0.0im\n",
       " 0.0 + 0.0im\n",
       " 1.0 + 0.0im"
      ]
     },
     "execution_count": 37,
     "metadata": {},
     "output_type": "execute_result"
    }
   ],
   "source": [
    "statevec(copy(reg) |> put(3, 1=>X))"
   ]
  },
  {
   "cell_type": "markdown",
   "metadata": {
    "slideshow": {
     "slide_type": "slide"
    }
   },
   "source": [
    "# A quantum Gate\n",
    "* A classical gate is a permutation matrix\n",
    "* A quantum gate should be unitary (expect measure)\n",
    "* A quantum state lies on the unit ball of the hypercubic"
   ]
  },
  {
   "cell_type": "markdown",
   "metadata": {
    "slideshow": {
     "slide_type": "slide"
    }
   },
   "source": [
    "# One half of an X Gate"
   ]
  },
  {
   "cell_type": "code",
   "execution_count": 40,
   "metadata": {
    "slideshow": {
     "slide_type": "-"
    }
   },
   "outputs": [
    {
     "data": {
      "text/plain": [
       "8-element Array{Complex{Float64},1}:\n",
       "                0.0 + 0.0im               \n",
       "                0.0 + 0.0im               \n",
       "                0.0 + 0.0im               \n",
       "                0.0 + 0.0im               \n",
       "                0.0 + 0.0im               \n",
       "                0.0 + 0.0im               \n",
       " 0.7071067811865476 + 0.0im               \n",
       "                0.0 - 0.7071067811865475im"
      ]
     },
     "execution_count": 40,
     "metadata": {},
     "output_type": "execute_result"
    }
   ],
   "source": [
    "res = copy(reg) |> put(3, 1=>Rx(π/2))\n",
    "statevec(res)"
   ]
  },
  {
   "cell_type": "markdown",
   "metadata": {
    "slideshow": {
     "slide_type": "slide"
    }
   },
   "source": [
    "# super-position"
   ]
  },
  {
   "cell_type": "code",
   "execution_count": 46,
   "metadata": {
    "slideshow": {
     "slide_type": "-"
    }
   },
   "outputs": [
    {
     "name": "stdout",
     "output_type": "stream",
     "text": [
      "read(res) = \"0b011\"\n",
      "read(res) = \"0b111\"\n",
      "read(res) = \"0b011\"\n",
      "read(res) = \"0b011\"\n",
      "read(res) = \"0b011\"\n",
      "read(res) = \"0b111\"\n",
      "read(res) = \"0b111\"\n",
      "read(res) = \"0b111\"\n",
      "read(res) = \"0b111\"\n",
      "read(res) = \"0b111\"\n"
     ]
    }
   ],
   "source": [
    "for i=1:10\n",
    "    @show read(res)  # NOTE: our nature can not repeatedly read a register.\n",
    "end"
   ]
  },
  {
   "cell_type": "markdown",
   "metadata": {},
   "source": [
    "# special topics\n",
    "* quantum circuit and renormalization group - MERA"
   ]
  },
  {
   "cell_type": "code",
   "execution_count": null,
   "metadata": {},
   "outputs": [],
   "source": []
  }
 ],
 "metadata": {
  "celltoolbar": "Slideshow",
  "kernelspec": {
   "display_name": "Julia 1.1.0",
   "language": "julia",
   "name": "julia-1.1"
  },
  "language_info": {
   "file_extension": ".jl",
   "mimetype": "application/julia",
   "name": "julia",
   "version": "1.1.0"
  }
 },
 "nbformat": 4,
 "nbformat_minor": 2
}
