{
 "cells": [
  {
   "cell_type": "code",
   "execution_count": 86,
   "metadata": {},
   "outputs": [],
   "source": [
    "using OMEinsum, LinearAlgebra\n",
    "using Combinatorics"
   ]
  },
  {
   "cell_type": "markdown",
   "metadata": {},
   "source": [
    "# 3 - Coloring problem"
   ]
  },
  {
   "cell_type": "markdown",
   "metadata": {},
   "source": [
    "#### Theorem (Planar graph 3-colorings, Penrose 1971)\n",
    "The number K of proper 3- edge-colorings of a planar 3-regular graph is obtained by replacing each node with an order-3 **epsilon tensor**, replacing each edge with a wire, and then contracting the resulting tensor network.\n",
    "\n",
    "> Roger Penrose, “Applications of negative dimensional tensors,” in Combinatorial Mathematics and its Applications, edited by D. Welsh (Academic Press, New York, 1971) pp. 221–244."
   ]
  },
  {
   "cell_type": "code",
   "execution_count": 136,
   "metadata": {
    "scrolled": true
   },
   "outputs": [
    {
     "data": {
      "text/plain": [
       "3×3×3 Array{Int64,3}:\n",
       "[:, :, 1] =\n",
       " 0  0  0\n",
       " 0  0  1\n",
       " 0  1  0\n",
       "\n",
       "[:, :, 2] =\n",
       " 0  0  1\n",
       " 0  0  0\n",
       " 1  0  0\n",
       "\n",
       "[:, :, 3] =\n",
       " 0  1  0\n",
       " 1  0  0\n",
       " 0  0  0"
      ]
     },
     "execution_count": 136,
     "metadata": {},
     "output_type": "execute_result"
    }
   ],
   "source": [
    "I3 = Diagonal(fill(1, 3))\n",
    "# define the Levi-Civita symbol\n",
    "lc_tensor(n::Int) = map(x->levicivita([x.I...]), CartesianIndices(fill(n,n)|>Tuple))\n",
    "ϵ = lc_tensor(3) .|> abs"
   ]
  },
  {
   "cell_type": "markdown",
   "metadata": {},
   "source": [
    "#### Properties"
   ]
  },
  {
   "cell_type": "code",
   "execution_count": 137,
   "metadata": {},
   "outputs": [],
   "source": [
    "using Test"
   ]
  },
  {
   "cell_type": "code",
   "execution_count": 138,
   "metadata": {},
   "outputs": [
    {
     "name": "stdout",
     "output_type": "stream",
     "text": [
      "\u001b[91m\u001b[1mTest Failed\u001b[22m\u001b[39m at \u001b[39m\u001b[1mIn[138]:1\u001b[22m\n",
      "  Expression: einsum(((1, 2, 3),), (ϵ,), (1, 3, 2)) ≈ -ϵ\n",
      "   Evaluated: [0 0 0; 0 0 1; 0 1 0]\n",
      "\n",
      "[0 0 1; 0 0 0; 1 0 0]\n",
      "\n",
      "[0 1 0; 1 0 0; 0 0 0] ≈ [0 0 0; 0 0 -1; 0 -1 0]\n",
      "\n",
      "[0 0 -1; 0 0 0; -1 0 0]\n",
      "\n",
      "[0 -1 0; -1 0 0; 0 0 0]\n"
     ]
    },
    {
     "ename": "Test.FallbackTestSetException",
     "evalue": "There was an error during testing",
     "output_type": "error",
     "traceback": [
      "There was an error during testing",
      "",
      "Stacktrace:",
      " [1] record(::Test.FallbackTestSet, ::Test.Fail) at /buildworker/worker/package_linux64/build/usr/share/julia/stdlib/v1.1/Test/src/Test.jl:707",
      " [2] do_test(::Test.Returned, ::Expr) at /buildworker/worker/package_linux64/build/usr/share/julia/stdlib/v1.1/Test/src/Test.jl:496",
      " [3] top-level scope at In[138]:1"
     ]
    }
   ],
   "source": [
    "@test einsum(((1,2,3),), (ϵ,), (1,3,2)) ≈ -ϵ"
   ]
  },
  {
   "cell_type": "code",
   "execution_count": 134,
   "metadata": {},
   "outputs": [
    {
     "data": {
      "text/plain": [
       "\u001b[32m\u001b[1mTest Passed\u001b[22m\u001b[39m"
      ]
     },
     "execution_count": 134,
     "metadata": {},
     "output_type": "execute_result"
    }
   ],
   "source": [
    "@test einsum(((1,2,3),(1,2,3)), (ϵ, ϵ), ())[] ≈ 6"
   ]
  },
  {
   "cell_type": "code",
   "execution_count": 121,
   "metadata": {},
   "outputs": [
    {
     "data": {
      "text/plain": [
       "\u001b[32m\u001b[1mTest Passed\u001b[22m\u001b[39m"
      ]
     },
     "execution_count": 121,
     "metadata": {},
     "output_type": "execute_result"
    }
   ],
   "source": [
    "@test einsum(((1,2,3),(3,4,5)), (ϵ,ϵ), (1,2,4,5)) ≈\n",
    "    einsum(((1,4),(2,5)), (I3,I3), (1,2,4,5)) -\n",
    "    einsum(((1,5),(2,4)), (I3,I3), (1,2,4,5))"
   ]
  },
  {
   "cell_type": "code",
   "execution_count": 117,
   "metadata": {},
   "outputs": [
    {
     "data": {
      "text/plain": [
       "\u001b[32m\u001b[1mTest Passed\u001b[22m\u001b[39m"
      ]
     },
     "execution_count": 117,
     "metadata": {},
     "output_type": "execute_result"
    }
   ],
   "source": [
    "# idempotence\n",
    "E = einsum(((1,2,3), (4,5,6)), (ϵ, ϵ), (1,2,3,4,5,6))/factorial(3)\n",
    "@test E2 = einsum(((1,2,3,4,5,6), (4,5,6,7,8,9)), (E, E), (1,2,3,7,8,9)) ≈ E"
   ]
  },
  {
   "cell_type": "code",
   "execution_count": 118,
   "metadata": {},
   "outputs": [
    {
     "data": {
      "text/plain": [
       "\u001b[32m\u001b[1mTest Passed\u001b[22m\u001b[39m"
      ]
     },
     "execution_count": 118,
     "metadata": {},
     "output_type": "execute_result"
    }
   ],
   "source": [
    "@test einsum(((1,2,3), (2,3,4)), (ϵ, ϵ), (1,4)) ≈ 2*I3"
   ]
  },
  {
   "cell_type": "code",
   "execution_count": 120,
   "metadata": {},
   "outputs": [
    {
     "data": {
      "text/plain": [
       "\u001b[32m\u001b[1mTest Passed\u001b[22m\u001b[39m"
      ]
     },
     "execution_count": 120,
     "metadata": {},
     "output_type": "execute_result"
    }
   ],
   "source": [
    "@test einsum(((1,2,3), (3,4,5), (5,6,1)), (ϵ, ϵ, ϵ), (2,4,6)) ≈ -ϵ"
   ]
  },
  {
   "cell_type": "code",
   "execution_count": 126,
   "metadata": {},
   "outputs": [
    {
     "data": {
      "text/plain": [
       "\u001b[32m\u001b[1mTest Passed\u001b[22m\u001b[39m"
      ]
     },
     "execution_count": 126,
     "metadata": {},
     "output_type": "execute_result"
    }
   ],
   "source": [
    "@test einsum(((1,2,3), (3,4,5), (5,6,7), (7,8,1)), (ϵ, ϵ, ϵ, ϵ), (2,4,6,8)) ≈\n",
    "    einsum(((2,8),(4,6)), (I3,I3), (2,4,6,8)) +\n",
    "    einsum(((2,4),(8,6)), (I3,I3), (2,4,6,8))"
   ]
  },
  {
   "cell_type": "code",
   "execution_count": 128,
   "metadata": {},
   "outputs": [
    {
     "data": {
      "text/plain": [
       "\u001b[32m\u001b[1mTest Passed\u001b[22m\u001b[39m"
      ]
     },
     "execution_count": 128,
     "metadata": {},
     "output_type": "execute_result"
    }
   ],
   "source": [
    "@test einsum(((1,2,3), (3,4,5), (5,6,7), (7,8,9), (9,10,1)), (ϵ, ϵ, ϵ, ϵ, ϵ), (2,4,6,8,10)) ≈\n",
    "    einsum(((2,4,6),(8,10)), (ϵ,I3), (2,4,6,8,10)) +\n",
    "    einsum(((2,8,10),(4,6)), (ϵ,I3), (2,4,6,8,10)) +\n",
    "    einsum(((6,8,10),(2,4)), (ϵ,I3), (2,4,6,8,10)) +\n",
    "    einsum(((10,2,11),(11,4,12),(12,6,8)), (ϵ,ϵ,ϵ), (2,4,6,8,10))"
   ]
  },
  {
   "cell_type": "markdown",
   "metadata": {},
   "source": [
    "## A two-node 3-regular graph\n",
    "\n",
    "\n",
    "<img src=\"images/twonode.png\" width=\"200px\"/>"
   ]
  },
  {
   "cell_type": "code",
   "execution_count": 139,
   "metadata": {},
   "outputs": [
    {
     "data": {
      "text/plain": [
       "0-dimensional Array{Int64,0}:\n",
       "6"
      ]
     },
     "execution_count": 139,
     "metadata": {},
     "output_type": "execute_result"
    }
   ],
   "source": [
    "einsum(((1,2,3), (1,2,3)), (ϵ, ϵ), ())"
   ]
  },
  {
   "cell_type": "markdown",
   "metadata": {},
   "source": [
    "<img src=\"images/twonode_all.png\" width=\"800px\"/>"
   ]
  },
  {
   "cell_type": "markdown",
   "metadata": {},
   "source": [
    "## Peterson graph\n",
    "\n",
    "\n",
    "<img src=\"images/peterson.png\" width=\"400px\"/>"
   ]
  },
  {
   "cell_type": "code",
   "execution_count": 141,
   "metadata": {},
   "outputs": [
    {
     "data": {
      "text/plain": [
       "15-element Array{Tuple{Int64,Int64},1}:\n",
       " (1, 6) \n",
       " (2, 7) \n",
       " (3, 8) \n",
       " (4, 9) \n",
       " (5, 10)\n",
       " (1, 2) \n",
       " (2, 3) \n",
       " (3, 4) \n",
       " (4, 5) \n",
       " (5, 1) \n",
       " (6, 8) \n",
       " (8, 10)\n",
       " (10, 7)\n",
       " (7, 9) \n",
       " (9, 6) "
      ]
     },
     "execution_count": 141,
     "metadata": {},
     "output_type": "execute_result"
    }
   ],
   "source": [
    "edges = [(1,6), (2,7), (3,8), (4,9), (5,10), (1,2), (2,3), (3,4), (4,5), (5,1), (6,8), (8,10), (10,7), (7,9), (9,6)]"
   ]
  },
  {
   "cell_type": "code",
   "execution_count": 142,
   "metadata": {},
   "outputs": [
    {
     "data": {
      "text/plain": [
       "dual_graph (generic function with 1 method)"
      ]
     },
     "execution_count": 142,
     "metadata": {},
     "output_type": "execute_result"
    }
   ],
   "source": [
    "# compute the edges of the dual graph\n",
    "function dual_graph(edges)\n",
    "    vertices = [Int[] for i in 1:maximum(union(edges...))]\n",
    "    for (i, edge) in enumerate(edges)\n",
    "        for v in edge\n",
    "            push!(vertices[v], i)\n",
    "        end\n",
    "    end\n",
    "    return Tuple.(vertices)\n",
    "end"
   ]
  },
  {
   "cell_type": "code",
   "execution_count": 143,
   "metadata": {},
   "outputs": [
    {
     "data": {
      "text/plain": [
       "10-element Array{Tuple{Int64,Int64,Int64},1}:\n",
       " (1, 6, 10) \n",
       " (2, 6, 7)  \n",
       " (3, 7, 8)  \n",
       " (4, 8, 9)  \n",
       " (5, 9, 10) \n",
       " (1, 11, 15)\n",
       " (2, 13, 14)\n",
       " (3, 11, 12)\n",
       " (4, 14, 15)\n",
       " (5, 12, 13)"
      ]
     },
     "execution_count": 143,
     "metadata": {},
     "output_type": "execute_result"
    }
   ],
   "source": [
    "dg = dual_graph(edges)"
   ]
  },
  {
   "cell_type": "code",
   "execution_count": 144,
   "metadata": {},
   "outputs": [
    {
     "data": {
      "text/plain": [
       "0-dimensional Array{Int64,0}:\n",
       "0"
      ]
     },
     "execution_count": 144,
     "metadata": {},
     "output_type": "execute_result"
    }
   ],
   "source": [
    "einsum(Tuple(dg), Tuple(ϵ for i=1:length(dg)), ())"
   ]
  },
  {
   "cell_type": "code",
   "execution_count": 146,
   "metadata": {},
   "outputs": [
    {
     "data": {
      "text/plain": [
       "3×3×3 Array{Int64,3}:\n",
       "[:, :, 1] =\n",
       " 0  0  0\n",
       " 0  0  1\n",
       " 0  1  0\n",
       "\n",
       "[:, :, 2] =\n",
       " 0  0  1\n",
       " 0  0  0\n",
       " 1  0  0\n",
       "\n",
       "[:, :, 3] =\n",
       " 0  1  0\n",
       " 1  0  0\n",
       " 0  0  0"
      ]
     },
     "execution_count": 146,
     "metadata": {},
     "output_type": "execute_result"
    }
   ],
   "source": [
    "ϵ"
   ]
  },
  {
   "cell_type": "markdown",
   "metadata": {},
   "source": [
    "## $K_{3,3}$ Graph"
   ]
  },
  {
   "cell_type": "markdown",
   "metadata": {},
   "source": [
    "\n",
    "<img src=\"images/k33.png\" width=\"400px\"/>"
   ]
  },
  {
   "cell_type": "code",
   "execution_count": 147,
   "metadata": {},
   "outputs": [
    {
     "data": {
      "text/plain": [
       "9-element Array{Tuple{Int64,Int64},1}:\n",
       " (1, 2)\n",
       " (2, 3)\n",
       " (3, 4)\n",
       " (4, 5)\n",
       " (5, 6)\n",
       " (6, 1)\n",
       " (1, 4)\n",
       " (2, 5)\n",
       " (3, 6)"
      ]
     },
     "execution_count": 147,
     "metadata": {},
     "output_type": "execute_result"
    }
   ],
   "source": [
    "edges = [(1,2), (2,3), (3,4), (4,5), (5,6), (6,1), (1,4), (2,5), (3,6)]"
   ]
  },
  {
   "cell_type": "code",
   "execution_count": 148,
   "metadata": {},
   "outputs": [
    {
     "data": {
      "text/plain": [
       "0-dimensional Array{Int64,0}:\n",
       "12"
      ]
     },
     "execution_count": 148,
     "metadata": {},
     "output_type": "execute_result"
    }
   ],
   "source": [
    "dg = dual_graph(edges)\n",
    "einsum(Tuple(dg), Tuple(ϵ for i=1:length(dg)), ())"
   ]
  },
  {
   "cell_type": "markdown",
   "metadata": {},
   "source": [
    "### Quiz: Why does the contraction of $K_{3,3}$ network give the incorrect number of coloring?\n",
    "\n",
    "<br><br>\n",
    "<br><br>\n",
    "<br><br>\n",
    "<br><br>\n",
    "<br><br>\n",
    "<br><br>\n",
    "<br><br>\n",
    "<br><br>\n",
    "<br><br>\n",
    "<br><br>\n",
    "<br><br>\n",
    "<br><br>\n",
    "### Ans:\n",
    "It is not planar!"
   ]
  },
  {
   "cell_type": "code",
   "execution_count": null,
   "metadata": {},
   "outputs": [],
   "source": []
  }
 ],
 "metadata": {
  "kernelspec": {
   "display_name": "Julia 1.1.0",
   "language": "julia",
   "name": "julia-1.1"
  },
  "language_info": {
   "file_extension": ".jl",
   "mimetype": "application/julia",
   "name": "julia",
   "version": "1.1.0"
  }
 },
 "nbformat": 4,
 "nbformat_minor": 2
}
