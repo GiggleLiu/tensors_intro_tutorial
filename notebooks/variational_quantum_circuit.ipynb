{
 "cells": [
  {
   "cell_type": "code",
   "execution_count": 1,
   "metadata": {},
   "outputs": [],
   "source": [
    "# the version of Yao is 0.4.1 in this notebook\n",
    "using Yao, Yao.ConstGate\n",
    "using Plots, LaTeXStrings"
   ]
  },
  {
   "cell_type": "markdown",
   "metadata": {},
   "source": [
    "# Variational Quantum Eigensolver\n",
    "* a quantum hamiltonain is a matrix (or MPO)\n",
    "* a quantum state is a vector (or MPS)"
   ]
  },
  {
   "cell_type": "markdown",
   "metadata": {},
   "source": [
    "## (Transverse field) ising Model"
   ]
  },
  {
   "cell_type": "code",
   "execution_count": 15,
   "metadata": {},
   "outputs": [
    {
     "data": {
      "text/plain": [
       "tfi_hamiltonian"
      ]
     },
     "execution_count": 15,
     "metadata": {},
     "output_type": "execute_result"
    }
   ],
   "source": [
    "\"\"\"get the hamiltonian of a TFI model\"\"\"\n",
    "function tfi_hamiltonian(nsite::Int, h::Real)\n",
    "    sum([repeat(nsite, Z, (i,i+1)) for i=1:nsite-1]...) +\n",
    "    h*chain([put(nsite, i=>X) for i=1:nsite])\n",
    "end"
   ]
  },
  {
   "cell_type": "code",
   "execution_count": 24,
   "metadata": {},
   "outputs": [
    {
     "data": {
      "text/plain": [
       "\u001b[36mnqubits: 4\u001b[39m\n",
       "\u001b[34m\u001b[1msum\u001b[22m\u001b[39m\n",
       "├─ \u001b[34m\u001b[1msum\u001b[22m\u001b[39m\n",
       "│  ├─ \u001b[36m\u001b[1mrepeat on (\u001b[22m\u001b[39m\u001b[36m\u001b[1m1\u001b[22m\u001b[39m\u001b[36m\u001b[1m, \u001b[22m\u001b[39m\u001b[36m\u001b[1m2\u001b[22m\u001b[39m\u001b[36m\u001b[1m)\u001b[22m\u001b[39m\n",
       "│  │  └─ Z gate\n",
       "│  ├─ \u001b[36m\u001b[1mrepeat on (\u001b[22m\u001b[39m\u001b[36m\u001b[1m2\u001b[22m\u001b[39m\u001b[36m\u001b[1m, \u001b[22m\u001b[39m\u001b[36m\u001b[1m3\u001b[22m\u001b[39m\u001b[36m\u001b[1m)\u001b[22m\u001b[39m\n",
       "│  │  └─ Z gate\n",
       "│  └─ \u001b[36m\u001b[1mrepeat on (\u001b[22m\u001b[39m\u001b[36m\u001b[1m3\u001b[22m\u001b[39m\u001b[36m\u001b[1m, \u001b[22m\u001b[39m\u001b[36m\u001b[1m4\u001b[22m\u001b[39m\u001b[36m\u001b[1m)\u001b[22m\u001b[39m\n",
       "│     └─ Z gate\n",
       "└─ \u001b[33m\u001b[1m[scale: 0.4] \u001b[22m\u001b[39m\u001b[34m\u001b[1mchain\u001b[22m\u001b[39m\n",
       "      ├─ \u001b[36m\u001b[1mput on (\u001b[22m\u001b[39m\u001b[36m\u001b[1m1\u001b[22m\u001b[39m\u001b[36m\u001b[1m)\u001b[22m\u001b[39m\n",
       "      │  └─ X gate\n",
       "      ├─ \u001b[36m\u001b[1mput on (\u001b[22m\u001b[39m\u001b[36m\u001b[1m2\u001b[22m\u001b[39m\u001b[36m\u001b[1m)\u001b[22m\u001b[39m\n",
       "      │  └─ X gate\n",
       "      ├─ \u001b[36m\u001b[1mput on (\u001b[22m\u001b[39m\u001b[36m\u001b[1m3\u001b[22m\u001b[39m\u001b[36m\u001b[1m)\u001b[22m\u001b[39m\n",
       "      │  └─ X gate\n",
       "      └─ \u001b[36m\u001b[1mput on (\u001b[22m\u001b[39m\u001b[36m\u001b[1m4\u001b[22m\u001b[39m\u001b[36m\u001b[1m)\u001b[22m\u001b[39m\n",
       "         └─ X gate\n"
      ]
     },
     "execution_count": 24,
     "metadata": {},
     "output_type": "execute_result"
    }
   ],
   "source": [
    "hami = tfi_hamiltonian(4, 0.4)"
   ]
  },
  {
   "cell_type": "code",
   "execution_count": 25,
   "metadata": {},
   "outputs": [
    {
     "data": {
      "text/plain": [
       "true"
      ]
     },
     "execution_count": 25,
     "metadata": {},
     "output_type": "execute_result"
    }
   ],
   "source": [
    "ishermitian(hami)"
   ]
  },
  {
   "cell_type": "code",
   "execution_count": 26,
   "metadata": {},
   "outputs": [
    {
     "data": {
      "text/plain": [
       "16×16 SparseArrays.SparseMatrixCSC{Complex{Float64},Int64} with 32 stored entries:\n",
       "  [1 ,  1]  =  3.0+0.0im\n",
       "  [16,  1]  =  0.4+0.0im\n",
       "  [2 ,  2]  =  1.0+0.0im\n",
       "  [15,  2]  =  0.4+0.0im\n",
       "  [3 ,  3]  =  -1.0+0.0im\n",
       "  [14,  3]  =  0.4+0.0im\n",
       "  [4 ,  4]  =  1.0+0.0im\n",
       "  [13,  4]  =  0.4+0.0im\n",
       "  [5 ,  5]  =  -1.0+0.0im\n",
       "  [12,  5]  =  0.4+0.0im\n",
       "  [6 ,  6]  =  -3.0+0.0im\n",
       "  [11,  6]  =  0.4+0.0im\n",
       "  ⋮\n",
       "  [6 , 11]  =  0.4+0.0im\n",
       "  [11, 11]  =  -3.0+0.0im\n",
       "  [5 , 12]  =  0.4+0.0im\n",
       "  [12, 12]  =  -1.0+0.0im\n",
       "  [4 , 13]  =  0.4+0.0im\n",
       "  [13, 13]  =  1.0+0.0im\n",
       "  [3 , 14]  =  0.4+0.0im\n",
       "  [14, 14]  =  -1.0+0.0im\n",
       "  [2 , 15]  =  0.4+0.0im\n",
       "  [15, 15]  =  1.0+0.0im\n",
       "  [1 , 16]  =  0.4+0.0im\n",
       "  [16, 16]  =  3.0+0.0im"
      ]
     },
     "execution_count": 26,
     "metadata": {},
     "output_type": "execute_result"
    }
   ],
   "source": [
    "Hmat = mat(hami)"
   ]
  },
  {
   "cell_type": "markdown",
   "metadata": {},
   "source": [
    "## Differential programming to obtain the ground state"
   ]
  },
  {
   "cell_type": "code",
   "execution_count": 27,
   "metadata": {},
   "outputs": [],
   "source": [
    "using Zygote: gradient\n",
    "using Zygote"
   ]
  },
  {
   "cell_type": "code",
   "execution_count": 28,
   "metadata": {},
   "outputs": [
    {
     "name": "stdout",
     "output_type": "stream",
     "text": [
      "E[1] = -3.3999999999999995\n"
     ]
    },
    {
     "data": {
      "text/plain": [
       "-3.3999999999999995"
      ]
     },
     "execution_count": 28,
     "metadata": {},
     "output_type": "execute_result"
    }
   ],
   "source": [
    "using LinearAlgebra\n",
    "\n",
    "E, V = eigen(Hmat |> Matrix)\n",
    "@show E[1]"
   ]
  },
  {
   "cell_type": "markdown",
   "metadata": {},
   "source": [
    "# The vector representation solution"
   ]
  },
  {
   "cell_type": "code",
   "execution_count": 29,
   "metadata": {
    "scrolled": true
   },
   "outputs": [
    {
     "name": "stdout",
     "output_type": "stream",
     "text": [
      "Energy is -0.8345385858647039\n",
      "Energy is -1.1212028139050838\n",
      "Energy is -1.3934116893855493\n",
      "Energy is -1.646898874000442\n",
      "Energy is -1.8788185701335633\n",
      "Energy is -2.0877369699924007\n",
      "Energy is -2.2734430040734974\n",
      "Energy is -2.4366679732003482\n",
      "Energy is -2.5787912235288606\n",
      "Energy is -2.7015803016540016\n",
      "Energy is -2.8069861432701178\n",
      "Energy is -2.8969949019878456\n",
      "Energy is -2.97352854801918\n",
      "Energy is -3.0383834854759555\n",
      "Energy is -3.093196994047006\n",
      "Energy is -3.139433123816462\n",
      "Energy is -3.1783816406711427\n",
      "Energy is -3.211165307522338\n",
      "Energy is -3.2387521101138073\n",
      "Energy is -3.2619700384301646\n",
      "Energy is -3.2815227839611607\n",
      "Energy is -3.29800526881832\n",
      "Energy is -3.31191833012804\n",
      "Energy is -3.323682176151865\n",
      "Energy is -3.3336484355290597\n",
      "Energy is -3.34211075900089\n",
      "Energy is -3.3493140210709402\n",
      "Energy is -3.355462221030453\n",
      "Energy is -3.3607252094385776\n",
      "Energy is -3.3652443757529937\n",
      "Energy is -3.3691374314767977\n",
      "Energy is -3.372502415314435\n",
      "Energy is -3.375421035459379\n",
      "Energy is -3.377961451303669\n",
      "Energy is -3.380180583862702\n",
      "Energy is -3.382126031826094\n",
      "Energy is -3.3838376588008416\n",
      "Energy is -3.3853489071954272\n",
      "Energy is -3.3866878853438633\n",
      "Energy is -3.3878782668392957\n",
      "Energy is -3.3889400345410463\n",
      "Energy is -3.3898900962184064\n",
      "Energy is -3.3907427941739634\n",
      "Energy is -3.391510327328007\n",
      "Energy is -3.392203101031531\n",
      "Energy is -3.3928300172085355\n",
      "Energy is -3.3933987152205694\n",
      "Energy is -3.393915772022349\n",
      "Energy is -3.3943868686719276\n",
      "Energy is -3.3948169290180474\n",
      "Energy is -3.395210235364943\n",
      "Energy is -3.3955705250730435\n",
      "Energy is -3.3959010713609503\n",
      "Energy is -3.396204751003402\n",
      "Energy is -3.396484101150263\n",
      "Energy is -3.3967413671045636\n",
      "Energy is -3.396978542579039\n",
      "Energy is -3.3971974036879673\n",
      "Energy is -3.39739953771463\n",
      "Energy is -3.3975863675161517\n",
      "Energy is -3.397759172280172\n",
      "Energy is -3.3979191052261277\n",
      "Energy is -3.3980672087434187\n",
      "Energy is -3.3982044273756986\n",
      "Energy is -3.3983316189917883\n",
      "Energy is -3.398449564426833\n",
      "Energy is -3.3985589758302703\n",
      "Energy is -3.3986605039180566\n",
      "Energy is -3.398754744294319\n",
      "Energy is -3.3988422429806096\n",
      "Energy is -3.3989235012687224\n",
      "Energy is -3.398998979994337\n",
      "Energy is -3.399069103313444\n",
      "Energy is -3.399134262050512\n",
      "Energy is -3.39919481667668\n",
      "Energy is -3.3992510999673087\n",
      "Energy is -3.3993034193806744\n",
      "Energy is -3.3993520591934128\n",
      "Energy is -3.399397282422953\n",
      "Energy is -3.3994393325628804\n",
      "Energy is -3.3994784351533993\n",
      "Energy is -3.399514799205962\n",
      "Energy is -3.399548618498497\n",
      "Energy is -3.399580072755464\n",
      "Energy is -3.3996093287250244\n",
      "Energy is -3.399636541164123\n",
      "Energy is -3.3996618537407652\n",
      "Energy is -3.3996853998617875\n",
      "Energy is -3.3997073034332495\n",
      "Energy is -3.399727679559884\n",
      "Energy is -3.3997466351892007\n",
      "Energy is -3.399764269705251\n",
      "Energy is -3.399780675476527\n",
      "Energy is -3.399795938361946\n",
      "Energy is -3.3998101381785193\n",
      "Energy is -3.399823349133898\n",
      "Energy is -3.399835640226688\n",
      "Energy is -3.3998470756171484\n",
      "Energy is -3.3998577149706435\n",
      "Energy is -3.3998676137759936\n"
     ]
    }
   ],
   "source": [
    "f(x) = real(x'*Hmat*x/(x'*x))[]\n",
    "\n",
    "x = randn(ComplexF64, size(Hmat, 2))\n",
    "α = 0.5\n",
    "\n",
    "for i = 1:100\n",
    "    g = f'(x)\n",
    "    x -= α .* g\n",
    "    println(\"Energy is $(f(x))\")\n",
    "end"
   ]
  },
  {
   "cell_type": "code",
   "execution_count": 30,
   "metadata": {},
   "outputs": [
    {
     "name": "stderr",
     "output_type": "stream",
     "text": [
      "┌ Info: Recompiling stale cache file /home/leo/.julia/compiled/v1.1/QuAlgorithmZoo/11voS.ji for QuAlgorithmZoo [65c24e16-9b0a-11e8-1353-efc5bc5f6586]\n",
      "└ @ Base loading.jl:1184\n"
     ]
    }
   ],
   "source": [
    "using Random\n",
    "using QuAlgorithmZoo: random_diff_circuit\n",
    "using Plots\n",
    "Random.seed!(2);"
   ]
  },
  {
   "cell_type": "code",
   "execution_count": 31,
   "metadata": {},
   "outputs": [
    {
     "data": {
      "text/plain": [
       "train! (generic function with 1 method)"
      ]
     },
     "execution_count": 31,
     "metadata": {},
     "output_type": "execute_result"
    }
   ],
   "source": [
    "function train!(circuit, hami; maxiter=200, α=0.3)\n",
    "    nbit = nqubits(circuit)\n",
    "    rots = collect_blocks(RotationGate, circuit)\n",
    "    loss_history = Float64[]\n",
    "    for i in 0:maxiter\n",
    "        for (j,r) in enumerate(rots)\n",
    "            dispatch!(+, r, π/2)\n",
    "            E₊ = expect(hami, zero_state(nbit) |> circuit) |> real\n",
    "            dispatch!(-, r, π)\n",
    "            E₋ = expect(hami, zero_state(nbit) |> circuit) |> real\n",
    "            dispatch!(+, r, π/2)\n",
    "            g = 0.5(E₊ - E₋)\n",
    "            dispatch!(-, r, α*g)\n",
    "        end\n",
    "        push!(loss_history, expect(hami, zero_state(nbit) |> circuit) |> real)\n",
    "        \n",
    "        if i%10 == 0\n",
    "            println(\"Iter $i, E = $(loss_history[end])\")\n",
    "        end\n",
    "    end\n",
    "    loss_history, circuit\n",
    "end"
   ]
  },
  {
   "cell_type": "code",
   "execution_count": 32,
   "metadata": {},
   "outputs": [
    {
     "data": {
      "text/plain": [
       "\u001b[36mnqubits: 4\u001b[39m\n",
       "\u001b[34m\u001b[1mchain\u001b[22m\u001b[39m\n",
       "├─ \u001b[34m\u001b[1mchain\u001b[22m\u001b[39m\n",
       "│  ├─ \u001b[34m\u001b[1mchain\u001b[22m\u001b[39m\n",
       "│  │  ├─ \u001b[36m\u001b[1mput on (\u001b[22m\u001b[39m\u001b[36m\u001b[1m1\u001b[22m\u001b[39m\u001b[36m\u001b[1m)\u001b[22m\u001b[39m\n",
       "│  │  │  └─ rot(X gate, 0.0)\n",
       "│  │  └─ \u001b[36m\u001b[1mput on (\u001b[22m\u001b[39m\u001b[36m\u001b[1m1\u001b[22m\u001b[39m\u001b[36m\u001b[1m)\u001b[22m\u001b[39m\n",
       "│  │     └─ rot(Z gate, 0.0)\n",
       "│  ├─ \u001b[34m\u001b[1mchain\u001b[22m\u001b[39m\n",
       "│  │  ├─ \u001b[36m\u001b[1mput on (\u001b[22m\u001b[39m\u001b[36m\u001b[1m2\u001b[22m\u001b[39m\u001b[36m\u001b[1m)\u001b[22m\u001b[39m\n",
       "│  │  │  └─ rot(X gate, 0.0)\n",
       "│  │  └─ \u001b[36m\u001b[1mput on (\u001b[22m\u001b[39m\u001b[36m\u001b[1m2\u001b[22m\u001b[39m\u001b[36m\u001b[1m)\u001b[22m\u001b[39m\n",
       "│  │     └─ rot(Z gate, 0.0)\n",
       "│  ├─ \u001b[34m\u001b[1mchain\u001b[22m\u001b[39m\n",
       "│  │  ├─ \u001b[36m\u001b[1mput on (\u001b[22m\u001b[39m\u001b[36m\u001b[1m3\u001b[22m\u001b[39m\u001b[36m\u001b[1m)\u001b[22m\u001b[39m\n",
       "│  │  │  └─ rot(X gate, 0.0)\n",
       "│  │  └─ \u001b[36m\u001b[1mput on (\u001b[22m\u001b[39m\u001b[36m\u001b[1m3\u001b[22m\u001b[39m\u001b[36m\u001b[1m)\u001b[22m\u001b[39m\n",
       "│  │     └─ rot(Z gate, 0.0)\n",
       "│  └─ \u001b[34m\u001b[1mchain\u001b[22m\u001b[39m\n",
       "│     ├─ \u001b[36m\u001b[1mput on (\u001b[22m\u001b[39m\u001b[36m\u001b[1m4\u001b[22m\u001b[39m\u001b[36m\u001b[1m)\u001b[22m\u001b[39m\n",
       "│     │  └─ rot(X gate, 0.0)\n",
       "│     └─ \u001b[36m\u001b[1mput on (\u001b[22m\u001b[39m\u001b[36m\u001b[1m4\u001b[22m\u001b[39m\u001b[36m\u001b[1m)\u001b[22m\u001b[39m\n",
       "│        └─ rot(Z gate, 0.0)\n",
       "├─ \u001b[34m\u001b[1mchain\u001b[22m\u001b[39m\n",
       "│  ├─ \u001b[31m\u001b[1mcontrol(\u001b[22m\u001b[39m\u001b[31m\u001b[1m1\u001b[22m\u001b[39m\u001b[31m\u001b[1m)\u001b[22m\u001b[39m\n",
       "│  │  └─ \u001b[37m\u001b[1m(2,)\u001b[22m\u001b[39m X gate\n",
       "│  ├─ \u001b[31m\u001b[1mcontrol(\u001b[22m\u001b[39m\u001b[31m\u001b[1m2\u001b[22m\u001b[39m\u001b[31m\u001b[1m)\u001b[22m\u001b[39m\n",
       "│  │  └─ \u001b[37m\u001b[1m(3,)\u001b[22m\u001b[39m X gate\n",
       "│  ├─ \u001b[31m\u001b[1mcontrol(\u001b[22m\u001b[39m\u001b[31m\u001b[1m3\u001b[22m\u001b[39m\u001b[31m\u001b[1m)\u001b[22m\u001b[39m\n",
       "│  │  └─ \u001b[37m\u001b[1m(4,)\u001b[22m\u001b[39m X gate\n",
       "│  └─ \u001b[31m\u001b[1mcontrol(\u001b[22m\u001b[39m\u001b[31m\u001b[1m4\u001b[22m\u001b[39m\u001b[31m\u001b[1m)\u001b[22m\u001b[39m\n",
       "│     └─ \u001b[37m\u001b[1m(1,)\u001b[22m\u001b[39m X gate\n",
       "├─ \u001b[34m\u001b[1mchain\u001b[22m\u001b[39m\n",
       "│  ├─ \u001b[34m\u001b[1mchain\u001b[22m\u001b[39m\n",
       "│  │  ├─ \u001b[36m\u001b[1mput on (\u001b[22m\u001b[39m\u001b[36m\u001b[1m1\u001b[22m\u001b[39m\u001b[36m\u001b[1m)\u001b[22m\u001b[39m\n",
       "│  │  │  └─ rot(Z gate, 0.0)\n",
       "│  │  ├─ \u001b[36m\u001b[1mput on (\u001b[22m\u001b[39m\u001b[36m\u001b[1m1\u001b[22m\u001b[39m\u001b[36m\u001b[1m)\u001b[22m\u001b[39m\n",
       "│  │  │  └─ rot(X gate, 0.0)\n",
       "│  │  └─ \u001b[36m\u001b[1mput on (\u001b[22m\u001b[39m\u001b[36m\u001b[1m1\u001b[22m\u001b[39m\u001b[36m\u001b[1m)\u001b[22m\u001b[39m\n",
       "│  │     └─ rot(Z gate, 0.0)\n",
       "│  ├─ \u001b[34m\u001b[1mchain\u001b[22m\u001b[39m\n",
       "│  │  ├─ \u001b[36m\u001b[1mput on (\u001b[22m\u001b[39m\u001b[36m\u001b[1m2\u001b[22m\u001b[39m\u001b[36m\u001b[1m)\u001b[22m\u001b[39m\n",
       "│  │  │  └─ rot(Z gate, 0.0)\n",
       "│  │  ├─ \u001b[36m\u001b[1mput on (\u001b[22m\u001b[39m\u001b[36m\u001b[1m2\u001b[22m\u001b[39m\u001b[36m\u001b[1m)\u001b[22m\u001b[39m\n",
       "│  │  │  └─ rot(X gate, 0.0)\n",
       "│  │  └─ \u001b[36m\u001b[1mput on (\u001b[22m\u001b[39m\u001b[36m\u001b[1m2\u001b[22m\u001b[39m\u001b[36m\u001b[1m)\u001b[22m\u001b[39m\n",
       "│  │     └─ rot(Z gate, 0.0)\n",
       "│  ├─ \u001b[34m\u001b[1mchain\u001b[22m\u001b[39m\n",
       "│  │  ├─ \u001b[36m\u001b[1mput on (\u001b[22m\u001b[39m\u001b[36m\u001b[1m3\u001b[22m\u001b[39m\u001b[36m\u001b[1m)\u001b[22m\u001b[39m\n",
       "│  │  │  └─ rot(Z gate, 0.0)\n",
       "│  │  ├─ \u001b[36m\u001b[1mput on (\u001b[22m\u001b[39m\u001b[36m\u001b[1m3\u001b[22m\u001b[39m\u001b[36m\u001b[1m)\u001b[22m\u001b[39m\n",
       "│  │  │  └─ rot(X gate, 0.0)\n",
       "│  │  └─ \u001b[36m\u001b[1mput on (\u001b[22m\u001b[39m\u001b[36m\u001b[1m3\u001b[22m\u001b[39m\u001b[36m\u001b[1m)\u001b[22m\u001b[39m\n",
       "│  │     └─ rot(Z gate, 0.0)\n",
       "│  └─ \u001b[34m\u001b[1mchain\u001b[22m\u001b[39m\n",
       "│     ├─ \u001b[36m\u001b[1mput on (\u001b[22m\u001b[39m\u001b[36m\u001b[1m4\u001b[22m\u001b[39m\u001b[36m\u001b[1m)\u001b[22m\u001b[39m\n",
       "│     │  └─ rot(Z gate, 0.0)\n",
       "│     ├─ \u001b[36m\u001b[1mput on (\u001b[22m\u001b[39m\u001b[36m\u001b[1m4\u001b[22m\u001b[39m\u001b[36m\u001b[1m)\u001b[22m\u001b[39m\n",
       "│     │  └─ rot(X gate, 0.0)\n",
       "│     └─ \u001b[36m\u001b[1mput on (\u001b[22m\u001b[39m\u001b[36m\u001b[1m4\u001b[22m\u001b[39m\u001b[36m\u001b[1m)\u001b[22m\u001b[39m\n",
       "│        └─ rot(Z gate, 0.0)\n",
       "├─ \u001b[34m\u001b[1mchain\u001b[22m\u001b[39m\n",
       "│  ├─ \u001b[31m\u001b[1mcontrol(\u001b[22m\u001b[39m\u001b[31m\u001b[1m1\u001b[22m\u001b[39m\u001b[31m\u001b[1m)\u001b[22m\u001b[39m\n",
       "│  │  └─ \u001b[37m\u001b[1m(2,)\u001b[22m\u001b[39m X gate\n",
       "│  ├─ \u001b[31m\u001b[1mcontrol(\u001b[22m\u001b[39m\u001b[31m\u001b[1m2\u001b[22m\u001b[39m\u001b[31m\u001b[1m)\u001b[22m\u001b[39m\n",
       "│  │  └─ \u001b[37m\u001b[1m(3,)\u001b[22m\u001b[39m X gate\n",
       "│  ├─ \u001b[31m\u001b[1mcontrol(\u001b[22m\u001b[39m\u001b[31m\u001b[1m3\u001b[22m\u001b[39m\u001b[31m\u001b[1m)\u001b[22m\u001b[39m\n",
       "│  │  └─ \u001b[37m\u001b[1m(4,)\u001b[22m\u001b[39m X gate\n",
       "│  └─ \u001b[31m\u001b[1mcontrol(\u001b[22m\u001b[39m\u001b[31m\u001b[1m4\u001b[22m\u001b[39m\u001b[31m\u001b[1m)\u001b[22m\u001b[39m\n",
       "│     └─ \u001b[37m\u001b[1m(1,)\u001b[22m\u001b[39m X gate\n",
       "└─ \u001b[34m\u001b[1mchain\u001b[22m\u001b[39m\n",
       "   ├─ \u001b[34m\u001b[1mchain\u001b[22m\u001b[39m\n",
       "   │  ├─ \u001b[36m\u001b[1mput on (\u001b[22m\u001b[39m\u001b[36m\u001b[1m1\u001b[22m\u001b[39m\u001b[36m\u001b[1m)\u001b[22m\u001b[39m\n",
       "   │  │  └─ rot(Z gate, 0.0)\n",
       "   │  └─ \u001b[36m\u001b[1mput on (\u001b[22m\u001b[39m\u001b[36m\u001b[1m1\u001b[22m\u001b[39m\u001b[36m\u001b[1m)\u001b[22m\u001b[39m\n",
       "   │     └─ rot(X gate, 0.0)\n",
       "   ├─ \u001b[34m\u001b[1mchain\u001b[22m\u001b[39m\n",
       "   │  ├─ \u001b[36m\u001b[1mput on (\u001b[22m\u001b[39m\u001b[36m\u001b[1m2\u001b[22m\u001b[39m\u001b[36m\u001b[1m)\u001b[22m\u001b[39m\n",
       "   │  │  └─ rot(Z gate, 0.0)\n",
       "   │  └─ \u001b[36m\u001b[1mput on (\u001b[22m\u001b[39m\u001b[36m\u001b[1m2\u001b[22m\u001b[39m\u001b[36m\u001b[1m)\u001b[22m\u001b[39m\n",
       "   │     └─ rot(X gate, 0.0)\n",
       "   ├─ \u001b[34m\u001b[1mchain\u001b[22m\u001b[39m\n",
       "   │  ├─ \u001b[36m\u001b[1mput on (\u001b[22m\u001b[39m\u001b[36m\u001b[1m3\u001b[22m\u001b[39m\u001b[36m\u001b[1m)\u001b[22m\u001b[39m\n",
       "   │  │  └─ rot(Z gate, 0.0)\n",
       "   │  └─ \u001b[36m\u001b[1mput on (\u001b[22m\u001b[39m\u001b[36m\u001b[1m3\u001b[22m\u001b[39m\u001b[36m\u001b[1m)\u001b[22m\u001b[39m\n",
       "   │     └─ rot(X gate, 0.0)\n",
       "   └─ \u001b[34m\u001b[1mchain\u001b[22m\u001b[39m\n",
       "      ├─ \u001b[36m\u001b[1mput on (\u001b[22m\u001b[39m\u001b[36m\u001b[1m4\u001b[22m\u001b[39m\u001b[36m\u001b[1m)\u001b[22m\u001b[39m\n",
       "      │  └─ rot(Z gate, 0.0)\n",
       "      └─ \u001b[36m\u001b[1mput on (\u001b[22m\u001b[39m\u001b[36m\u001b[1m4\u001b[22m\u001b[39m\u001b[36m\u001b[1m)\u001b[22m\u001b[39m\n",
       "         └─ rot(X gate, 0.0)\n"
      ]
     },
     "execution_count": 32,
     "metadata": {},
     "output_type": "execute_result"
    }
   ],
   "source": [
    "circuit = random_diff_circuit(4, 2, [1=>2, 2=>3, 3=>4, 4=>1])"
   ]
  },
  {
   "attachments": {},
   "cell_type": "markdown",
   "metadata": {},
   "source": [
    "![_differentiable.png](images/_differential.png)"
   ]
  },
  {
   "cell_type": "code",
   "execution_count": 33,
   "metadata": {},
   "outputs": [
    {
     "data": {
      "text/plain": [
       "0.3524705262853929 + 0.0im"
      ]
     },
     "execution_count": 33,
     "metadata": {},
     "output_type": "execute_result"
    }
   ],
   "source": [
    "expect(hami, rand_state(4))"
   ]
  },
  {
   "cell_type": "code",
   "execution_count": 34,
   "metadata": {
    "scrolled": false
   },
   "outputs": [
    {
     "name": "stdout",
     "output_type": "stream",
     "text": [
      "Iter 0, E = -0.08520422304283935\n",
      "Iter 10, E = -3.2980527504629604\n",
      "Iter 20, E = -3.393133904024836\n",
      "Iter 30, E = -3.398691789251759\n",
      "Iter 40, E = -3.399565898245145\n",
      "Iter 50, E = -3.399823368854084\n",
      "Iter 60, E = -3.399923999768127\n",
      "Iter 70, E = -3.3999667560453726\n",
      "Iter 80, E = -3.399985372188293\n",
      "Iter 90, E = -3.399993547459433\n",
      "Iter 100, E = -3.3999971503795\n",
      "Iter 110, E = -3.399998740804442\n",
      "Iter 120, E = -3.3999994434181\n",
      "Iter 130, E = -3.3999997539431996\n",
      "Iter 140, E = -3.3999998912118823\n",
      "Iter 150, E = -3.3999999518993462\n",
      "Iter 160, E = -3.3999999787316098\n",
      "Iter 170, E = -3.3999999905956884\n",
      "Iter 180, E = -3.3999999958416107\n",
      "Iter 190, E = -3.399999998161232\n",
      "Iter 200, E = -3.3999999991869245\n",
      "Iter 210, E = -3.3999999996404684\n",
      "Iter 220, E = -3.3999999998410213\n",
      "Iter 230, E = -3.3999999999297024\n",
      "Iter 240, E = -3.3999999999689168\n",
      "Iter 250, E = -3.3999999999862554\n",
      "Iter 260, E = -3.399999999993922\n",
      "Iter 270, E = -3.3999999999973136\n",
      "Iter 280, E = -3.399999999998812\n",
      "Iter 290, E = -3.3999999999994746\n",
      "Iter 300, E = -3.3999999999997663\n",
      "Iter 310, E = -3.3999999999998956\n",
      "Iter 320, E = -3.3999999999999533\n",
      "Iter 330, E = -3.399999999999978\n",
      "Iter 340, E = -3.3999999999999915\n",
      "Iter 350, E = -3.3999999999999937\n",
      "Iter 360, E = -3.4000000000000012\n",
      "Iter 370, E = -3.3999999999999986\n",
      "Iter 380, E = -3.4000000000000004\n",
      "Iter 390, E = -3.4000000000000017\n",
      "Iter 400, E = -3.399999999999998\n",
      "Iter 410, E = -3.4\n",
      "Iter 420, E = -3.399999999999998\n",
      "Iter 430, E = -3.399999999999998\n",
      "Iter 440, E = -3.399999999999999\n",
      "Iter 450, E = -3.4000000000000012\n",
      "Iter 460, E = -3.399999999999999\n",
      "Iter 470, E = -3.4000000000000012\n",
      "Iter 480, E = -3.399999999999999\n",
      "Iter 490, E = -3.4\n",
      "Iter 500, E = -3.399999999999999\n",
      "Iter 510, E = -3.4000000000000012\n",
      "Iter 520, E = -3.399999999999999\n",
      "Iter 530, E = -3.399999999999999\n",
      "Iter 540, E = -3.399999999999998\n",
      "Iter 550, E = -3.4\n",
      "Iter 560, E = -3.399999999999998\n",
      "Iter 570, E = -3.4\n",
      "Iter 580, E = -3.399999999999999\n",
      "Iter 590, E = -3.4000000000000017\n",
      "Iter 600, E = -3.400000000000003\n",
      "Iter 610, E = -3.3999999999999977\n",
      "Iter 620, E = -3.4000000000000012\n",
      "Iter 630, E = -3.3999999999999995\n",
      "Iter 640, E = -3.3999999999999986\n",
      "Iter 650, E = -3.4000000000000012\n",
      "Iter 660, E = -3.4000000000000012\n",
      "Iter 670, E = -3.399999999999998\n",
      "Iter 680, E = -3.4000000000000012\n",
      "Iter 690, E = -3.399999999999999\n",
      "Iter 700, E = -3.4\n",
      "Iter 710, E = -3.3999999999999986\n",
      "Iter 720, E = -3.4000000000000017\n",
      "Iter 730, E = -3.399999999999998\n",
      "Iter 740, E = -3.4000000000000012\n",
      "Iter 750, E = -3.3999999999999977\n",
      "Iter 760, E = -3.3999999999999964\n",
      "Iter 770, E = -3.399999999999997\n",
      "Iter 780, E = -3.3999999999999977\n",
      "Iter 790, E = -3.4\n",
      "Iter 800, E = -3.399999999999998\n",
      "Iter 810, E = -3.399999999999997\n",
      "Iter 820, E = -3.3999999999999986\n",
      "Iter 830, E = -3.3999999999999995\n",
      "Iter 840, E = -3.4\n",
      "Iter 850, E = -3.399999999999999\n",
      "Iter 860, E = -3.4000000000000017\n",
      "Iter 870, E = -3.4\n",
      "Iter 880, E = -3.399999999999999\n",
      "Iter 890, E = -3.4\n",
      "Iter 900, E = -3.3999999999999995\n",
      "Iter 910, E = -3.4000000000000012\n",
      "Iter 920, E = -3.4000000000000012\n",
      "Iter 930, E = -3.4000000000000012\n",
      "Iter 940, E = -3.4000000000000017\n",
      "Iter 950, E = -3.399999999999999\n",
      "Iter 960, E = -3.399999999999999\n",
      "Iter 970, E = -3.4000000000000012\n",
      "Iter 980, E = -3.400000000000002\n",
      "Iter 990, E = -3.3999999999999995\n",
      "Iter 1000, E = -3.4000000000000012\n"
     ]
    },
    {
     "data": {
      "text/plain": [
       "([-0.0852042, -0.781717, -1.34603, -1.78548, -2.1709, -2.53917, -2.84915, -3.05706, -3.1797, -3.25252  …  -3.4, -3.4, -3.4, -3.4, -3.4, -3.4, -3.4, -3.4, -3.4, -3.4], \u001b[36mnqubits: 4\u001b[39m\n",
       "\u001b[34m\u001b[1mchain\u001b[22m\u001b[39m\n",
       "├─ \u001b[34m\u001b[1mchain\u001b[22m\u001b[39m\n",
       "│  ├─ \u001b[34m\u001b[1mchain\u001b[22m\u001b[39m\n",
       "│  │  ├─ \u001b[36m\u001b[1mput on (\u001b[22m\u001b[39m\u001b[36m\u001b[1m1\u001b[22m\u001b[39m\u001b[36m\u001b[1m)\u001b[22m\u001b[39m\n",
       "│  │  │  └─ rot(X gate, 1.5707963267948966)\n",
       "│  │  └─ \u001b[36m\u001b[1mput on (\u001b[22m\u001b[39m\u001b[36m\u001b[1m1\u001b[22m\u001b[39m\u001b[36m\u001b[1m)\u001b[22m\u001b[39m\n",
       "│  │     └─ rot(Z gate, 1.5707963267948966)\n",
       "│  ├─ \u001b[34m\u001b[1mchain\u001b[22m\u001b[39m\n",
       "│  │  ├─ \u001b[36m\u001b[1mput on (\u001b[22m\u001b[39m\u001b[36m\u001b[1m2\u001b[22m\u001b[39m\u001b[36m\u001b[1m)\u001b[22m\u001b[39m\n",
       "│  │  │  └─ rot(X gate, 1.4161184340117048)\n",
       "│  │  └─ \u001b[36m\u001b[1mput on (\u001b[22m\u001b[39m\u001b[36m\u001b[1m2\u001b[22m\u001b[39m\u001b[36m\u001b[1m)\u001b[22m\u001b[39m\n",
       "│  │     └─ rot(Z gate, -0.2067629464761885)\n",
       "│  ├─ \u001b[34m\u001b[1mchain\u001b[22m\u001b[39m\n",
       "│  │  ├─ \u001b[36m\u001b[1mput on (\u001b[22m\u001b[39m\u001b[36m\u001b[1m3\u001b[22m\u001b[39m\u001b[36m\u001b[1m)\u001b[22m\u001b[39m\n",
       "│  │  │  └─ rot(X gate, -1.1990408665951691e-15)\n",
       "│  │  └─ \u001b[36m\u001b[1mput on (\u001b[22m\u001b[39m\u001b[36m\u001b[1m3\u001b[22m\u001b[39m\u001b[36m\u001b[1m)\u001b[22m\u001b[39m\n",
       "│  │     └─ rot(Z gate, 0.5791106438434195)\n",
       "│  └─ \u001b[34m\u001b[1mchain\u001b[22m\u001b[39m\n",
       "│     ├─ \u001b[36m\u001b[1mput on (\u001b[22m\u001b[39m\u001b[36m\u001b[1m4\u001b[22m\u001b[39m\u001b[36m\u001b[1m)\u001b[22m\u001b[39m\n",
       "│     │  └─ rot(X gate, 0.0)\n",
       "│     └─ \u001b[36m\u001b[1mput on (\u001b[22m\u001b[39m\u001b[36m\u001b[1m4\u001b[22m\u001b[39m\u001b[36m\u001b[1m)\u001b[22m\u001b[39m\n",
       "│        └─ rot(Z gate, 0.11448036365226955)\n",
       "├─ \u001b[34m\u001b[1mchain\u001b[22m\u001b[39m\n",
       "│  ├─ \u001b[31m\u001b[1mcontrol(\u001b[22m\u001b[39m\u001b[31m\u001b[1m1\u001b[22m\u001b[39m\u001b[31m\u001b[1m)\u001b[22m\u001b[39m\n",
       "│  │  └─ \u001b[37m\u001b[1m(2,)\u001b[22m\u001b[39m X gate\n",
       "│  ├─ \u001b[31m\u001b[1mcontrol(\u001b[22m\u001b[39m\u001b[31m\u001b[1m2\u001b[22m\u001b[39m\u001b[31m\u001b[1m)\u001b[22m\u001b[39m\n",
       "│  │  └─ \u001b[37m\u001b[1m(3,)\u001b[22m\u001b[39m X gate\n",
       "│  ├─ \u001b[31m\u001b[1mcontrol(\u001b[22m\u001b[39m\u001b[31m\u001b[1m3\u001b[22m\u001b[39m\u001b[31m\u001b[1m)\u001b[22m\u001b[39m\n",
       "│  │  └─ \u001b[37m\u001b[1m(4,)\u001b[22m\u001b[39m X gate\n",
       "│  └─ \u001b[31m\u001b[1mcontrol(\u001b[22m\u001b[39m\u001b[31m\u001b[1m4\u001b[22m\u001b[39m\u001b[31m\u001b[1m)\u001b[22m\u001b[39m\n",
       "│     └─ \u001b[37m\u001b[1m(1,)\u001b[22m\u001b[39m X gate\n",
       "├─ \u001b[34m\u001b[1mchain\u001b[22m\u001b[39m\n",
       "│  ├─ \u001b[34m\u001b[1mchain\u001b[22m\u001b[39m\n",
       "│  │  ├─ \u001b[36m\u001b[1mput on (\u001b[22m\u001b[39m\u001b[36m\u001b[1m1\u001b[22m\u001b[39m\u001b[36m\u001b[1m)\u001b[22m\u001b[39m\n",
       "│  │  │  └─ rot(Z gate, 0.20676294647618879)\n",
       "│  │  ├─ \u001b[36m\u001b[1mput on (\u001b[22m\u001b[39m\u001b[36m\u001b[1m1\u001b[22m\u001b[39m\u001b[36m\u001b[1m)\u001b[22m\u001b[39m\n",
       "│  │  │  └─ rot(X gate, 1.7254742195780883)\n",
       "│  │  └─ \u001b[36m\u001b[1mput on (\u001b[22m\u001b[39m\u001b[36m\u001b[1m1\u001b[22m\u001b[39m\u001b[36m\u001b[1m)\u001b[22m\u001b[39m\n",
       "│  │     └─ rot(Z gate, 0.2672474032865495)\n",
       "│  ├─ \u001b[34m\u001b[1mchain\u001b[22m\u001b[39m\n",
       "│  │  ├─ \u001b[36m\u001b[1mput on (\u001b[22m\u001b[39m\u001b[36m\u001b[1m2\u001b[22m\u001b[39m\u001b[36m\u001b[1m)\u001b[22m\u001b[39m\n",
       "│  │  │  └─ rot(Z gate, 0.15241953664878755)\n",
       "│  │  ├─ \u001b[36m\u001b[1mput on (\u001b[22m\u001b[39m\u001b[36m\u001b[1m2\u001b[22m\u001b[39m\u001b[36m\u001b[1m)\u001b[22m\u001b[39m\n",
       "│  │  │  └─ rot(X gate, 5.995204332975846e-16)\n",
       "│  │  └─ \u001b[36m\u001b[1mput on (\u001b[22m\u001b[39m\u001b[36m\u001b[1m2\u001b[22m\u001b[39m\u001b[36m\u001b[1m)\u001b[22m\u001b[39m\n",
       "│  │     └─ rot(Z gate, 0.16646500929279323)\n",
       "│  ├─ \u001b[34m\u001b[1mchain\u001b[22m\u001b[39m\n",
       "│  │  ├─ \u001b[36m\u001b[1mput on (\u001b[22m\u001b[39m\u001b[36m\u001b[1m3\u001b[22m\u001b[39m\u001b[36m\u001b[1m)\u001b[22m\u001b[39m\n",
       "│  │  │  └─ rot(Z gate, 0.7240453393559667)\n",
       "│  │  ├─ \u001b[36m\u001b[1mput on (\u001b[22m\u001b[39m\u001b[36m\u001b[1m3\u001b[22m\u001b[39m\u001b[36m\u001b[1m)\u001b[22m\u001b[39m\n",
       "│  │  │  └─ rot(X gate, 1.5707963267948966)\n",
       "│  │  └─ \u001b[36m\u001b[1mput on (\u001b[22m\u001b[39m\u001b[36m\u001b[1m3\u001b[22m\u001b[39m\u001b[36m\u001b[1m)\u001b[22m\u001b[39m\n",
       "│  │     └─ rot(Z gate, 1.5707963267948966)\n",
       "│  └─ \u001b[34m\u001b[1mchain\u001b[22m\u001b[39m\n",
       "│     ├─ \u001b[36m\u001b[1mput on (\u001b[22m\u001b[39m\u001b[36m\u001b[1m4\u001b[22m\u001b[39m\u001b[36m\u001b[1m)\u001b[22m\u001b[39m\n",
       "│     │  └─ rot(Z gate, 0.746044901256351)\n",
       "│     ├─ \u001b[36m\u001b[1mput on (\u001b[22m\u001b[39m\u001b[36m\u001b[1m4\u001b[22m\u001b[39m\u001b[36m\u001b[1m)\u001b[22m\u001b[39m\n",
       "│     │  └─ rot(X gate, 1.5707963267948966)\n",
       "│     └─ \u001b[36m\u001b[1mput on (\u001b[22m\u001b[39m\u001b[36m\u001b[1m4\u001b[22m\u001b[39m\u001b[36m\u001b[1m)\u001b[22m\u001b[39m\n",
       "│        └─ rot(Z gate, -6.661338147750939e-17)\n",
       "├─ \u001b[34m\u001b[1mchain\u001b[22m\u001b[39m\n",
       "│  ├─ \u001b[31m\u001b[1mcontrol(\u001b[22m\u001b[39m\u001b[31m\u001b[1m1\u001b[22m\u001b[39m\u001b[31m\u001b[1m)\u001b[22m\u001b[39m\n",
       "│  │  └─ \u001b[37m\u001b[1m(2,)\u001b[22m\u001b[39m X gate\n",
       "│  ├─ \u001b[31m\u001b[1mcontrol(\u001b[22m\u001b[39m\u001b[31m\u001b[1m2\u001b[22m\u001b[39m\u001b[31m\u001b[1m)\u001b[22m\u001b[39m\n",
       "│  │  └─ \u001b[37m\u001b[1m(3,)\u001b[22m\u001b[39m X gate\n",
       "│  ├─ \u001b[31m\u001b[1mcontrol(\u001b[22m\u001b[39m\u001b[31m\u001b[1m3\u001b[22m\u001b[39m\u001b[31m\u001b[1m)\u001b[22m\u001b[39m\n",
       "│  │  └─ \u001b[37m\u001b[1m(4,)\u001b[22m\u001b[39m X gate\n",
       "│  └─ \u001b[31m\u001b[1mcontrol(\u001b[22m\u001b[39m\u001b[31m\u001b[1m4\u001b[22m\u001b[39m\u001b[31m\u001b[1m)\u001b[22m\u001b[39m\n",
       "│     └─ \u001b[37m\u001b[1m(1,)\u001b[22m\u001b[39m X gate\n",
       "└─ \u001b[34m\u001b[1mchain\u001b[22m\u001b[39m\n",
       "   ├─ \u001b[34m\u001b[1mchain\u001b[22m\u001b[39m\n",
       "   │  ├─ \u001b[36m\u001b[1mput on (\u001b[22m\u001b[39m\u001b[36m\u001b[1m1\u001b[22m\u001b[39m\u001b[36m\u001b[1m)\u001b[22m\u001b[39m\n",
       "   │  │  └─ rot(Z gate, -0.23564565325752063)\n",
       "   │  └─ \u001b[36m\u001b[1mput on (\u001b[22m\u001b[39m\u001b[36m\u001b[1m1\u001b[22m\u001b[39m\u001b[36m\u001b[1m)\u001b[22m\u001b[39m\n",
       "   │     └─ rot(X gate, 1.0436096431476472e-15)\n",
       "   ├─ \u001b[34m\u001b[1mchain\u001b[22m\u001b[39m\n",
       "   │  ├─ \u001b[36m\u001b[1mput on (\u001b[22m\u001b[39m\u001b[36m\u001b[1m2\u001b[22m\u001b[39m\u001b[36m\u001b[1m)\u001b[22m\u001b[39m\n",
       "   │  │  └─ rot(Z gate, 0.21817845975900196)\n",
       "   │  └─ \u001b[36m\u001b[1mput on (\u001b[22m\u001b[39m\u001b[36m\u001b[1m2\u001b[22m\u001b[39m\u001b[36m\u001b[1m)\u001b[22m\u001b[39m\n",
       "   │     └─ rot(X gate, 1.5707963267948966)\n",
       "   ├─ \u001b[34m\u001b[1mchain\u001b[22m\u001b[39m\n",
       "   │  ├─ \u001b[36m\u001b[1mput on (\u001b[22m\u001b[39m\u001b[36m\u001b[1m3\u001b[22m\u001b[39m\u001b[36m\u001b[1m)\u001b[22m\u001b[39m\n",
       "   │  │  └─ rot(Z gate, 1.6653345369377348e-16)\n",
       "   │  └─ \u001b[36m\u001b[1mput on (\u001b[22m\u001b[39m\u001b[36m\u001b[1m3\u001b[22m\u001b[39m\u001b[36m\u001b[1m)\u001b[22m\u001b[39m\n",
       "   │     └─ rot(X gate, 1.5707963267948966)\n",
       "   └─ \u001b[34m\u001b[1mchain\u001b[22m\u001b[39m\n",
       "      ├─ \u001b[36m\u001b[1mput on (\u001b[22m\u001b[39m\u001b[36m\u001b[1m4\u001b[22m\u001b[39m\u001b[36m\u001b[1m)\u001b[22m\u001b[39m\n",
       "      │  └─ rot(Z gate, 1.3351506735373755)\n",
       "      └─ \u001b[36m\u001b[1mput on (\u001b[22m\u001b[39m\u001b[36m\u001b[1m4\u001b[22m\u001b[39m\u001b[36m\u001b[1m)\u001b[22m\u001b[39m\n",
       "         └─ rot(X gate, 0.0)\n",
       ")"
      ]
     },
     "execution_count": 34,
     "metadata": {},
     "output_type": "execute_result"
    }
   ],
   "source": [
    "train!(dispatch!(circuit, :random), hami; maxiter=1000)"
   ]
  },
  {
   "cell_type": "markdown",
   "metadata": {},
   "source": [
    "# Gradient Vanishing Problem\n",
    "\n",
    "https://arxiv.org/abs/1803.11173"
   ]
  },
  {
   "cell_type": "code",
   "execution_count": 53,
   "metadata": {},
   "outputs": [
    {
     "data": {
      "text/plain": [
       "9-element Array{Float64,1}:\n",
       " 0.4059330395956129  \n",
       " 0.25136200168409156 \n",
       " 0.1970885973573447  \n",
       " 0.12772870055240237 \n",
       " 0.109690519544569   \n",
       " 0.07760827186061026 \n",
       " 0.05082867358284546 \n",
       " 0.03170525147755411 \n",
       " 0.021470617399368067"
      ]
     },
     "execution_count": 53,
     "metadata": {},
     "output_type": "execute_result"
    }
   ],
   "source": [
    "using Statistics\n",
    "\n",
    "function rand_gradient(hami::AbstractBlock)\n",
    "    N = nqubits(hami)\n",
    "    V1j = rand_unitary(1<<N) |> matblock\n",
    "    V2j = rand_unitary(1<<N) |> matblock\n",
    "\n",
    "    Uj = put(N, 1=>Rx(0.0))\n",
    "    c = chain(N, [V1j, Uj, V2j])\n",
    "    \n",
    "    η = rand()*2π\n",
    "    dispatch!(Uj, η+π/2)\n",
    "    y₊ = expect(hami, zero_state(N) |> c) |> real\n",
    "\n",
    "    dispatch!(Uj, η-π/2)\n",
    "    y₋ = expect(hami, zero_state(N) |> c) |> real\n",
    "    (y₊ - y₋)/2\n",
    "end\n",
    "\n",
    "maxN = 9\n",
    "grad_vars = [mean([abs(rand_gradient(put(N, 1=>Z))) for i=1:100]) for N=1:maxN]"
   ]
  },
  {
   "cell_type": "code",
   "execution_count": 56,
   "metadata": {},
   "outputs": [
    {
     "data": {
      "image/png": "[encoded data removed]"
     },
     "execution_count": 56,
     "metadata": {},
     "output_type": "execute_result"
    }
   ],
   "source": [
    "# see a exponential decreasing curve\n",
    "ax = plot(1:maxN, grad_vars, yscale=:log2)"
   ]
  },
  {
   "cell_type": "code",
   "execution_count": null,
   "metadata": {},
   "outputs": [],
   "source": []
  }
 ],
 "metadata": {
  "@webio": {
   "lastCommId": null,
   "lastKernelId": null
  },
  "kernelspec": {
   "display_name": "Julia 1.1.0",
   "language": "julia",
   "name": "julia-1.1"
  },
  "language_info": {
   "file_extension": ".jl",
   "mimetype": "application/julia",
   "name": "julia",
   "version": "1.1.0"
  }
 },
 "nbformat": 4,
 "nbformat_minor": 2
}
