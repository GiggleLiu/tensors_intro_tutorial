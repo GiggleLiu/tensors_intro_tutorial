{
 "cells": [
  {
   "cell_type": "code",
   "execution_count": 1,
   "metadata": {
    "scrolled": true
   },
   "outputs": [
    {
     "name": "stderr",
     "output_type": "stream",
     "text": [
      "┌ Info: Recompiling stale cache file /home/leo/.julia/compiled/v1.1/Zygote/4kbLI.ji for Zygote [e88e6eb3-aa80-5325-afca-941959d7151f]\n",
      "└ @ Base loading.jl:1184\n",
      "┌ Info: Recompiling stale cache file /home/leo/.julia/compiled/v1.1/Flux/QdkVy.ji for Flux [587475ba-b771-5e3f-ad9e-33799f191a9c]\n",
      "└ @ Base loading.jl:1184\n"
     ]
    }
   ],
   "source": [
    "using Zygote\n",
    "using Statistics: var, mean\n",
    "using LinearAlgebra: norm\n",
    "using Flux.NNlib: relu\n",
    "using Flux.Optimise"
   ]
  },
  {
   "cell_type": "code",
   "execution_count": 2,
   "metadata": {},
   "outputs": [
    {
     "data": {
      "text/plain": [
       "myvar (generic function with 1 method)"
      ]
     },
     "execution_count": 2,
     "metadata": {},
     "output_type": "execute_result"
    }
   ],
   "source": [
    "function myvar(v)\n",
    "    mv  = mean(v)\n",
    "    sum((v .- mv).^2)./(length(v)-1)\n",
    "end"
   ]
  },
  {
   "cell_type": "code",
   "execution_count": 3,
   "metadata": {},
   "outputs": [
    {
     "data": {
      "text/plain": [
       "train (generic function with 1 method)"
      ]
     },
     "execution_count": 3,
     "metadata": {},
     "output_type": "execute_result"
    }
   ],
   "source": [
    "function train(params)\n",
    "    opt = ADAM(0.01)\n",
    "    V = 8\n",
    "    maxiter = 20000\n",
    "    msk = [false, true, true, true, false, true, true, true]\n",
    "    pp = params[:,msk]\n",
    "    for i=1:maxiter\n",
    "        grad = view(loss'(params), :,msk)\n",
    "        Optimise.update!(opt, pp, grad)\n",
    "        view(params, :, msk) .= pp\n",
    "        if i%100 == 0\n",
    "            @show loss(params)\n",
    "        end\n",
    "    end\n",
    "    params\n",
    "end"
   ]
  },
  {
   "cell_type": "code",
   "execution_count": 4,
   "metadata": {},
   "outputs": [
    {
     "data": {
      "text/plain": [
       "15-element Array{Tuple{Int64,Int64},1}:\n",
       " (1, 6) \n",
       " (2, 7) \n",
       " (3, 8) \n",
       " (4, 9) \n",
       " (5, 10)\n",
       " (1, 2) \n",
       " (2, 3) \n",
       " (3, 4) \n",
       " (4, 5) \n",
       " (1, 5) \n",
       " (6, 8) \n",
       " (8, 10)\n",
       " (7, 10)\n",
       " (7, 9) \n",
       " (6, 9) "
      ]
     },
     "execution_count": 4,
     "metadata": {},
     "output_type": "execute_result"
    }
   ],
   "source": [
    "L1 = [(1,6), (2,7), (3,8), (4,9), (5,10), (1,2), (2,3), (3,4), (4,5), (5,1), (6,8), (8,10), (10,7), (7,9), (9,6)]\n",
    "L1 = [i<j ? (i,j) : (j,i) for (i,j) in L1]"
   ]
  },
  {
   "cell_type": "code",
   "execution_count": 5,
   "metadata": {},
   "outputs": [],
   "source": [
    "LL = Any[]\n",
    "for i=1:9\n",
    "    for j=i+1:10\n",
    "        push!(LL, (i,j))\n",
    "    end\n",
    "end"
   ]
  },
  {
   "cell_type": "code",
   "execution_count": 6,
   "metadata": {},
   "outputs": [
    {
     "data": {
      "text/plain": [
       "30-element Array{Any,1}:\n",
       " (1, 3) \n",
       " (1, 4) \n",
       " (1, 7) \n",
       " (1, 8) \n",
       " (1, 9) \n",
       " (1, 10)\n",
       " (2, 4) \n",
       " (2, 5) \n",
       " (2, 6) \n",
       " (2, 8) \n",
       " (2, 9) \n",
       " (2, 10)\n",
       " (3, 5) \n",
       " ⋮      \n",
       " (4, 7) \n",
       " (4, 8) \n",
       " (4, 10)\n",
       " (5, 6) \n",
       " (5, 7) \n",
       " (5, 8) \n",
       " (5, 9) \n",
       " (6, 7) \n",
       " (6, 10)\n",
       " (7, 8) \n",
       " (8, 9) \n",
       " (9, 10)"
      ]
     },
     "execution_count": 6,
     "metadata": {},
     "output_type": "execute_result"
    }
   ],
   "source": [
    "L2 = setdiff(LL, L1)"
   ]
  },
  {
   "cell_type": "code",
   "execution_count": 7,
   "metadata": {},
   "outputs": [
    {
     "data": {
      "text/plain": [
       "loss (generic function with 1 method)"
      ]
     },
     "execution_count": 7,
     "metadata": {},
     "output_type": "execute_result"
    }
   ],
   "source": [
    "function loss(x)\n",
    "    a = [norm(x[:,i]-x[:,j]) for (i, j) in L1]\n",
    "    b = [norm(x[:,i]-x[:,j]) for (i, j) in L2]\n",
    "    myvar(a) + myvar(b) + exp(relu(-mean(b) + mean(a) + 0.1))\n",
    "end"
   ]
  },
  {
   "cell_type": "code",
   "execution_count": 8,
   "metadata": {},
   "outputs": [
    {
     "data": {
      "text/plain": [
       "train (generic function with 1 method)"
      ]
     },
     "execution_count": 8,
     "metadata": {},
     "output_type": "execute_result"
    }
   ],
   "source": [
    "function train(params)\n",
    "    opt = ADAM(0.001)\n",
    "    maxiter = 20000\n",
    "    msk = fill(true, size(params, 2))\n",
    "    msk[[1, 2]] .= false\n",
    "    pp = params[:,msk]\n",
    "    for i=1:maxiter\n",
    "        grad = view(loss'(params), :,msk)\n",
    "        Optimise.update!(opt, pp, grad)\n",
    "        view(params, :, msk) .= pp\n",
    "        if i%100 == 0\n",
    "            @show loss2(params)\n",
    "        end\n",
    "    end\n",
    "    params\n",
    "end"
   ]
  },
  {
   "cell_type": "code",
   "execution_count": 9,
   "metadata": {},
   "outputs": [
    {
     "ename": "UndefVarError",
     "evalue": "UndefVarError: loss2 not defined",
     "output_type": "error",
     "traceback": [
      "UndefVarError: loss2 not defined",
      "",
      "Stacktrace:",
      " [1] macro expansion at ./show.jl:555 [inlined]",
      " [2] train(::Array{Float64,2}) at ./In[8]:12",
      " [3] top-level scope at In[9]:2"
     ]
    }
   ],
   "source": [
    "params = randn(5, 10)\n",
    "params = train(params)"
   ]
  },
  {
   "cell_type": "code",
   "execution_count": 10,
   "metadata": {},
   "outputs": [
    {
     "data": {
      "text/plain": [
       "15-element Array{Float64,1}:\n",
       " 2.5352978678369626\n",
       " 3.759871275463382 \n",
       " 3.140700087731001 \n",
       " 2.7665935887717046\n",
       " 2.855794900937913 \n",
       " 2.246092457428752 \n",
       " 2.0673530706598924\n",
       " 2.589412691869277 \n",
       " 3.964400157115386 \n",
       " 2.024468153870198 \n",
       " 4.730835119709707 \n",
       " 2.712549617973731 \n",
       " 3.24318812003815  \n",
       " 2.998984520516086 \n",
       " 2.517110456016402 "
      ]
     },
     "execution_count": 10,
     "metadata": {},
     "output_type": "execute_result"
    }
   ],
   "source": [
    "[norm(params[:,i]-params[:,j]) for (i,j) in L1]"
   ]
  },
  {
   "cell_type": "code",
   "execution_count": 11,
   "metadata": {},
   "outputs": [
    {
     "data": {
      "text/plain": [
       "30-element Array{Float64,1}:\n",
       " 1.6540618898534392\n",
       " 2.338751108120379 \n",
       " 2.9242589346718235\n",
       " 3.6070036483573764\n",
       " 1.2406923703551158\n",
       " 1.7030769977253208\n",
       " 3.767908659114869 \n",
       " 2.2215203674642767\n",
       " 2.1164308139312125\n",
       " 4.541465291371022 \n",
       " 1.9214169362375377\n",
       " 2.9961162384583364\n",
       " 2.467703437175878 \n",
       " ⋮                 \n",
       " 2.6046519183357937\n",
       " 3.2437829941193015\n",
       " 2.5105898369618647\n",
       " 3.051799581953192 \n",
       " 4.060141395569454 \n",
       " 4.255606667990122 \n",
       " 2.7638939328504937\n",
       " 3.4616686898001316\n",
       " 3.6369845242044785\n",
       " 2.635014220963385 \n",
       " 4.170334999895718 \n",
       " 2.2759021638383445"
      ]
     },
     "execution_count": 11,
     "metadata": {},
     "output_type": "execute_result"
    }
   ],
   "source": [
    "[norm(params[:,i]-params[:,j]) for (i,j) in L2]"
   ]
  },
  {
   "cell_type": "code",
   "execution_count": null,
   "metadata": {},
   "outputs": [],
   "source": []
  }
 ],
 "metadata": {
  "@webio": {
   "lastCommId": null,
   "lastKernelId": null
  },
  "kernelspec": {
   "display_name": "Julia 1.1.0",
   "language": "julia",
   "name": "julia-1.1"
  },
  "language_info": {
   "file_extension": ".jl",
   "mimetype": "application/julia",
   "name": "julia",
   "version": "1.1.0"
  }
 },
 "nbformat": 4,
 "nbformat_minor": 2
}
