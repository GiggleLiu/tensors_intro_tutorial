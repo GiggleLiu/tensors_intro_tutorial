{
 "cells": [
  {
   "cell_type": "markdown",
   "metadata": {
    "slideshow": {
     "slide_type": "slide"
    }
   },
   "source": [
    "# Differential Programming for Graph embeding problem"
   ]
  },
  {
   "cell_type": "code",
   "execution_count": 11,
   "metadata": {
    "scrolled": true
   },
   "outputs": [],
   "source": [
    "using Zygote\n",
    "using Statistics: var, mean\n",
    "using LinearAlgebra: norm\n",
    "using Flux.NNlib: relu\n",
    "using Flux.Optimise"
   ]
  },
  {
   "cell_type": "markdown",
   "metadata": {
    "slideshow": {
     "slide_type": "slide"
    }
   },
   "source": [
    "# Define the variance"
   ]
  },
  {
   "cell_type": "code",
   "execution_count": 2,
   "metadata": {},
   "outputs": [
    {
     "data": {
      "text/plain": [
       "myvar (generic function with 1 method)"
      ]
     },
     "execution_count": 2,
     "metadata": {},
     "output_type": "execute_result"
    }
   ],
   "source": [
    "function myvar(v)\n",
    "    mv  = mean(v)\n",
    "    sum((v .- mv).^2)./(length(v)-1)\n",
    "end"
   ]
  },
  {
   "cell_type": "markdown",
   "metadata": {
    "slideshow": {
     "slide_type": "slide"
    }
   },
   "source": [
    "# Define the bonds of a Peterson graph"
   ]
  },
  {
   "cell_type": "code",
   "execution_count": 12,
   "metadata": {},
   "outputs": [
    {
     "data": {
      "text/plain": [
       "15-element Array{Tuple{Int64,Int64},1}:\n",
       " (1, 6) \n",
       " (2, 7) \n",
       " (3, 8) \n",
       " (4, 9) \n",
       " (5, 10)\n",
       " (1, 2) \n",
       " (2, 3) \n",
       " (3, 4) \n",
       " (4, 5) \n",
       " (1, 5) \n",
       " (6, 8) \n",
       " (8, 10)\n",
       " (7, 10)\n",
       " (7, 9) \n",
       " (6, 9) "
      ]
     },
     "execution_count": 12,
     "metadata": {},
     "output_type": "execute_result"
    }
   ],
   "source": [
    "L1 = [(1,6), (2,7), (3,8), (4,9), (5,10), (1,2), (2,3), (3,4), (4,5), (5,1), (6,8), (8,10), (10,7), (7,9), (9,6)]\n",
    "L1 = [i<j ? (i,j) : (j,i) for (i,j) in L1]"
   ]
  },
  {
   "cell_type": "markdown",
   "metadata": {
    "slideshow": {
     "slide_type": "slide"
    }
   },
   "source": [
    "# Disconnected bonds"
   ]
  },
  {
   "cell_type": "code",
   "execution_count": 13,
   "metadata": {
    "slideshow": {
     "slide_type": "-"
    }
   },
   "outputs": [],
   "source": [
    "LL = Any[]\n",
    "for i=1:9\n",
    "    for j=i+1:10\n",
    "        push!(LL, (i,j))\n",
    "    end\n",
    "end"
   ]
  },
  {
   "cell_type": "code",
   "execution_count": 14,
   "metadata": {},
   "outputs": [
    {
     "data": {
      "text/plain": [
       "30-element Array{Any,1}:\n",
       " (1, 3) \n",
       " (1, 4) \n",
       " (1, 7) \n",
       " (1, 8) \n",
       " (1, 9) \n",
       " (1, 10)\n",
       " (2, 4) \n",
       " (2, 5) \n",
       " (2, 6) \n",
       " (2, 8) \n",
       " (2, 9) \n",
       " (2, 10)\n",
       " (3, 5) \n",
       " ⋮      \n",
       " (4, 7) \n",
       " (4, 8) \n",
       " (4, 10)\n",
       " (5, 6) \n",
       " (5, 7) \n",
       " (5, 8) \n",
       " (5, 9) \n",
       " (6, 7) \n",
       " (6, 10)\n",
       " (7, 8) \n",
       " (8, 9) \n",
       " (9, 10)"
      ]
     },
     "execution_count": 14,
     "metadata": {},
     "output_type": "execute_result"
    }
   ],
   "source": [
    "L2 = setdiff(LL, L1)"
   ]
  },
  {
   "cell_type": "markdown",
   "metadata": {
    "slideshow": {
     "slide_type": "slide"
    }
   },
   "source": [
    "# Loss function"
   ]
  },
  {
   "cell_type": "code",
   "execution_count": 15,
   "metadata": {},
   "outputs": [
    {
     "data": {
      "text/plain": [
       "loss (generic function with 1 method)"
      ]
     },
     "execution_count": 15,
     "metadata": {},
     "output_type": "execute_result"
    }
   ],
   "source": [
    "function loss(x)\n",
    "    a = [norm(x[:,i]-x[:,j]) for (i, j) in L1]\n",
    "    b = [norm(x[:,i]-x[:,j]) for (i, j) in L2]\n",
    "    myvar(a) + myvar(b) + exp(relu(-mean(b) + mean(a) + 0.1))\n",
    "end"
   ]
  },
  {
   "cell_type": "markdown",
   "metadata": {
    "slideshow": {
     "slide_type": "slide"
    }
   },
   "source": [
    "# The training"
   ]
  },
  {
   "cell_type": "code",
   "execution_count": 16,
   "metadata": {},
   "outputs": [
    {
     "data": {
      "text/plain": [
       "train (generic function with 1 method)"
      ]
     },
     "execution_count": 16,
     "metadata": {},
     "output_type": "execute_result"
    }
   ],
   "source": [
    "function train(params)\n",
    "    opt = ADAM(0.01)\n",
    "    maxiter = 2000\n",
    "    msk = fill(true, size(params, 2))\n",
    "    msk[[1, 2]] .= false\n",
    "    pp = params[:,msk]\n",
    "    for i=1:maxiter\n",
    "        grad = view(loss'(params), :,msk)\n",
    "        Optimise.update!(opt, pp, grad)\n",
    "        view(params, :, msk) .= pp\n",
    "        if i%100 == 0\n",
    "            @show loss(params)\n",
    "        end\n",
    "    end\n",
    "    params\n",
    "end"
   ]
  },
  {
   "cell_type": "code",
   "execution_count": 19,
   "metadata": {
    "slideshow": {
     "slide_type": "slide"
    }
   },
   "outputs": [
    {
     "name": "stdout",
     "output_type": "stream",
     "text": [
      "loss(params) = 1.6687414155405986\n",
      "loss(params) = 1.4157332623786845\n",
      "loss(params) = 1.2533929463104143\n",
      "loss(params) = 1.1396410068075318\n",
      "loss(params) = 1.0477527911104751\n",
      "loss(params) = 1.0139284709778715\n",
      "loss(params) = 1.0051470918195975\n",
      "loss(params) = 1.0017648391030218\n",
      "loss(params) = 1.0005415926275132\n",
      "loss(params) = 1.0001474502510763\n",
      "loss(params) = 1.0000355434761794\n",
      "loss(params) = 1.0000075735386393\n",
      "loss(params) = 1.0000014222353657\n",
      "loss(params) = 1.0000002343365628\n",
      "loss(params) = 1.00000003368238\n",
      "loss(params) = 1.0000000041945414\n",
      "loss(params) = 1.0000000004490492\n",
      "loss(params) = 1.000000000040968\n",
      "loss(params) = 1.0000000000031546\n",
      "loss(params) = 1.000000000000203\n"
     ]
    },
    {
     "data": {
      "text/plain": [
       "5×10 Array{Float64,2}:\n",
       " -0.966946  -1.61448   -1.04189   …   0.886009  -0.581735   1.54834  \n",
       " -0.194974  -0.67774   -1.23952      -1.99196   -0.642991  -0.0601035\n",
       " -0.158067   0.306378  -1.67698      -1.15769    0.259446  -0.0737423\n",
       "  3.12774    1.42253    0.53096       1.33       0.333616   1.08056  \n",
       "  1.52957    0.210582   0.589345      1.15895    3.1729     0.830863 "
      ]
     },
     "execution_count": 19,
     "metadata": {},
     "output_type": "execute_result"
    }
   ],
   "source": [
    "params = randn(5, 10)\n",
    "params = train(params)"
   ]
  },
  {
   "cell_type": "markdown",
   "metadata": {
    "slideshow": {
     "slide_type": "slide"
    }
   },
   "source": [
    "# Check Results"
   ]
  },
  {
   "cell_type": "code",
   "execution_count": 20,
   "metadata": {},
   "outputs": [
    {
     "data": {
      "text/plain": [
       "15-element Array{Float64,1}:\n",
       " 2.3485171583891953\n",
       " 2.34851724011789  \n",
       " 2.3485172751265435\n",
       " 2.348517316152837 \n",
       " 2.3485173741620464\n",
       " 2.3485185579984065\n",
       " 2.3485170233215147\n",
       " 2.348517345362473 \n",
       " 2.3485172970957717\n",
       " 2.3485170780845173\n",
       " 2.3485173406927196\n",
       " 2.348517329213868 \n",
       " 2.3485173088303415\n",
       " 2.348517377963753 \n",
       " 2.3485173715689505"
      ]
     },
     "execution_count": 20,
     "metadata": {},
     "output_type": "execute_result"
    }
   ],
   "source": [
    "[norm(params[:,i]-params[:,j]) for (i,j) in L1]"
   ]
  },
  {
   "cell_type": "code",
   "execution_count": 21,
   "metadata": {
    "slideshow": {
     "slide_type": "slide"
    }
   },
   "outputs": [
    {
     "data": {
      "text/plain": [
       "30-element Array{Float64,1}:\n",
       " 3.321305506187664 \n",
       " 3.321305269743166 \n",
       " 3.321304346986394 \n",
       " 3.321304943048185 \n",
       " 3.3213049873051133\n",
       " 3.321304509836133 \n",
       " 3.32130473523949  \n",
       " 3.321305436276903 \n",
       " 3.32130540170377  \n",
       " 3.321305242708751 \n",
       " 3.321304876172061 \n",
       " 3.3213055012778447\n",
       " 3.321304845441519 \n",
       " ⋮                 \n",
       " 3.321305399174512 \n",
       " 3.3213051954153916\n",
       " 3.3213051251865466\n",
       " 3.321305326984935 \n",
       " 3.3213049856062824\n",
       " 3.3213051915654224\n",
       " 3.3213051859553624\n",
       " 3.3213049039932123\n",
       " 3.3213052787609407\n",
       " 3.321305038880893 \n",
       " 3.321305068274501 \n",
       " 3.321305056728446 "
      ]
     },
     "execution_count": 21,
     "metadata": {},
     "output_type": "execute_result"
    }
   ],
   "source": [
    "[norm(params[:,i]-params[:,j]) for (i,j) in L2]"
   ]
  }
 ],
 "metadata": {
  "@webio": {
   "lastCommId": null,
   "lastKernelId": null
  },
  "celltoolbar": "Slideshow",
  "kernelspec": {
   "display_name": "Julia 1.1.0",
   "language": "julia",
   "name": "julia-1.1"
  },
  "language_info": {
   "file_extension": ".jl",
   "mimetype": "application/julia",
   "name": "julia",
   "version": "1.1.0"
  }
 },
 "nbformat": 4,
 "nbformat_minor": 2
}
