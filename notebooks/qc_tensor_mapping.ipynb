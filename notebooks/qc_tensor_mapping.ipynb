{
 "cells": [
  {
   "cell_type": "code",
   "execution_count": 1,
   "metadata": {
    "slideshow": {
     "slide_type": "slide"
    }
   },
   "outputs": [],
   "source": [
    "using TensorOperations, Test, OMEinsum"
   ]
  },
  {
   "cell_type": "markdown",
   "metadata": {
    "slideshow": {
     "slide_type": "slide"
    }
   },
   "source": [
    "# Mapping a QFT circuit to a TN\n",
    "\n",
    "<img src=\"images/_qft.png\" width=\"800\">"
   ]
  },
  {
   "cell_type": "markdown",
   "metadata": {
    "slideshow": {
     "slide_type": "slide"
    }
   },
   "source": [
    "## Hadamard Gate\n",
    "<img src=\"images/hadamard.png\" width=\"100\">"
   ]
  },
  {
   "cell_type": "code",
   "execution_count": 3,
   "metadata": {},
   "outputs": [
    {
     "data": {
      "text/plain": [
       "2×2 Array{Complex{Float64},2}:\n",
       " 0.707107+0.0im   0.707107+0.0im\n",
       " 0.707107+0.0im  -0.707107+0.0im"
      ]
     },
     "execution_count": 3,
     "metadata": {},
     "output_type": "execute_result"
    }
   ],
   "source": [
    "using Yao # the quantum circuit simulator in Julia\n",
    "mat(H)"
   ]
  },
  {
   "cell_type": "markdown",
   "metadata": {
    "slideshow": {
     "slide_type": "slide"
    }
   },
   "source": [
    "## Control-Phase Gate\n",
    "<img src=\"images/control-R.png\" width=\"90\">\n",
    "\n",
    "control-Tensor (bottom): $\\delta_{ijk}$\n",
    "\n",
    "Phase-Tensor (bottom): ${\\rm R_k}_{ljm} = \\begin{cases}\\delta_{lm} & j=0,\\\\ \\rm{diag}(1, e^{i\\frac{2\\pi}{2^{\\rm k}}}) & j=1.\\end{cases}$"
   ]
  },
  {
   "cell_type": "code",
   "execution_count": 4,
   "metadata": {},
   "outputs": [
    {
     "data": {
      "text/plain": [
       "4×4 LinearAlgebra.Diagonal{Complex{Float64},Array{Complex{Float64},1}}:\n",
       " 1.0+0.0im      ⋅          ⋅                  ⋅    \n",
       "     ⋅      1.0+0.0im      ⋅                  ⋅    \n",
       "     ⋅          ⋅      1.0+0.0im              ⋅    \n",
       "     ⋅          ⋅          ⋅      6.12323e-17+1.0im"
      ]
     },
     "execution_count": 4,
     "metadata": {},
     "output_type": "execute_result"
    }
   ],
   "source": [
    "CRk(i::Int, j::Int, k::Int) = control([i, ], j=>shift(2π/(1<<k)))\n",
    "mat(CRk(2,1,2)(2))"
   ]
  },
  {
   "cell_type": "code",
   "execution_count": 14,
   "metadata": {
    "slideshow": {
     "slide_type": "skip"
    }
   },
   "outputs": [
    {
     "data": {
      "text/plain": [
       "\u001b[32m\u001b[1mTest Passed\u001b[22m\u001b[39m"
      ]
     },
     "execution_count": 14,
     "metadata": {},
     "output_type": "execute_result"
    }
   ],
   "source": [
    "function Rk(k)\n",
    "    y = zeros(ComplexF64, 2,2,2)\n",
    "    y[:,1,:] = δ(2,2)\n",
    "    y[:,2,:] = [1 0; 0 exp(2im*π/2^k)]\n",
    "    y\n",
    "end\n",
    "\n",
    "function δ(dims...)\n",
    "    y = zeros(dims)\n",
    "    for i=1:min(dims...)\n",
    "        y[fill(i, length(dims))...] = 1\n",
    "    end\n",
    "    y\n",
    "end\n",
    "\n",
    "@test reshape(ein\"abc,dbe->adce\"(δ(2,2,2), Rk(2)), 4, 4) ≈ mat(CRk(2,1,2)(2))"
   ]
  },
  {
   "cell_type": "markdown",
   "metadata": {
    "slideshow": {
     "slide_type": "slide"
    }
   },
   "source": [
    "or equivalently\n",
    "\n",
    "<img src=\"images/chc.png\" width=\"100\">\n",
    "with\n",
    "${\\rm H_k} = \\left(\\begin{array}(1 & 1 \\\\ 1 & e^{i\\frac{2\\pi}{2^{\\rm k}}}\\end{array}\\right)$"
   ]
  },
  {
   "cell_type": "markdown",
   "metadata": {
    "slideshow": {
     "slide_type": "slide"
    }
   },
   "source": [
    "# Obtaining the result directly"
   ]
  },
  {
   "cell_type": "code",
   "execution_count": 6,
   "metadata": {
    "slideshow": {
     "slide_type": "-"
    }
   },
   "outputs": [
    {
     "data": {
      "text/plain": [
       "\u001b[36mnqubits: 5\u001b[39m\n",
       "\u001b[34m\u001b[1mchain\u001b[22m\u001b[39m\n",
       "├─ \u001b[34m\u001b[1mchain\u001b[22m\u001b[39m\n",
       "│  ├─ \u001b[36m\u001b[1mkron\u001b[22m\u001b[39m\n",
       "│  │  └─ \u001b[37m\u001b[1m1\u001b[22m\u001b[39m=>H gate\n",
       "│  ├─ \u001b[31m\u001b[1mcontrol(\u001b[22m\u001b[39m\u001b[31m\u001b[1m2\u001b[22m\u001b[39m\u001b[31m\u001b[1m)\u001b[22m\u001b[39m\n",
       "│  │  └─ \u001b[37m\u001b[1m(1,)\u001b[22m\u001b[39m shift(1.5707963267948966)\n",
       "│  ├─ \u001b[31m\u001b[1mcontrol(\u001b[22m\u001b[39m\u001b[31m\u001b[1m3\u001b[22m\u001b[39m\u001b[31m\u001b[1m)\u001b[22m\u001b[39m\n",
       "│  │  └─ \u001b[37m\u001b[1m(1,)\u001b[22m\u001b[39m shift(0.7853981633974483)\n",
       "│  ├─ \u001b[31m\u001b[1mcontrol(\u001b[22m\u001b[39m\u001b[31m\u001b[1m4\u001b[22m\u001b[39m\u001b[31m\u001b[1m)\u001b[22m\u001b[39m\n",
       "│  │  └─ \u001b[37m\u001b[1m(1,)\u001b[22m\u001b[39m shift(0.39269908169872414)\n",
       "│  └─ \u001b[31m\u001b[1mcontrol(\u001b[22m\u001b[39m\u001b[31m\u001b[1m5\u001b[22m\u001b[39m\u001b[31m\u001b[1m)\u001b[22m\u001b[39m\n",
       "│     └─ \u001b[37m\u001b[1m(1,)\u001b[22m\u001b[39m shift(0.19634954084936207)\n",
       "├─ \u001b[34m\u001b[1mchain\u001b[22m\u001b[39m\n",
       "│  ├─ \u001b[36m\u001b[1mkron\u001b[22m\u001b[39m\n",
       "│  │  └─ \u001b[37m\u001b[1m2\u001b[22m\u001b[39m=>H gate\n",
       "│  ├─ \u001b[31m\u001b[1mcontrol(\u001b[22m\u001b[39m\u001b[31m\u001b[1m3\u001b[22m\u001b[39m\u001b[31m\u001b[1m)\u001b[22m\u001b[39m\n",
       "│  │  └─ \u001b[37m\u001b[1m(2,)\u001b[22m\u001b[39m shift(1.5707963267948966)\n",
       "│  ├─ \u001b[31m\u001b[1mcontrol(\u001b[22m\u001b[39m\u001b[31m\u001b[1m4\u001b[22m\u001b[39m\u001b[31m\u001b[1m)\u001b[22m\u001b[39m\n",
       "│  │  └─ \u001b[37m\u001b[1m(2,)\u001b[22m\u001b[39m shift(0.7853981633974483)\n",
       "│  └─ \u001b[31m\u001b[1mcontrol(\u001b[22m\u001b[39m\u001b[31m\u001b[1m5\u001b[22m\u001b[39m\u001b[31m\u001b[1m)\u001b[22m\u001b[39m\n",
       "│     └─ \u001b[37m\u001b[1m(2,)\u001b[22m\u001b[39m shift(0.39269908169872414)\n",
       "├─ \u001b[34m\u001b[1mchain\u001b[22m\u001b[39m\n",
       "│  ├─ \u001b[36m\u001b[1mkron\u001b[22m\u001b[39m\n",
       "│  │  └─ \u001b[37m\u001b[1m3\u001b[22m\u001b[39m=>H gate\n",
       "│  ├─ \u001b[31m\u001b[1mcontrol(\u001b[22m\u001b[39m\u001b[31m\u001b[1m4\u001b[22m\u001b[39m\u001b[31m\u001b[1m)\u001b[22m\u001b[39m\n",
       "│  │  └─ \u001b[37m\u001b[1m(3,)\u001b[22m\u001b[39m shift(1.5707963267948966)\n",
       "│  └─ \u001b[31m\u001b[1mcontrol(\u001b[22m\u001b[39m\u001b[31m\u001b[1m5\u001b[22m\u001b[39m\u001b[31m\u001b[1m)\u001b[22m\u001b[39m\n",
       "│     └─ \u001b[37m\u001b[1m(3,)\u001b[22m\u001b[39m shift(0.7853981633974483)\n",
       "├─ \u001b[34m\u001b[1mchain\u001b[22m\u001b[39m\n",
       "│  ├─ \u001b[36m\u001b[1mkron\u001b[22m\u001b[39m\n",
       "│  │  └─ \u001b[37m\u001b[1m4\u001b[22m\u001b[39m=>H gate\n",
       "│  └─ \u001b[31m\u001b[1mcontrol(\u001b[22m\u001b[39m\u001b[31m\u001b[1m5\u001b[22m\u001b[39m\u001b[31m\u001b[1m)\u001b[22m\u001b[39m\n",
       "│     └─ \u001b[37m\u001b[1m(4,)\u001b[22m\u001b[39m shift(1.5707963267948966)\n",
       "└─ \u001b[34m\u001b[1mchain\u001b[22m\u001b[39m\n",
       "   └─ \u001b[36m\u001b[1mkron\u001b[22m\u001b[39m\n",
       "      └─ \u001b[37m\u001b[1m5\u001b[22m\u001b[39m=>H gate\n"
      ]
     },
     "execution_count": 6,
     "metadata": {},
     "output_type": "execute_result"
    }
   ],
   "source": [
    "CRot(n::Int, i::Int) = chain(n, i==j ? kron(i=>H) : CRk(j, i, j-i+1) for j = i:n)\n",
    "QFTCircuit(n::Int) = chain(n, CRot(n, i) for i = 1:n)\n",
    "\n",
    "qft = QFTCircuit(5)"
   ]
  },
  {
   "cell_type": "code",
   "execution_count": 7,
   "metadata": {
    "slideshow": {
     "slide_type": "slide"
    }
   },
   "outputs": [
    {
     "data": {
      "text/plain": [
       "2×2×2×2×2 Array{Complex{Float64},5}:\n",
       "[:, :, 1, 1, 1] =\n",
       " 0.0224271-0.093019im    0.233175+0.0592647im \n",
       " -0.095633-0.00294187im   0.12047-0.00984994im\n",
       "\n",
       "[:, :, 2, 1, 1] =\n",
       " 0.0380472+0.141338im   -0.087897+0.0364162im\n",
       " -0.124344+0.119878im  -0.0926874-0.0906802im\n",
       "\n",
       "[:, :, 1, 2, 1] =\n",
       "  -0.14541-0.288891im   -0.0310531-0.0207117im\n",
       " 0.0463507-0.0776741im   -0.180881-0.150681im \n",
       "\n",
       "[:, :, 2, 2, 1] =\n",
       " 0.0289636+0.243638im   -0.118138-0.164981im\n",
       " 0.0381667-0.0275256im   0.219473-0.186898im\n",
       "\n",
       "[:, :, 1, 1, 2] =\n",
       " -0.0855382+0.0165599im  -0.0522117-0.0822659im\n",
       "   0.200873-0.309221im    0.0184327+0.171174im \n",
       "\n",
       "[:, :, 2, 1, 2] =\n",
       " -0.071296-0.0350283im  0.0884788-0.167487im\n",
       " 0.0589456+0.0788051im  0.0780767+0.113482im\n",
       "\n",
       "[:, :, 1, 2, 2] =\n",
       "  -0.141407+0.074095im     0.166394+0.20782im \n",
       " -0.0920639+0.0396804im  -0.0574603+0.119611im\n",
       "\n",
       "[:, :, 2, 2, 2] =\n",
       " 0.0380336-0.0735414im  0.0149974-0.0106509im\n",
       " -0.109298+0.0460472im   0.241215-0.137045im "
      ]
     },
     "execution_count": 7,
     "metadata": {},
     "output_type": "execute_result"
    }
   ],
   "source": [
    "# get the result using a vector based quantum simulator\n",
    "reg = rand_state(5);\n",
    "res = copy(reg) |> qft\n",
    "ψ = dropdims(reg |> hypercubic, dims=6)"
   ]
  },
  {
   "cell_type": "markdown",
   "metadata": {
    "slideshow": {
     "slide_type": "slide"
    }
   },
   "source": [
    "# The (generalized) tensor network approach\n",
    "### 1. labeling legs in a quantum circuit\n",
    "* If a gate is diagonal, or a control gate, do not change the label, e.g. CPHASE gate in this example,\n",
    "* otherwise a asign a new label (like `H` gate in this example)\n",
    "\n",
    "\n",
    "<img src=\"images/qftslices.png\" width=\"1000\"/>"
   ]
  },
  {
   "cell_type": "markdown",
   "metadata": {
    "slideshow": {
     "slide_type": "slide"
    }
   },
   "source": [
    "### 2. these labels are nodes in a probability graph\n",
    "\n",
    "<img src=\"images/qfttn.png\" width=\"350\"/>\n",
    "\n",
    "We can define a elimination order for this graph, or map it to a tensor network with pairwise contraction only."
   ]
  },
  {
   "cell_type": "markdown",
   "metadata": {
    "slideshow": {
     "slide_type": "slide"
    }
   },
   "source": [
    "# Incidence List"
   ]
  },
  {
   "cell_type": "code",
   "execution_count": 8,
   "metadata": {
    "scrolled": true
   },
   "outputs": [
    {
     "data": {
      "text/plain": [
       "15-element Array{Tuple{Int64,Int64},1}:\n",
       " (1, 6) \n",
       " (2, 6) \n",
       " (2, 7) \n",
       " (3, 6) \n",
       " (3, 7) \n",
       " (3, 8) \n",
       " (4, 6) \n",
       " (4, 7) \n",
       " (4, 8) \n",
       " (4, 9) \n",
       " (5, 6) \n",
       " (5, 7) \n",
       " (5, 8) \n",
       " (5, 9) \n",
       " (5, 10)"
      ]
     },
     "execution_count": 8,
     "metadata": {},
     "output_type": "execute_result"
    }
   ],
   "source": [
    "ilist = [(1,6), (2,6), (2,7), (3,6),(3,7), (3,8), (4,6),(4,7),(4,8),(4,9), (5,6),(5,7),(5,8),(5,9),(5,10)]"
   ]
  },
  {
   "cell_type": "code",
   "execution_count": 9,
   "metadata": {
    "slideshow": {
     "slide_type": "slide"
    }
   },
   "outputs": [],
   "source": [
    "Hk(k::Int) = [1 1; 1 exp(2im*π/(1<<k))]\n",
    "H1 = mat(H)\n",
    "H2 = Hk(2)\n",
    "H3 = Hk(3)\n",
    "H4 = Hk(4)\n",
    "H5 = Hk(5);"
   ]
  },
  {
   "cell_type": "code",
   "execution_count": 17,
   "metadata": {},
   "outputs": [
    {
     "data": {
      "text/plain": [
       "true"
      ]
     },
     "execution_count": 17,
     "metadata": {},
     "output_type": "execute_result"
    }
   ],
   "source": [
    "out_ein = einsum(EinCode(((1,2,3,4,5), ilist...),(6,7,8,9,10)), (ψ,H1,H2,H1,H3,H2,H1,H4,H3,H2,H1,H5,H4,H3,H2,H1))\n",
    "statevec(res) ≈ vec(out_ein)"
   ]
  },
  {
   "cell_type": "code",
   "execution_count": 18,
   "metadata": {
    "slideshow": {
     "slide_type": "skip"
    }
   },
   "outputs": [],
   "source": [
    "using TensorOperations"
   ]
  },
  {
   "cell_type": "code",
   "execution_count": 29,
   "metadata": {
    "slideshow": {
     "slide_type": "skip"
    }
   },
   "outputs": [],
   "source": [
    "Δ(dim::Int) = δ(fill(2,dim)...)\n",
    "δ3 = Δ(3);\n",
    "δ4 = Δ(4);\n",
    "δ5 = Δ(5);\n",
    "δ6 = Δ(6);\n",
    "@tensoropt begin\n",
    "    out[f,g,h,i,j] :=\n",
    "    ψ[a,b,c,d,e] * \n",
    "    H1[a,f1] * H2[f2,b1] * H3[f3,c1] * H4[f4,d1] * H5[f5,e1] *\n",
    "    H1[b2,g1] * H2[g2,c2] * H3[g3,d2] * H4[g4,e2] *\n",
    "    H1[c3,h1] * H2[h2,d3] * H3[h3,e3] *\n",
    "    H1[d4,i1] * H2[i2,e4] *\n",
    "    H1[e5,j] *\n",
    "    δ3[b2,b1,b] *\n",
    "    δ4[c3,c2,c1,c] *\n",
    "    δ5[d4,d3,d2,d1,d] *\n",
    "    δ6[e5,e4,e3,e2,e1,e] *\n",
    "    δ3[i2,i1,i] *\n",
    "    δ4[h3,h2,h1,h] *\n",
    "    δ5[g4,g3,g2,g1,g] *\n",
    "    δ6[f5,f4,f3,f2,f1,f]\n",
    "end;"
   ]
  },
  {
   "cell_type": "code",
   "execution_count": 30,
   "metadata": {
    "slideshow": {
     "slide_type": "skip"
    }
   },
   "outputs": [
    {
     "data": {
      "text/plain": [
       "true"
      ]
     },
     "execution_count": 30,
     "metadata": {},
     "output_type": "execute_result"
    }
   ],
   "source": [
    "statevec(res) ≈ vec(out)"
   ]
  },
  {
   "cell_type": "code",
   "execution_count": 32,
   "metadata": {},
   "outputs": [
    {
     "data": {
      "text/plain": [
       "true"
      ]
     },
     "execution_count": 32,
     "metadata": {},
     "output_type": "execute_result"
    }
   ],
   "source": [
    "out2 = ein\"abcde,af,fb,fc,fd,fe,bg,gc,gd,ge,ch,hd,he,di,ie,ej->fghij\"(ψ,H1,H2,H3,H4,H5,H1,H2,H3,H4,H1,H2,H3,H1,H2,H1);\n",
    "statevec(res) ≈ vec(out2)"
   ]
  },
  {
   "cell_type": "code",
   "execution_count": null,
   "metadata": {},
   "outputs": [],
   "source": []
  }
 ],
 "metadata": {
  "@webio": {
   "lastCommId": null,
   "lastKernelId": null
  },
  "celltoolbar": "Slideshow",
  "kernelspec": {
   "display_name": "Julia 1.1.0",
   "language": "julia",
   "name": "julia-1.1"
  },
  "language_info": {
   "file_extension": ".jl",
   "mimetype": "application/julia",
   "name": "julia",
   "version": "1.1.0"
  }
 },
 "nbformat": 4,
 "nbformat_minor": 2
}
