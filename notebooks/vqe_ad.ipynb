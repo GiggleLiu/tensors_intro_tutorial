{
 "cells": [
  {
   "cell_type": "markdown",
   "metadata": {
    "slideshow": {
     "slide_type": "slide"
    }
   },
   "source": [
    "# Differential Programming a quantum circuit\n",
    "\n",
    "`Yao.jl` + `Zygote.jl`"
   ]
  },
  {
   "cell_type": "code",
   "execution_count": 12,
   "metadata": {},
   "outputs": [],
   "source": [
    "using Yao\n",
    "using YaoAD\n",
    "using LinearAlgebra\n",
    "using QuAlgorithmZoo: heisenberg, random_diff_circuit, pair_ring"
   ]
  },
  {
   "cell_type": "markdown",
   "metadata": {
    "slideshow": {
     "slide_type": "slide"
    }
   },
   "source": [
    "## Define a hamiltonian"
   ]
  },
  {
   "cell_type": "code",
   "execution_count": 3,
   "metadata": {},
   "outputs": [
    {
     "data": {
      "text/plain": [
       "\u001b[36mnqubits: 4\u001b[39m\n",
       "\u001b[34m\u001b[1msum\u001b[22m\u001b[39m\n",
       "├─ \u001b[34m\u001b[1msum\u001b[22m\u001b[39m\n",
       "│  ├─ \u001b[34m\u001b[1msum\u001b[22m\u001b[39m\n",
       "│  │  ├─ \u001b[34m\u001b[1msum\u001b[22m\u001b[39m\n",
       "│  │  │  ├─ \u001b[34m\u001b[1mchain\u001b[22m\u001b[39m\n",
       "│  │  │  │  ├─ \u001b[36m\u001b[1mput on (\u001b[22m\u001b[39m\u001b[36m\u001b[1m2\u001b[22m\u001b[39m\u001b[36m\u001b[1m)\u001b[22m\u001b[39m\n",
       "│  │  │  │  │  └─ X gate\n",
       "│  │  │  │  └─ \u001b[36m\u001b[1mput on (\u001b[22m\u001b[39m\u001b[36m\u001b[1m1\u001b[22m\u001b[39m\u001b[36m\u001b[1m)\u001b[22m\u001b[39m\n",
       "│  │  │  │     └─ X gate\n",
       "│  │  │  ├─ \u001b[34m\u001b[1mchain\u001b[22m\u001b[39m\n",
       "│  │  │  │  ├─ \u001b[36m\u001b[1mput on (\u001b[22m\u001b[39m\u001b[36m\u001b[1m2\u001b[22m\u001b[39m\u001b[36m\u001b[1m)\u001b[22m\u001b[39m\n",
       "│  │  │  │  │  └─ Y gate\n",
       "│  │  │  │  └─ \u001b[36m\u001b[1mput on (\u001b[22m\u001b[39m\u001b[36m\u001b[1m1\u001b[22m\u001b[39m\u001b[36m\u001b[1m)\u001b[22m\u001b[39m\n",
       "│  │  │  │     └─ Y gate\n",
       "│  │  │  └─ \u001b[34m\u001b[1mchain\u001b[22m\u001b[39m\n",
       "│  │  │     ├─ \u001b[36m\u001b[1mput on (\u001b[22m\u001b[39m\u001b[36m\u001b[1m2\u001b[22m\u001b[39m\u001b[36m\u001b[1m)\u001b[22m\u001b[39m\n",
       "│  │  │     │  └─ Z gate\n",
       "│  │  │     └─ \u001b[36m\u001b[1mput on (\u001b[22m\u001b[39m\u001b[36m\u001b[1m1\u001b[22m\u001b[39m\u001b[36m\u001b[1m)\u001b[22m\u001b[39m\n",
       "│  │  │        └─ Z gate\n",
       "│  │  └─ \u001b[34m\u001b[1msum\u001b[22m\u001b[39m\n",
       "│  │     ├─ \u001b[34m\u001b[1mchain\u001b[22m\u001b[39m\n",
       "│  │     │  ├─ \u001b[36m\u001b[1mput on (\u001b[22m\u001b[39m\u001b[36m\u001b[1m3\u001b[22m\u001b[39m\u001b[36m\u001b[1m)\u001b[22m\u001b[39m\n",
       "│  │     │  │  └─ X gate\n",
       "│  │     │  └─ \u001b[36m\u001b[1mput on (\u001b[22m\u001b[39m\u001b[36m\u001b[1m2\u001b[22m\u001b[39m\u001b[36m\u001b[1m)\u001b[22m\u001b[39m\n",
       "│  │     │     └─ X gate\n",
       "│  │     ├─ \u001b[34m\u001b[1mchain\u001b[22m\u001b[39m\n",
       "│  │     │  ├─ \u001b[36m\u001b[1mput on (\u001b[22m\u001b[39m\u001b[36m\u001b[1m3\u001b[22m\u001b[39m\u001b[36m\u001b[1m)\u001b[22m\u001b[39m\n",
       "│  │     │  │  └─ Y gate\n",
       "│  │     │  └─ \u001b[36m\u001b[1mput on (\u001b[22m\u001b[39m\u001b[36m\u001b[1m2\u001b[22m\u001b[39m\u001b[36m\u001b[1m)\u001b[22m\u001b[39m\n",
       "│  │     │     └─ Y gate\n",
       "│  │     └─ \u001b[34m\u001b[1mchain\u001b[22m\u001b[39m\n",
       "│  │        ├─ \u001b[36m\u001b[1mput on (\u001b[22m\u001b[39m\u001b[36m\u001b[1m3\u001b[22m\u001b[39m\u001b[36m\u001b[1m)\u001b[22m\u001b[39m\n",
       "│  │        │  └─ Z gate\n",
       "│  │        └─ \u001b[36m\u001b[1mput on (\u001b[22m\u001b[39m\u001b[36m\u001b[1m2\u001b[22m\u001b[39m\u001b[36m\u001b[1m)\u001b[22m\u001b[39m\n",
       "│  │           └─ Z gate\n",
       "│  └─ \u001b[34m\u001b[1msum\u001b[22m\u001b[39m\n",
       "│     ├─ \u001b[34m\u001b[1mchain\u001b[22m\u001b[39m\n",
       "│     │  ├─ \u001b[36m\u001b[1mput on (\u001b[22m\u001b[39m\u001b[36m\u001b[1m4\u001b[22m\u001b[39m\u001b[36m\u001b[1m)\u001b[22m\u001b[39m\n",
       "│     │  │  └─ X gate\n",
       "│     │  └─ \u001b[36m\u001b[1mput on (\u001b[22m\u001b[39m\u001b[36m\u001b[1m3\u001b[22m\u001b[39m\u001b[36m\u001b[1m)\u001b[22m\u001b[39m\n",
       "│     │     └─ X gate\n",
       "│     ├─ \u001b[34m\u001b[1mchain\u001b[22m\u001b[39m\n",
       "│     │  ├─ \u001b[36m\u001b[1mput on (\u001b[22m\u001b[39m\u001b[36m\u001b[1m4\u001b[22m\u001b[39m\u001b[36m\u001b[1m)\u001b[22m\u001b[39m\n",
       "│     │  │  └─ Y gate\n",
       "│     │  └─ \u001b[36m\u001b[1mput on (\u001b[22m\u001b[39m\u001b[36m\u001b[1m3\u001b[22m\u001b[39m\u001b[36m\u001b[1m)\u001b[22m\u001b[39m\n",
       "│     │     └─ Y gate\n",
       "│     └─ \u001b[34m\u001b[1mchain\u001b[22m\u001b[39m\n",
       "│        ├─ \u001b[36m\u001b[1mput on (\u001b[22m\u001b[39m\u001b[36m\u001b[1m4\u001b[22m\u001b[39m\u001b[36m\u001b[1m)\u001b[22m\u001b[39m\n",
       "│        │  └─ Z gate\n",
       "│        └─ \u001b[36m\u001b[1mput on (\u001b[22m\u001b[39m\u001b[36m\u001b[1m3\u001b[22m\u001b[39m\u001b[36m\u001b[1m)\u001b[22m\u001b[39m\n",
       "│           └─ Z gate\n",
       "└─ \u001b[34m\u001b[1msum\u001b[22m\u001b[39m\n",
       "   ├─ \u001b[34m\u001b[1mchain\u001b[22m\u001b[39m\n",
       "   │  ├─ \u001b[36m\u001b[1mput on (\u001b[22m\u001b[39m\u001b[36m\u001b[1m1\u001b[22m\u001b[39m\u001b[36m\u001b[1m)\u001b[22m\u001b[39m\n",
       "   │  │  └─ X gate\n",
       "   │  └─ \u001b[36m\u001b[1mput on (\u001b[22m\u001b[39m\u001b[36m\u001b[1m4\u001b[22m\u001b[39m\u001b[36m\u001b[1m)\u001b[22m\u001b[39m\n",
       "   │     └─ X gate\n",
       "   ├─ \u001b[34m\u001b[1mchain\u001b[22m\u001b[39m\n",
       "   │  ├─ \u001b[36m\u001b[1mput on (\u001b[22m\u001b[39m\u001b[36m\u001b[1m1\u001b[22m\u001b[39m\u001b[36m\u001b[1m)\u001b[22m\u001b[39m\n",
       "   │  │  └─ Y gate\n",
       "   │  └─ \u001b[36m\u001b[1mput on (\u001b[22m\u001b[39m\u001b[36m\u001b[1m4\u001b[22m\u001b[39m\u001b[36m\u001b[1m)\u001b[22m\u001b[39m\n",
       "   │     └─ Y gate\n",
       "   └─ \u001b[34m\u001b[1mchain\u001b[22m\u001b[39m\n",
       "      ├─ \u001b[36m\u001b[1mput on (\u001b[22m\u001b[39m\u001b[36m\u001b[1m1\u001b[22m\u001b[39m\u001b[36m\u001b[1m)\u001b[22m\u001b[39m\n",
       "      │  └─ Z gate\n",
       "      └─ \u001b[36m\u001b[1mput on (\u001b[22m\u001b[39m\u001b[36m\u001b[1m4\u001b[22m\u001b[39m\u001b[36m\u001b[1m)\u001b[22m\u001b[39m\n",
       "         └─ Z gate\n"
      ]
     },
     "execution_count": 3,
     "metadata": {},
     "output_type": "execute_result"
    }
   ],
   "source": [
    "# generate a Heisenberg Model Hamiltonian\n",
    "nbit = 4\n",
    "hami = heisenberg(nbit)"
   ]
  },
  {
   "cell_type": "markdown",
   "metadata": {
    "slideshow": {
     "slide_type": "slide"
    }
   },
   "source": [
    "## Matrix Representation of the model Hamiltonian"
   ]
  },
  {
   "cell_type": "code",
   "execution_count": 4,
   "metadata": {},
   "outputs": [
    {
     "data": {
      "text/plain": [
       "16×16 SparseArrays.SparseMatrixCSC{Complex{Float64},Int64} with 36 stored entries:\n",
       "  [1 ,  1]  =  4.0+0.0im\n",
       "  [3 ,  2]  =  2.0+0.0im\n",
       "  [9 ,  2]  =  2.0+0.0im\n",
       "  [2 ,  3]  =  2.0+0.0im\n",
       "  [5 ,  3]  =  2.0+0.0im\n",
       "  [6 ,  4]  =  2.0+0.0im\n",
       "  [11,  4]  =  2.0+0.0im\n",
       "  [3 ,  5]  =  2.0+0.0im\n",
       "  [9 ,  5]  =  2.0+0.0im\n",
       "  [4 ,  6]  =  2.0+0.0im\n",
       "  [6 ,  6]  =  -4.0+0.0im\n",
       "  [7 ,  6]  =  2.0+0.0im\n",
       "  ⋮\n",
       "  [10, 11]  =  2.0+0.0im\n",
       "  [11, 11]  =  -4.0+0.0im\n",
       "  [13, 11]  =  2.0+0.0im\n",
       "  [8 , 12]  =  2.0+0.0im\n",
       "  [14, 12]  =  2.0+0.0im\n",
       "  [6 , 13]  =  2.0+0.0im\n",
       "  [11, 13]  =  2.0+0.0im\n",
       "  [12, 14]  =  2.0+0.0im\n",
       "  [15, 14]  =  2.0+0.0im\n",
       "  [8 , 15]  =  2.0+0.0im\n",
       "  [14, 15]  =  2.0+0.0im\n",
       "  [16, 16]  =  4.0+0.0im"
      ]
     },
     "execution_count": 4,
     "metadata": {},
     "output_type": "execute_result"
    }
   ],
   "source": [
    "h = mat(hami)"
   ]
  },
  {
   "cell_type": "markdown",
   "metadata": {
    "slideshow": {
     "slide_type": "slide"
    }
   },
   "source": [
    "## classical variational eigensolver"
   ]
  },
  {
   "cell_type": "code",
   "execution_count": 13,
   "metadata": {},
   "outputs": [],
   "source": [
    "f(x) = real(x'*h*x/(x'*x))[]\n",
    "\n",
    "x = randn(ComplexF64, size(h, 2))\n",
    "α = 0.5\n",
    "\n",
    "loss_history = Float64[]\n",
    "for i = 1:200\n",
    "    g = f'(x)\n",
    "    x -= α .* g\n",
    "    push!(loss_history, f(x))\n",
    "end"
   ]
  },
  {
   "cell_type": "markdown",
   "metadata": {
    "slideshow": {
     "slide_type": "slide"
    }
   },
   "source": [
    "## Result"
   ]
  },
  {
   "cell_type": "code",
   "execution_count": 14,
   "metadata": {
    "scrolled": true,
    "slideshow": {
     "slide_type": "-"
    }
   },
   "outputs": [
    {
     "data": {
      "image/svg+xml": [
       "<?xml version=\"1.0\" encoding=\"utf-8\"?>\n",
       "<svg xmlns=\"http://www.w3.org/2000/svg\" xmlns:xlink=\"http://www.w3.org/1999/xlink\" width=\"600\" height=\"400\" viewBox=\"0 0 2400 1600\">\n",
       "<defs>\n",
       "  <clipPath id=\"clip1500\">\n",
       "    <rect x=\"0\" y=\"0\" width=\"2400\" height=\"1600\"/>\n",
       "  </clipPath>\n",
       "</defs>\n",
       "<polygon clip-path=\"url(#clip1500)\" points=\"\n",
       "0,1600 2400,1600 2400,0 0,0 \n",
       "  \" fill=\"#ffffff\" fill-rule=\"evenodd\" fill-opacity=\"1\"/>\n",
       "<defs>\n",
       "  <clipPath id=\"clip1501\">\n",
       "    <rect x=\"480\" y=\"0\" width=\"1681\" height=\"1600\"/>\n",
       "  </clipPath>\n",
       "</defs>\n",
       "<polygon clip-path=\"url(#clip1500)\" points=\"\n",
       "203.721,1425.62 2352.76,1425.62 2352.76,47.2441 203.721,47.2441 \n",
       "  \" fill=\"#ffffff\" fill-rule=\"evenodd\" fill-opacity=\"1\"/>\n",
       "<defs>\n",
       "  <clipPath id=\"clip1502\">\n",
       "    <rect x=\"203\" y=\"47\" width=\"2150\" height=\"1379\"/>\n",
       "  </clipPath>\n",
       "</defs>\n",
       "<polyline clip-path=\"url(#clip1502)\" style=\"stroke:#000000; stroke-width:2; stroke-opacity:0.1; fill:none\" points=\"\n",
       "  254.355,1425.62 254.355,47.2441 \n",
       "  \"/>\n",
       "<polyline clip-path=\"url(#clip1502)\" style=\"stroke:#000000; stroke-width:2; stroke-opacity:0.1; fill:none\" points=\"\n",
       "  763.749,1425.62 763.749,47.2441 \n",
       "  \"/>\n",
       "<polyline clip-path=\"url(#clip1502)\" style=\"stroke:#000000; stroke-width:2; stroke-opacity:0.1; fill:none\" points=\"\n",
       "  1273.14,1425.62 1273.14,47.2441 \n",
       "  \"/>\n",
       "<polyline clip-path=\"url(#clip1502)\" style=\"stroke:#000000; stroke-width:2; stroke-opacity:0.1; fill:none\" points=\"\n",
       "  1782.54,1425.62 1782.54,47.2441 \n",
       "  \"/>\n",
       "<polyline clip-path=\"url(#clip1502)\" style=\"stroke:#000000; stroke-width:2; stroke-opacity:0.1; fill:none\" points=\"\n",
       "  2291.93,1425.62 2291.93,47.2441 \n",
       "  \"/>\n",
       "<polyline clip-path=\"url(#clip1502)\" style=\"stroke:#000000; stroke-width:2; stroke-opacity:0.1; fill:none\" points=\"\n",
       "  203.721,1386.61 2352.76,1386.61 \n",
       "  \"/>\n",
       "<polyline clip-path=\"url(#clip1502)\" style=\"stroke:#000000; stroke-width:2; stroke-opacity:0.1; fill:none\" points=\"\n",
       "  203.721,1123.03 2352.76,1123.03 \n",
       "  \"/>\n",
       "<polyline clip-path=\"url(#clip1502)\" style=\"stroke:#000000; stroke-width:2; stroke-opacity:0.1; fill:none\" points=\"\n",
       "  203.721,859.447 2352.76,859.447 \n",
       "  \"/>\n",
       "<polyline clip-path=\"url(#clip1502)\" style=\"stroke:#000000; stroke-width:2; stroke-opacity:0.1; fill:none\" points=\"\n",
       "  203.721,595.867 2352.76,595.867 \n",
       "  \"/>\n",
       "<polyline clip-path=\"url(#clip1502)\" style=\"stroke:#000000; stroke-width:2; stroke-opacity:0.1; fill:none\" points=\"\n",
       "  203.721,332.287 2352.76,332.287 \n",
       "  \"/>\n",
       "<polyline clip-path=\"url(#clip1502)\" style=\"stroke:#000000; stroke-width:2; stroke-opacity:0.1; fill:none\" points=\"\n",
       "  203.721,68.7066 2352.76,68.7066 \n",
       "  \"/>\n",
       "<polyline clip-path=\"url(#clip1500)\" style=\"stroke:#000000; stroke-width:4; stroke-opacity:1; fill:none\" points=\"\n",
       "  203.721,1425.62 2352.76,1425.62 \n",
       "  \"/>\n",
       "<polyline clip-path=\"url(#clip1500)\" style=\"stroke:#000000; stroke-width:4; stroke-opacity:1; fill:none\" points=\"\n",
       "  203.721,1425.62 203.721,47.2441 \n",
       "  \"/>\n",
       "<polyline clip-path=\"url(#clip1500)\" style=\"stroke:#000000; stroke-width:4; stroke-opacity:1; fill:none\" points=\"\n",
       "  254.355,1425.62 254.355,1404.94 \n",
       "  \"/>\n",
       "<polyline clip-path=\"url(#clip1500)\" style=\"stroke:#000000; stroke-width:4; stroke-opacity:1; fill:none\" points=\"\n",
       "  763.749,1425.62 763.749,1404.94 \n",
       "  \"/>\n",
       "<polyline clip-path=\"url(#clip1500)\" style=\"stroke:#000000; stroke-width:4; stroke-opacity:1; fill:none\" points=\"\n",
       "  1273.14,1425.62 1273.14,1404.94 \n",
       "  \"/>\n",
       "<polyline clip-path=\"url(#clip1500)\" style=\"stroke:#000000; stroke-width:4; stroke-opacity:1; fill:none\" points=\"\n",
       "  1782.54,1425.62 1782.54,1404.94 \n",
       "  \"/>\n",
       "<polyline clip-path=\"url(#clip1500)\" style=\"stroke:#000000; stroke-width:4; stroke-opacity:1; fill:none\" points=\"\n",
       "  2291.93,1425.62 2291.93,1404.94 \n",
       "  \"/>\n",
       "<polyline clip-path=\"url(#clip1500)\" style=\"stroke:#000000; stroke-width:4; stroke-opacity:1; fill:none\" points=\"\n",
       "  203.721,1386.61 235.956,1386.61 \n",
       "  \"/>\n",
       "<polyline clip-path=\"url(#clip1500)\" style=\"stroke:#000000; stroke-width:4; stroke-opacity:1; fill:none\" points=\"\n",
       "  203.721,1123.03 235.956,1123.03 \n",
       "  \"/>\n",
       "<polyline clip-path=\"url(#clip1500)\" style=\"stroke:#000000; stroke-width:4; stroke-opacity:1; fill:none\" points=\"\n",
       "  203.721,859.447 235.956,859.447 \n",
       "  \"/>\n",
       "<polyline clip-path=\"url(#clip1500)\" style=\"stroke:#000000; stroke-width:4; stroke-opacity:1; fill:none\" points=\"\n",
       "  203.721,595.867 235.956,595.867 \n",
       "  \"/>\n",
       "<polyline clip-path=\"url(#clip1500)\" style=\"stroke:#000000; stroke-width:4; stroke-opacity:1; fill:none\" points=\"\n",
       "  203.721,332.287 235.956,332.287 \n",
       "  \"/>\n",
       "<polyline clip-path=\"url(#clip1500)\" style=\"stroke:#000000; stroke-width:4; stroke-opacity:1; fill:none\" points=\"\n",
       "  203.721,68.7066 235.956,68.7066 \n",
       "  \"/>\n",
       "<g clip-path=\"url(#clip1500)\">\n",
       "<text style=\"fill:#000000; fill-opacity:1; font-family:Arial,Helvetica Neue,Helvetica,sans-serif; font-size:48px; text-anchor:middle;\" transform=\"rotate(0, 254.355, 1479.62)\" x=\"254.355\" y=\"1479.62\">0</text>\n",
       "</g>\n",
       "<g clip-path=\"url(#clip1500)\">\n",
       "<text style=\"fill:#000000; fill-opacity:1; font-family:Arial,Helvetica Neue,Helvetica,sans-serif; font-size:48px; text-anchor:middle;\" transform=\"rotate(0, 763.749, 1479.62)\" x=\"763.749\" y=\"1479.62\">50</text>\n",
       "</g>\n",
       "<g clip-path=\"url(#clip1500)\">\n",
       "<text style=\"fill:#000000; fill-opacity:1; font-family:Arial,Helvetica Neue,Helvetica,sans-serif; font-size:48px; text-anchor:middle;\" transform=\"rotate(0, 1273.14, 1479.62)\" x=\"1273.14\" y=\"1479.62\">100</text>\n",
       "</g>\n",
       "<g clip-path=\"url(#clip1500)\">\n",
       "<text style=\"fill:#000000; fill-opacity:1; font-family:Arial,Helvetica Neue,Helvetica,sans-serif; font-size:48px; text-anchor:middle;\" transform=\"rotate(0, 1782.54, 1479.62)\" x=\"1782.54\" y=\"1479.62\">150</text>\n",
       "</g>\n",
       "<g clip-path=\"url(#clip1500)\">\n",
       "<text style=\"fill:#000000; fill-opacity:1; font-family:Arial,Helvetica Neue,Helvetica,sans-serif; font-size:48px; text-anchor:middle;\" transform=\"rotate(0, 2291.93, 1479.62)\" x=\"2291.93\" y=\"1479.62\">200</text>\n",
       "</g>\n",
       "<g clip-path=\"url(#clip1500)\">\n",
       "<text style=\"fill:#000000; fill-opacity:1; font-family:Arial,Helvetica Neue,Helvetica,sans-serif; font-size:48px; text-anchor:end;\" transform=\"rotate(0, 179.721, 1404.11)\" x=\"179.721\" y=\"1404.11\">-8</text>\n",
       "</g>\n",
       "<g clip-path=\"url(#clip1500)\">\n",
       "<text style=\"fill:#000000; fill-opacity:1; font-family:Arial,Helvetica Neue,Helvetica,sans-serif; font-size:48px; text-anchor:end;\" transform=\"rotate(0, 179.721, 1140.53)\" x=\"179.721\" y=\"1140.53\">-7</text>\n",
       "</g>\n",
       "<g clip-path=\"url(#clip1500)\">\n",
       "<text style=\"fill:#000000; fill-opacity:1; font-family:Arial,Helvetica Neue,Helvetica,sans-serif; font-size:48px; text-anchor:end;\" transform=\"rotate(0, 179.721, 876.947)\" x=\"179.721\" y=\"876.947\">-6</text>\n",
       "</g>\n",
       "<g clip-path=\"url(#clip1500)\">\n",
       "<text style=\"fill:#000000; fill-opacity:1; font-family:Arial,Helvetica Neue,Helvetica,sans-serif; font-size:48px; text-anchor:end;\" transform=\"rotate(0, 179.721, 613.367)\" x=\"179.721\" y=\"613.367\">-5</text>\n",
       "</g>\n",
       "<g clip-path=\"url(#clip1500)\">\n",
       "<text style=\"fill:#000000; fill-opacity:1; font-family:Arial,Helvetica Neue,Helvetica,sans-serif; font-size:48px; text-anchor:end;\" transform=\"rotate(0, 179.721, 349.787)\" x=\"179.721\" y=\"349.787\">-4</text>\n",
       "</g>\n",
       "<g clip-path=\"url(#clip1500)\">\n",
       "<text style=\"fill:#000000; fill-opacity:1; font-family:Arial,Helvetica Neue,Helvetica,sans-serif; font-size:48px; text-anchor:end;\" transform=\"rotate(0, 179.721, 86.2066)\" x=\"179.721\" y=\"86.2066\">-3</text>\n",
       "</g>\n",
       "<g clip-path=\"url(#clip1500)\">\n",
       "<text style=\"fill:#000000; fill-opacity:1; font-family:Arial,Helvetica Neue,Helvetica,sans-serif; font-size:66px; text-anchor:middle;\" transform=\"rotate(0, 1278.24, 1559.48)\" x=\"1278.24\" y=\"1559.48\">Iteration</text>\n",
       "</g>\n",
       "<g clip-path=\"url(#clip1500)\">\n",
       "<text style=\"fill:#000000; fill-opacity:1; font-family:Arial,Helvetica Neue,Helvetica,sans-serif; font-size:66px; text-anchor:middle;\" transform=\"rotate(-90, 89.2861, 736.431)\" x=\"89.2861\" y=\"736.431\">Energy</text>\n",
       "</g>\n",
       "<polyline clip-path=\"url(#clip1502)\" style=\"stroke:#009af9; stroke-width:4; stroke-opacity:1; fill:none\" points=\"\n",
       "  264.542,86.2547 274.73,746.44 284.918,1095.23 295.106,1249.04 305.294,1317.75 315.482,1350.81 325.67,1367.68 335.858,1376.54 346.046,1381.25 356.233,1383.75 \n",
       "  366.421,1385.09 376.609,1385.8 386.797,1386.18 396.985,1386.38 407.173,1386.49 417.361,1386.54 427.549,1386.57 437.737,1386.59 447.925,1386.6 458.112,1386.6 \n",
       "  468.3,1386.61 478.488,1386.61 488.676,1386.61 498.864,1386.61 509.052,1386.61 519.24,1386.61 529.428,1386.61 539.616,1386.61 549.804,1386.61 559.991,1386.61 \n",
       "  570.179,1386.61 580.367,1386.61 590.555,1386.61 600.743,1386.61 610.931,1386.61 621.119,1386.61 631.307,1386.61 641.495,1386.61 651.683,1386.61 661.87,1386.61 \n",
       "  672.058,1386.61 682.246,1386.61 692.434,1386.61 702.622,1386.61 712.81,1386.61 722.998,1386.61 733.186,1386.61 743.374,1386.61 753.562,1386.61 763.749,1386.61 \n",
       "  773.937,1386.61 784.125,1386.61 794.313,1386.61 804.501,1386.61 814.689,1386.61 824.877,1386.61 835.065,1386.61 845.253,1386.61 855.441,1386.61 865.628,1386.61 \n",
       "  875.816,1386.61 886.004,1386.61 896.192,1386.61 906.38,1386.61 916.568,1386.61 926.756,1386.61 936.944,1386.61 947.132,1386.61 957.319,1386.61 967.507,1386.61 \n",
       "  977.695,1386.61 987.883,1386.61 998.071,1386.61 1008.26,1386.61 1018.45,1386.61 1028.63,1386.61 1038.82,1386.61 1049.01,1386.61 1059.2,1386.61 1069.39,1386.61 \n",
       "  1079.57,1386.61 1089.76,1386.61 1099.95,1386.61 1110.14,1386.61 1120.33,1386.61 1130.51,1386.61 1140.7,1386.61 1150.89,1386.61 1161.08,1386.61 1171.27,1386.61 \n",
       "  1181.45,1386.61 1191.64,1386.61 1201.83,1386.61 1212.02,1386.61 1222.2,1386.61 1232.39,1386.61 1242.58,1386.61 1252.77,1386.61 1262.96,1386.61 1273.14,1386.61 \n",
       "  1283.33,1386.61 1293.52,1386.61 1303.71,1386.61 1313.9,1386.61 1324.08,1386.61 1334.27,1386.61 1344.46,1386.61 1354.65,1386.61 1364.84,1386.61 1375.02,1386.61 \n",
       "  1385.21,1386.61 1395.4,1386.61 1405.59,1386.61 1415.77,1386.61 1425.96,1386.61 1436.15,1386.61 1446.34,1386.61 1456.53,1386.61 1466.71,1386.61 1476.9,1386.61 \n",
       "  1487.09,1386.61 1497.28,1386.61 1507.47,1386.61 1517.65,1386.61 1527.84,1386.61 1538.03,1386.61 1548.22,1386.61 1558.41,1386.61 1568.59,1386.61 1578.78,1386.61 \n",
       "  1588.97,1386.61 1599.16,1386.61 1609.34,1386.61 1619.53,1386.61 1629.72,1386.61 1639.91,1386.61 1650.1,1386.61 1660.28,1386.61 1670.47,1386.61 1680.66,1386.61 \n",
       "  1690.85,1386.61 1701.04,1386.61 1711.22,1386.61 1721.41,1386.61 1731.6,1386.61 1741.79,1386.61 1751.98,1386.61 1762.16,1386.61 1772.35,1386.61 1782.54,1386.61 \n",
       "  1792.73,1386.61 1802.92,1386.61 1813.1,1386.61 1823.29,1386.61 1833.48,1386.61 1843.67,1386.61 1853.85,1386.61 1864.04,1386.61 1874.23,1386.61 1884.42,1386.61 \n",
       "  1894.61,1386.61 1904.79,1386.61 1914.98,1386.61 1925.17,1386.61 1935.36,1386.61 1945.55,1386.61 1955.73,1386.61 1965.92,1386.61 1976.11,1386.61 1986.3,1386.61 \n",
       "  1996.49,1386.61 2006.67,1386.61 2016.86,1386.61 2027.05,1386.61 2037.24,1386.61 2047.42,1386.61 2057.61,1386.61 2067.8,1386.61 2077.99,1386.61 2088.18,1386.61 \n",
       "  2098.36,1386.61 2108.55,1386.61 2118.74,1386.61 2128.93,1386.61 2139.12,1386.61 2149.3,1386.61 2159.49,1386.61 2169.68,1386.61 2179.87,1386.61 2190.06,1386.61 \n",
       "  2200.24,1386.61 2210.43,1386.61 2220.62,1386.61 2230.81,1386.61 2240.99,1386.61 2251.18,1386.61 2261.37,1386.61 2271.56,1386.61 2281.75,1386.61 2291.93,1386.61 \n",
       "  \n",
       "  \"/>\n",
       "</svg>\n"
      ]
     },
     "execution_count": 14,
     "metadata": {},
     "output_type": "execute_result"
    }
   ],
   "source": [
    "using Plots\n",
    "ax = plot(1:200, loss_history, xlabel=\"Iteration\", ylabel=\"Energy\", legend=nothing)"
   ]
  },
  {
   "cell_type": "markdown",
   "metadata": {
    "slideshow": {
     "slide_type": "slide"
    }
   },
   "source": [
    "## A Quantum Circuit Ansatz\n",
    "![_differentiable.png](images/_differential.png)"
   ]
  },
  {
   "cell_type": "code",
   "execution_count": 7,
   "metadata": {},
   "outputs": [
    {
     "data": {
      "text/plain": [
       "\u001b[36mnqubits: 4\u001b[39m\n",
       "\u001b[34m\u001b[1mchain\u001b[22m\u001b[39m\n",
       "├─ \u001b[34m\u001b[1mchain\u001b[22m\u001b[39m\n",
       "│  ├─ \u001b[34m\u001b[1mchain\u001b[22m\u001b[39m\n",
       "│  │  ├─ \u001b[36m\u001b[1mput on (\u001b[22m\u001b[39m\u001b[36m\u001b[1m1\u001b[22m\u001b[39m\u001b[36m\u001b[1m)\u001b[22m\u001b[39m\n",
       "│  │  │  └─ rot(X gate, 0.0)\n",
       "│  │  └─ \u001b[36m\u001b[1mput on (\u001b[22m\u001b[39m\u001b[36m\u001b[1m1\u001b[22m\u001b[39m\u001b[36m\u001b[1m)\u001b[22m\u001b[39m\n",
       "│  │     └─ rot(Z gate, 0.0)\n",
       "│  ├─ \u001b[34m\u001b[1mchain\u001b[22m\u001b[39m\n",
       "│  │  ├─ \u001b[36m\u001b[1mput on (\u001b[22m\u001b[39m\u001b[36m\u001b[1m2\u001b[22m\u001b[39m\u001b[36m\u001b[1m)\u001b[22m\u001b[39m\n",
       "│  │  │  └─ rot(X gate, 0.0)\n",
       "│  │  └─ \u001b[36m\u001b[1mput on (\u001b[22m\u001b[39m\u001b[36m\u001b[1m2\u001b[22m\u001b[39m\u001b[36m\u001b[1m)\u001b[22m\u001b[39m\n",
       "│  │     └─ rot(Z gate, 0.0)\n",
       "│  ├─ \u001b[34m\u001b[1mchain\u001b[22m\u001b[39m\n",
       "│  │  ├─ \u001b[36m\u001b[1mput on (\u001b[22m\u001b[39m\u001b[36m\u001b[1m3\u001b[22m\u001b[39m\u001b[36m\u001b[1m)\u001b[22m\u001b[39m\n",
       "│  │  │  └─ rot(X gate, 0.0)\n",
       "│  │  └─ \u001b[36m\u001b[1mput on (\u001b[22m\u001b[39m\u001b[36m\u001b[1m3\u001b[22m\u001b[39m\u001b[36m\u001b[1m)\u001b[22m\u001b[39m\n",
       "│  │     └─ rot(Z gate, 0.0)\n",
       "│  └─ \u001b[34m\u001b[1mchain\u001b[22m\u001b[39m\n",
       "│     ├─ \u001b[36m\u001b[1mput on (\u001b[22m\u001b[39m\u001b[36m\u001b[1m4\u001b[22m\u001b[39m\u001b[36m\u001b[1m)\u001b[22m\u001b[39m\n",
       "│     │  └─ rot(X gate, 0.0)\n",
       "│     └─ \u001b[36m\u001b[1mput on (\u001b[22m\u001b[39m\u001b[36m\u001b[1m4\u001b[22m\u001b[39m\u001b[36m\u001b[1m)\u001b[22m\u001b[39m\n",
       "│        └─ rot(Z gate, 0.0)\n",
       "├─ \u001b[34m\u001b[1mchain\u001b[22m\u001b[39m\n",
       "│  ├─ \u001b[31m\u001b[1mcontrol(\u001b[22m\u001b[39m\u001b[31m\u001b[1m1\u001b[22m\u001b[39m\u001b[31m\u001b[1m)\u001b[22m\u001b[39m\n",
       "│  │  └─ \u001b[37m\u001b[1m(2,)\u001b[22m\u001b[39m X gate\n",
       "│  ├─ \u001b[31m\u001b[1mcontrol(\u001b[22m\u001b[39m\u001b[31m\u001b[1m2\u001b[22m\u001b[39m\u001b[31m\u001b[1m)\u001b[22m\u001b[39m\n",
       "│  │  └─ \u001b[37m\u001b[1m(3,)\u001b[22m\u001b[39m X gate\n",
       "│  ├─ \u001b[31m\u001b[1mcontrol(\u001b[22m\u001b[39m\u001b[31m\u001b[1m3\u001b[22m\u001b[39m\u001b[31m\u001b[1m)\u001b[22m\u001b[39m\n",
       "│  │  └─ \u001b[37m\u001b[1m(4,)\u001b[22m\u001b[39m X gate\n",
       "│  └─ \u001b[31m\u001b[1mcontrol(\u001b[22m\u001b[39m\u001b[31m\u001b[1m4\u001b[22m\u001b[39m\u001b[31m\u001b[1m)\u001b[22m\u001b[39m\n",
       "│     └─ \u001b[37m\u001b[1m(1,)\u001b[22m\u001b[39m X gate\n",
       "├─ \u001b[34m\u001b[1mchain\u001b[22m\u001b[39m\n",
       "│  ├─ \u001b[34m\u001b[1mchain\u001b[22m\u001b[39m\n",
       "│  │  ├─ \u001b[36m\u001b[1mput on (\u001b[22m\u001b[39m\u001b[36m\u001b[1m1\u001b[22m\u001b[39m\u001b[36m\u001b[1m)\u001b[22m\u001b[39m\n",
       "│  │  │  └─ rot(Z gate, 0.0)\n",
       "│  │  ├─ \u001b[36m\u001b[1mput on (\u001b[22m\u001b[39m\u001b[36m\u001b[1m1\u001b[22m\u001b[39m\u001b[36m\u001b[1m)\u001b[22m\u001b[39m\n",
       "│  │  │  └─ rot(X gate, 0.0)\n",
       "│  │  └─ \u001b[36m\u001b[1mput on (\u001b[22m\u001b[39m\u001b[36m\u001b[1m1\u001b[22m\u001b[39m\u001b[36m\u001b[1m)\u001b[22m\u001b[39m\n",
       "│  │     └─ rot(Z gate, 0.0)\n",
       "│  ├─ \u001b[34m\u001b[1mchain\u001b[22m\u001b[39m\n",
       "│  │  ├─ \u001b[36m\u001b[1mput on (\u001b[22m\u001b[39m\u001b[36m\u001b[1m2\u001b[22m\u001b[39m\u001b[36m\u001b[1m)\u001b[22m\u001b[39m\n",
       "│  │  │  └─ rot(Z gate, 0.0)\n",
       "│  │  ├─ \u001b[36m\u001b[1mput on (\u001b[22m\u001b[39m\u001b[36m\u001b[1m2\u001b[22m\u001b[39m\u001b[36m\u001b[1m)\u001b[22m\u001b[39m\n",
       "│  │  │  └─ rot(X gate, 0.0)\n",
       "│  │  └─ \u001b[36m\u001b[1mput on (\u001b[22m\u001b[39m\u001b[36m\u001b[1m2\u001b[22m\u001b[39m\u001b[36m\u001b[1m)\u001b[22m\u001b[39m\n",
       "│  │     └─ rot(Z gate, 0.0)\n",
       "│  ├─ \u001b[34m\u001b[1mchain\u001b[22m\u001b[39m\n",
       "│  │  ├─ \u001b[36m\u001b[1mput on (\u001b[22m\u001b[39m\u001b[36m\u001b[1m3\u001b[22m\u001b[39m\u001b[36m\u001b[1m)\u001b[22m\u001b[39m\n",
       "│  │  │  └─ rot(Z gate, 0.0)\n",
       "│  │  ├─ \u001b[36m\u001b[1mput on (\u001b[22m\u001b[39m\u001b[36m\u001b[1m3\u001b[22m\u001b[39m\u001b[36m\u001b[1m)\u001b[22m\u001b[39m\n",
       "│  │  │  └─ rot(X gate, 0.0)\n",
       "│  │  └─ \u001b[36m\u001b[1mput on (\u001b[22m\u001b[39m\u001b[36m\u001b[1m3\u001b[22m\u001b[39m\u001b[36m\u001b[1m)\u001b[22m\u001b[39m\n",
       "│  │     └─ rot(Z gate, 0.0)\n",
       "│  └─ \u001b[34m\u001b[1mchain\u001b[22m\u001b[39m\n",
       "│     ├─ \u001b[36m\u001b[1mput on (\u001b[22m\u001b[39m\u001b[36m\u001b[1m4\u001b[22m\u001b[39m\u001b[36m\u001b[1m)\u001b[22m\u001b[39m\n",
       "│     │  └─ rot(Z gate, 0.0)\n",
       "│     ├─ \u001b[36m\u001b[1mput on (\u001b[22m\u001b[39m\u001b[36m\u001b[1m4\u001b[22m\u001b[39m\u001b[36m\u001b[1m)\u001b[22m\u001b[39m\n",
       "│     │  └─ rot(X gate, 0.0)\n",
       "│     └─ \u001b[36m\u001b[1mput on (\u001b[22m\u001b[39m\u001b[36m\u001b[1m4\u001b[22m\u001b[39m\u001b[36m\u001b[1m)\u001b[22m\u001b[39m\n",
       "│        └─ rot(Z gate, 0.0)\n",
       "├─ \u001b[34m\u001b[1mchain\u001b[22m\u001b[39m\n",
       "│  ├─ \u001b[31m\u001b[1mcontrol(\u001b[22m\u001b[39m\u001b[31m\u001b[1m1\u001b[22m\u001b[39m\u001b[31m\u001b[1m)\u001b[22m\u001b[39m\n",
       "│  │  └─ \u001b[37m\u001b[1m(2,)\u001b[22m\u001b[39m X gate\n",
       "│  ├─ \u001b[31m\u001b[1mcontrol(\u001b[22m\u001b[39m\u001b[31m\u001b[1m2\u001b[22m\u001b[39m\u001b[31m\u001b[1m)\u001b[22m\u001b[39m\n",
       "│  │  └─ \u001b[37m\u001b[1m(3,)\u001b[22m\u001b[39m X gate\n",
       "│  ├─ \u001b[31m\u001b[1mcontrol(\u001b[22m\u001b[39m\u001b[31m\u001b[1m3\u001b[22m\u001b[39m\u001b[31m\u001b[1m)\u001b[22m\u001b[39m\n",
       "│  │  └─ \u001b[37m\u001b[1m(4,)\u001b[22m\u001b[39m X gate\n",
       "│  └─ \u001b[31m\u001b[1mcontrol(\u001b[22m\u001b[39m\u001b[31m\u001b[1m4\u001b[22m\u001b[39m\u001b[31m\u001b[1m)\u001b[22m\u001b[39m\n",
       "│     └─ \u001b[37m\u001b[1m(1,)\u001b[22m\u001b[39m X gate\n",
       "└─ \u001b[34m\u001b[1mchain\u001b[22m\u001b[39m\n",
       "   ├─ \u001b[34m\u001b[1mchain\u001b[22m\u001b[39m\n",
       "   │  ├─ \u001b[36m\u001b[1mput on (\u001b[22m\u001b[39m\u001b[36m\u001b[1m1\u001b[22m\u001b[39m\u001b[36m\u001b[1m)\u001b[22m\u001b[39m\n",
       "   │  │  └─ rot(Z gate, 0.0)\n",
       "   │  └─ \u001b[36m\u001b[1mput on (\u001b[22m\u001b[39m\u001b[36m\u001b[1m1\u001b[22m\u001b[39m\u001b[36m\u001b[1m)\u001b[22m\u001b[39m\n",
       "   │     └─ rot(X gate, 0.0)\n",
       "   ├─ \u001b[34m\u001b[1mchain\u001b[22m\u001b[39m\n",
       "   │  ├─ \u001b[36m\u001b[1mput on (\u001b[22m\u001b[39m\u001b[36m\u001b[1m2\u001b[22m\u001b[39m\u001b[36m\u001b[1m)\u001b[22m\u001b[39m\n",
       "   │  │  └─ rot(Z gate, 0.0)\n",
       "   │  └─ \u001b[36m\u001b[1mput on (\u001b[22m\u001b[39m\u001b[36m\u001b[1m2\u001b[22m\u001b[39m\u001b[36m\u001b[1m)\u001b[22m\u001b[39m\n",
       "   │     └─ rot(X gate, 0.0)\n",
       "   ├─ \u001b[34m\u001b[1mchain\u001b[22m\u001b[39m\n",
       "   │  ├─ \u001b[36m\u001b[1mput on (\u001b[22m\u001b[39m\u001b[36m\u001b[1m3\u001b[22m\u001b[39m\u001b[36m\u001b[1m)\u001b[22m\u001b[39m\n",
       "   │  │  └─ rot(Z gate, 0.0)\n",
       "   │  └─ \u001b[36m\u001b[1mput on (\u001b[22m\u001b[39m\u001b[36m\u001b[1m3\u001b[22m\u001b[39m\u001b[36m\u001b[1m)\u001b[22m\u001b[39m\n",
       "   │     └─ rot(X gate, 0.0)\n",
       "   └─ \u001b[34m\u001b[1mchain\u001b[22m\u001b[39m\n",
       "      ├─ \u001b[36m\u001b[1mput on (\u001b[22m\u001b[39m\u001b[36m\u001b[1m4\u001b[22m\u001b[39m\u001b[36m\u001b[1m)\u001b[22m\u001b[39m\n",
       "      │  └─ rot(Z gate, 0.0)\n",
       "      └─ \u001b[36m\u001b[1mput on (\u001b[22m\u001b[39m\u001b[36m\u001b[1m4\u001b[22m\u001b[39m\u001b[36m\u001b[1m)\u001b[22m\u001b[39m\n",
       "         └─ rot(X gate, 0.0)\n"
      ]
     },
     "execution_count": 7,
     "metadata": {},
     "output_type": "execute_result"
    }
   ],
   "source": [
    "# Generate a circuit as a wave function ansatz\n",
    "circuit = random_diff_circuit(nbit, 2, pair_ring(nbit))"
   ]
  },
  {
   "cell_type": "markdown",
   "metadata": {
    "slideshow": {
     "slide_type": "slide"
    }
   },
   "source": [
    "## The loss function\n",
    "\n",
    "Note the `apply!` function is inplace, is a buggy feature in `Zygote`, we use `mat` instead."
   ]
  },
  {
   "cell_type": "code",
   "execution_count": 8,
   "metadata": {},
   "outputs": [
    {
     "data": {
      "text/plain": [
       "energy (generic function with 1 method)"
      ]
     },
     "execution_count": 8,
     "metadata": {},
     "output_type": "execute_result"
    }
   ],
   "source": [
    "v0 = statevec(zero_state(nbit))\n",
    "function energy(circuit)\n",
    "    v = mat(circuit) * v0\n",
    "    (v'* h * v)[] |> real\n",
    "end"
   ]
  },
  {
   "cell_type": "markdown",
   "metadata": {
    "slideshow": {
     "slide_type": "slide"
    }
   },
   "source": [
    "## Train with Adam optimizer"
   ]
  },
  {
   "cell_type": "code",
   "execution_count": 9,
   "metadata": {},
   "outputs": [
    {
     "data": {
      "text/plain": [
       "train! (generic function with 1 method)"
      ]
     },
     "execution_count": 9,
     "metadata": {},
     "output_type": "execute_result"
    }
   ],
   "source": [
    "using Flux: ADAM, Optimise\n",
    "function train!(lossfunc, circuit, optimizer; maxiter::Int=200)\n",
    "    dispatch!(circuit, :random)\n",
    "    params = parameters(circuit)\n",
    "    loss_history = Float64[]\n",
    "    for i = 1:maxiter\n",
    "        # collect gradients from returned structured data\n",
    "        grad = collect_gradients(lossfunc'(circuit))\n",
    "        Optimise.update!(optimizer, params, grad)\n",
    "        dispatch!(circuit, params)\n",
    "        eng = lossfunc(circuit)\n",
    "        push!(loss_history, eng)\n",
    "    end\n",
    "    loss_history\n",
    "end"
   ]
  },
  {
   "cell_type": "markdown",
   "metadata": {
    "slideshow": {
     "slide_type": "slide"
    }
   },
   "source": [
    "## Training Result"
   ]
  },
  {
   "cell_type": "code",
   "execution_count": 10,
   "metadata": {},
   "outputs": [
    {
     "name": "stdout",
     "output_type": "stream",
     "text": [
      "4 site Heisenberg model, exact ground state energy = -8.0\n"
     ]
    }
   ],
   "source": [
    "using Random\n",
    "Random.seed!(42)\n",
    "EG = eigvals(Matrix(h))[1]\n",
    "println(\"$nbit site Heisenberg model, exact ground state energy = $EG\")\n",
    "loss_history = train!(energy, circuit, ADAM(0.1); maxiter=200);"
   ]
  },
  {
   "cell_type": "code",
   "execution_count": 11,
   "metadata": {},
   "outputs": [
    {
     "data": {
      "image/svg+xml": [
       "<?xml version=\"1.0\" encoding=\"utf-8\"?>\n",
       "<svg xmlns=\"http://www.w3.org/2000/svg\" xmlns:xlink=\"http://www.w3.org/1999/xlink\" width=\"600\" height=\"400\" viewBox=\"0 0 2400 1600\">\n",
       "<defs>\n",
       "  <clipPath id=\"clip1100\">\n",
       "    <rect x=\"0\" y=\"0\" width=\"2400\" height=\"1600\"/>\n",
       "  </clipPath>\n",
       "</defs>\n",
       "<polygon clip-path=\"url(#clip1100)\" points=\"\n",
       "0,1600 2400,1600 2400,0 0,0 \n",
       "  \" fill=\"#ffffff\" fill-rule=\"evenodd\" fill-opacity=\"1\"/>\n",
       "<defs>\n",
       "  <clipPath id=\"clip1101\">\n",
       "    <rect x=\"480\" y=\"0\" width=\"1681\" height=\"1600\"/>\n",
       "  </clipPath>\n",
       "</defs>\n",
       "<polygon clip-path=\"url(#clip1100)\" points=\"\n",
       "203.721,1425.62 2352.76,1425.62 2352.76,47.2441 203.721,47.2441 \n",
       "  \" fill=\"#ffffff\" fill-rule=\"evenodd\" fill-opacity=\"1\"/>\n",
       "<defs>\n",
       "  <clipPath id=\"clip1102\">\n",
       "    <rect x=\"203\" y=\"47\" width=\"2150\" height=\"1379\"/>\n",
       "  </clipPath>\n",
       "</defs>\n",
       "<polyline clip-path=\"url(#clip1102)\" style=\"stroke:#000000; stroke-width:2; stroke-opacity:0.1; fill:none\" points=\"\n",
       "  254.355,1425.62 254.355,47.2441 \n",
       "  \"/>\n",
       "<polyline clip-path=\"url(#clip1102)\" style=\"stroke:#000000; stroke-width:2; stroke-opacity:0.1; fill:none\" points=\"\n",
       "  763.749,1425.62 763.749,47.2441 \n",
       "  \"/>\n",
       "<polyline clip-path=\"url(#clip1102)\" style=\"stroke:#000000; stroke-width:2; stroke-opacity:0.1; fill:none\" points=\"\n",
       "  1273.14,1425.62 1273.14,47.2441 \n",
       "  \"/>\n",
       "<polyline clip-path=\"url(#clip1102)\" style=\"stroke:#000000; stroke-width:2; stroke-opacity:0.1; fill:none\" points=\"\n",
       "  1782.54,1425.62 1782.54,47.2441 \n",
       "  \"/>\n",
       "<polyline clip-path=\"url(#clip1102)\" style=\"stroke:#000000; stroke-width:2; stroke-opacity:0.1; fill:none\" points=\"\n",
       "  2291.93,1425.62 2291.93,47.2441 \n",
       "  \"/>\n",
       "<polyline clip-path=\"url(#clip1102)\" style=\"stroke:#000000; stroke-width:2; stroke-opacity:0.1; fill:none\" points=\"\n",
       "  203.721,1386.61 2352.76,1386.61 \n",
       "  \"/>\n",
       "<polyline clip-path=\"url(#clip1102)\" style=\"stroke:#000000; stroke-width:2; stroke-opacity:0.1; fill:none\" points=\"\n",
       "  203.721,1049.9 2352.76,1049.9 \n",
       "  \"/>\n",
       "<polyline clip-path=\"url(#clip1102)\" style=\"stroke:#000000; stroke-width:2; stroke-opacity:0.1; fill:none\" points=\"\n",
       "  203.721,713.191 2352.76,713.191 \n",
       "  \"/>\n",
       "<polyline clip-path=\"url(#clip1102)\" style=\"stroke:#000000; stroke-width:2; stroke-opacity:0.1; fill:none\" points=\"\n",
       "  203.721,376.483 2352.76,376.483 \n",
       "  \"/>\n",
       "<polyline clip-path=\"url(#clip1100)\" style=\"stroke:#000000; stroke-width:4; stroke-opacity:1; fill:none\" points=\"\n",
       "  203.721,1425.62 2352.76,1425.62 \n",
       "  \"/>\n",
       "<polyline clip-path=\"url(#clip1100)\" style=\"stroke:#000000; stroke-width:4; stroke-opacity:1; fill:none\" points=\"\n",
       "  203.721,1425.62 203.721,47.2441 \n",
       "  \"/>\n",
       "<polyline clip-path=\"url(#clip1100)\" style=\"stroke:#000000; stroke-width:4; stroke-opacity:1; fill:none\" points=\"\n",
       "  254.355,1425.62 254.355,1404.94 \n",
       "  \"/>\n",
       "<polyline clip-path=\"url(#clip1100)\" style=\"stroke:#000000; stroke-width:4; stroke-opacity:1; fill:none\" points=\"\n",
       "  763.749,1425.62 763.749,1404.94 \n",
       "  \"/>\n",
       "<polyline clip-path=\"url(#clip1100)\" style=\"stroke:#000000; stroke-width:4; stroke-opacity:1; fill:none\" points=\"\n",
       "  1273.14,1425.62 1273.14,1404.94 \n",
       "  \"/>\n",
       "<polyline clip-path=\"url(#clip1100)\" style=\"stroke:#000000; stroke-width:4; stroke-opacity:1; fill:none\" points=\"\n",
       "  1782.54,1425.62 1782.54,1404.94 \n",
       "  \"/>\n",
       "<polyline clip-path=\"url(#clip1100)\" style=\"stroke:#000000; stroke-width:4; stroke-opacity:1; fill:none\" points=\"\n",
       "  2291.93,1425.62 2291.93,1404.94 \n",
       "  \"/>\n",
       "<polyline clip-path=\"url(#clip1100)\" style=\"stroke:#000000; stroke-width:4; stroke-opacity:1; fill:none\" points=\"\n",
       "  203.721,1386.61 235.956,1386.61 \n",
       "  \"/>\n",
       "<polyline clip-path=\"url(#clip1100)\" style=\"stroke:#000000; stroke-width:4; stroke-opacity:1; fill:none\" points=\"\n",
       "  203.721,1049.9 235.956,1049.9 \n",
       "  \"/>\n",
       "<polyline clip-path=\"url(#clip1100)\" style=\"stroke:#000000; stroke-width:4; stroke-opacity:1; fill:none\" points=\"\n",
       "  203.721,713.191 235.956,713.191 \n",
       "  \"/>\n",
       "<polyline clip-path=\"url(#clip1100)\" style=\"stroke:#000000; stroke-width:4; stroke-opacity:1; fill:none\" points=\"\n",
       "  203.721,376.483 235.956,376.483 \n",
       "  \"/>\n",
       "<g clip-path=\"url(#clip1100)\">\n",
       "<text style=\"fill:#000000; fill-opacity:1; font-family:Arial,Helvetica Neue,Helvetica,sans-serif; font-size:48px; text-anchor:middle;\" transform=\"rotate(0, 254.355, 1479.62)\" x=\"254.355\" y=\"1479.62\">0</text>\n",
       "</g>\n",
       "<g clip-path=\"url(#clip1100)\">\n",
       "<text style=\"fill:#000000; fill-opacity:1; font-family:Arial,Helvetica Neue,Helvetica,sans-serif; font-size:48px; text-anchor:middle;\" transform=\"rotate(0, 763.749, 1479.62)\" x=\"763.749\" y=\"1479.62\">50</text>\n",
       "</g>\n",
       "<g clip-path=\"url(#clip1100)\">\n",
       "<text style=\"fill:#000000; fill-opacity:1; font-family:Arial,Helvetica Neue,Helvetica,sans-serif; font-size:48px; text-anchor:middle;\" transform=\"rotate(0, 1273.14, 1479.62)\" x=\"1273.14\" y=\"1479.62\">100</text>\n",
       "</g>\n",
       "<g clip-path=\"url(#clip1100)\">\n",
       "<text style=\"fill:#000000; fill-opacity:1; font-family:Arial,Helvetica Neue,Helvetica,sans-serif; font-size:48px; text-anchor:middle;\" transform=\"rotate(0, 1782.54, 1479.62)\" x=\"1782.54\" y=\"1479.62\">150</text>\n",
       "</g>\n",
       "<g clip-path=\"url(#clip1100)\">\n",
       "<text style=\"fill:#000000; fill-opacity:1; font-family:Arial,Helvetica Neue,Helvetica,sans-serif; font-size:48px; text-anchor:middle;\" transform=\"rotate(0, 2291.93, 1479.62)\" x=\"2291.93\" y=\"1479.62\">200</text>\n",
       "</g>\n",
       "<g clip-path=\"url(#clip1100)\">\n",
       "<text style=\"fill:#000000; fill-opacity:1; font-family:Arial,Helvetica Neue,Helvetica,sans-serif; font-size:48px; text-anchor:end;\" transform=\"rotate(0, 179.721, 1404.11)\" x=\"179.721\" y=\"1404.11\">-8</text>\n",
       "</g>\n",
       "<g clip-path=\"url(#clip1100)\">\n",
       "<text style=\"fill:#000000; fill-opacity:1; font-family:Arial,Helvetica Neue,Helvetica,sans-serif; font-size:48px; text-anchor:end;\" transform=\"rotate(0, 179.721, 1067.4)\" x=\"179.721\" y=\"1067.4\">-6</text>\n",
       "</g>\n",
       "<g clip-path=\"url(#clip1100)\">\n",
       "<text style=\"fill:#000000; fill-opacity:1; font-family:Arial,Helvetica Neue,Helvetica,sans-serif; font-size:48px; text-anchor:end;\" transform=\"rotate(0, 179.721, 730.691)\" x=\"179.721\" y=\"730.691\">-4</text>\n",
       "</g>\n",
       "<g clip-path=\"url(#clip1100)\">\n",
       "<text style=\"fill:#000000; fill-opacity:1; font-family:Arial,Helvetica Neue,Helvetica,sans-serif; font-size:48px; text-anchor:end;\" transform=\"rotate(0, 179.721, 393.983)\" x=\"179.721\" y=\"393.983\">-2</text>\n",
       "</g>\n",
       "<g clip-path=\"url(#clip1100)\">\n",
       "<text style=\"fill:#000000; fill-opacity:1; font-family:Arial,Helvetica Neue,Helvetica,sans-serif; font-size:66px; text-anchor:middle;\" transform=\"rotate(0, 1278.24, 1559.48)\" x=\"1278.24\" y=\"1559.48\">Iteration</text>\n",
       "</g>\n",
       "<g clip-path=\"url(#clip1100)\">\n",
       "<text style=\"fill:#000000; fill-opacity:1; font-family:Arial,Helvetica Neue,Helvetica,sans-serif; font-size:66px; text-anchor:middle;\" transform=\"rotate(-90, 89.2861, 736.431)\" x=\"89.2861\" y=\"736.431\">Energy</text>\n",
       "</g>\n",
       "<polyline clip-path=\"url(#clip1102)\" style=\"stroke:#009af9; stroke-width:4; stroke-opacity:1; fill:none\" points=\"\n",
       "  264.542,86.2547 274.73,307.321 284.918,502.726 295.106,637.673 305.294,725.857 315.482,809.61 325.67,895.434 335.858,958.604 346.046,1004.23 356.233,1051.77 \n",
       "  366.421,1090.71 376.609,1105.71 386.797,1103.09 396.985,1101.31 407.173,1108.31 417.361,1118.73 427.549,1126.34 437.737,1130.72 447.925,1135.08 458.112,1142.77 \n",
       "  468.3,1155.7 478.488,1173.24 488.676,1191.38 498.864,1204.79 509.052,1212.46 519.24,1219.55 529.428,1231.38 539.616,1247.74 549.804,1264.7 559.991,1278.94 \n",
       "  570.179,1289.07 580.367,1294.74 590.555,1296.56 600.743,1296.59 610.931,1297.29 621.119,1299.92 631.307,1304.16 641.495,1309.08 651.683,1314 661.87,1318.39 \n",
       "  672.058,1321.59 682.246,1323.17 692.434,1323.39 702.622,1322.94 712.81,1322.2 722.998,1321.34 733.186,1320.75 743.374,1320.98 753.562,1322.06 763.749,1323.36 \n",
       "  773.937,1324.18 784.125,1324.48 794.313,1324.74 804.501,1325.32 814.689,1326.24 824.877,1327.32 835.065,1328.44 845.253,1329.54 855.441,1330.69 865.628,1331.99 \n",
       "  875.816,1333.46 886.004,1334.89 896.192,1336.1 906.38,1337.16 916.568,1338.33 926.756,1339.75 936.944,1341.43 947.132,1343.31 957.319,1345.39 967.507,1347.64 \n",
       "  977.695,1350 987.883,1352.4 998.071,1354.83 1008.26,1357.28 1018.45,1359.74 1028.63,1362.24 1038.82,1364.73 1049.01,1367.14 1059.2,1369.39 1069.39,1371.45 \n",
       "  1079.57,1373.32 1089.76,1375.03 1099.95,1376.62 1110.14,1378.09 1120.33,1379.43 1130.51,1380.61 1140.7,1381.65 1150.89,1382.57 1161.08,1383.38 1171.27,1384.06 \n",
       "  1181.45,1384.62 1191.64,1385.05 1201.83,1385.36 1212.02,1385.57 1222.2,1385.72 1232.39,1385.83 1242.58,1385.91 1252.77,1385.95 1262.96,1385.98 1273.14,1385.99 \n",
       "  1283.33,1385.98 1293.52,1385.98 1303.71,1385.98 1313.9,1385.99 1324.08,1386 1334.27,1386.02 1344.46,1386.03 1354.65,1386.03 1364.84,1386.03 1375.02,1386.03 \n",
       "  1385.21,1386.04 1395.4,1386.06 1405.59,1386.09 1415.77,1386.12 1425.96,1386.16 1436.15,1386.2 1446.34,1386.25 1456.53,1386.3 1466.71,1386.35 1476.9,1386.4 \n",
       "  1487.09,1386.44 1497.28,1386.48 1507.47,1386.52 1517.65,1386.55 1527.84,1386.57 1538.03,1386.58 1548.22,1386.59 1558.41,1386.6 1568.59,1386.6 1578.78,1386.6 \n",
       "  1588.97,1386.59 1599.16,1386.59 1609.34,1386.59 1619.53,1386.58 1629.72,1386.58 1639.91,1386.58 1650.1,1386.58 1660.28,1386.58 1670.47,1386.59 1680.66,1386.59 \n",
       "  1690.85,1386.59 1701.04,1386.59 1711.22,1386.59 1721.41,1386.59 1731.6,1386.6 1741.79,1386.6 1751.98,1386.6 1762.16,1386.6 1772.35,1386.6 1782.54,1386.6 \n",
       "  1792.73,1386.6 1802.92,1386.6 1813.1,1386.6 1823.29,1386.6 1833.48,1386.6 1843.67,1386.6 1853.85,1386.6 1864.04,1386.61 1874.23,1386.61 1884.42,1386.61 \n",
       "  1894.61,1386.61 1904.79,1386.61 1914.98,1386.61 1925.17,1386.61 1935.36,1386.61 1945.55,1386.61 1955.73,1386.61 1965.92,1386.61 1976.11,1386.61 1986.3,1386.61 \n",
       "  1996.49,1386.61 2006.67,1386.61 2016.86,1386.61 2027.05,1386.61 2037.24,1386.61 2047.42,1386.61 2057.61,1386.61 2067.8,1386.61 2077.99,1386.61 2088.18,1386.61 \n",
       "  2098.36,1386.61 2108.55,1386.61 2118.74,1386.61 2128.93,1386.61 2139.12,1386.61 2149.3,1386.61 2159.49,1386.61 2169.68,1386.61 2179.87,1386.61 2190.06,1386.61 \n",
       "  2200.24,1386.61 2210.43,1386.61 2220.62,1386.61 2230.81,1386.61 2240.99,1386.61 2251.18,1386.61 2261.37,1386.61 2271.56,1386.61 2281.75,1386.61 2291.93,1386.61 \n",
       "  \n",
       "  \"/>\n",
       "</svg>\n"
      ]
     },
     "execution_count": 11,
     "metadata": {},
     "output_type": "execute_result"
    }
   ],
   "source": [
    "ax = plot(1:200, loss_history, xlabel=\"Iteration\", ylabel=\"Energy\", legend=nothing)"
   ]
  }
 ],
 "metadata": {
  "@webio": {
   "lastCommId": null,
   "lastKernelId": null
  },
  "celltoolbar": "Slideshow",
  "kernelspec": {
   "display_name": "Julia 1.1.0",
   "language": "julia",
   "name": "julia-1.1"
  },
  "language_info": {
   "file_extension": ".jl",
   "mimetype": "application/julia",
   "name": "julia",
   "version": "1.1.0"
  }
 },
 "nbformat": 4,
 "nbformat_minor": 2
}
